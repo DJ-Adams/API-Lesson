{
 "cells": [
  {
   "cell_type": "markdown",
   "id": "ef810336-bba0-436c-a593-70b46c8611cf",
   "metadata": {},
   "source": [
    "# Efficient Yelp API Calls\n",
    "\n",
    "- Darlene Adams"
   ]
  },
  {
   "cell_type": "code",
   "execution_count": 1,
   "id": "b968179c-bc57-4e9f-b8dd-08bbc0b97bb7",
   "metadata": {},
   "outputs": [],
   "source": [
    "# Standard Imports\n",
    "import numpy as np\n",
    "import pandas as pd\n",
    "import matplotlib.pyplot as plt\n",
    "import seaborn as sns\n",
    "# Additional Imports\n",
    "import os, json, math, time\n",
    "from yelpapi import YelpAPI\n",
    "from tqdm.notebook import tqdm_notebook"
   ]
  },
  {
   "cell_type": "code",
   "execution_count": 2,
   "id": "28ac28a5-2e73-40a1-ae1b-921ccad4982f",
   "metadata": {},
   "outputs": [],
   "source": [
    "# Load API Credentials\n",
    "with open('/Users/dmusl/.secret/yelp_api.json') as f:\n",
    "    login = json.load(f)"
   ]
  },
  {
   "cell_type": "code",
   "execution_count": 3,
   "id": "5af38bf6-0197-4cd5-88d6-28b68f6f848f",
   "metadata": {},
   "outputs": [],
   "source": [
    "# Instantiate YelpAPI Variable\n",
    "yelp_api = YelpAPI(login['api-key'], timeout_s=5.0)"
   ]
  },
  {
   "cell_type": "code",
   "execution_count": 4,
   "id": "c2cd683a-72c0-4880-9ce6-e64d7a938be9",
   "metadata": {},
   "outputs": [],
   "source": [
    "# set our API call parameters and filename before the first call\n",
    "location = 'Cleveland, OH 44135'\n",
    "term = 'vegan'"
   ]
  },
  {
   "cell_type": "code",
   "execution_count": 5,
   "id": "72e729ea-8252-4379-b523-d82f971738d9",
   "metadata": {},
   "outputs": [
    {
     "data": {
      "text/plain": [
       "'Data/results_in_progress_cleveland_vegan.json'"
      ]
     },
     "execution_count": 5,
     "metadata": {},
     "output_type": "execute_result"
    }
   ],
   "source": [
    "# Specifying JSON_FILE filename (can include a folder)\n",
    "# include the search terms in the filename\n",
    "JSON_FILE = \"Data/results_in_progress_cleveland_vegan.json\"\n",
    "JSON_FILE"
   ]
  },
  {
   "cell_type": "code",
   "execution_count": 8,
   "id": "d6788e4b-9f62-4929-83f3-e684396d3dfa",
   "metadata": {},
   "outputs": [
    {
     "name": "stdout",
     "output_type": "stream",
     "text": [
      "[i] Data/results_in_progress_cleveland_vegan.json already exists.\n"
     ]
    }
   ],
   "source": [
    "## Check if JSON_FILE exists\n",
    "file_exists = os.path.isfile(JSON_FILE)\n",
    "## If it does not exist: \n",
    "if file_exists == False:\n",
    "    \n",
    "    ## CREATE ANY NEEDED FOLDERS\n",
    "    # Get the Folder Name only\n",
    "    folder = os.path.dirname(JSON_FILE)\n",
    "    ## If JSON_FILE included a folder:\n",
    "    if len(folder)>0:\n",
    "        # create the folder\n",
    "        os.makedirs(folder,exist_ok=True)\n",
    "        \n",
    "        \n",
    "    ## INFORM USER AND SAVE EMPTY LIST\n",
    "    print(f'[i] {JSON_FILE} not found. Saving empty list to file.')\n",
    "    \n",
    "    \n",
    "    # save an empty list\n",
    "    with open(JSON_FILE,'w') as f:\n",
    "        json.dump([],f)  \n",
    "# If it exists, inform user\n",
    "else:\n",
    "    print(f\"[i] {JSON_FILE} already exists.\")"
   ]
  },
  {
   "cell_type": "code",
   "execution_count": 7,
   "id": "618b0b76-178d-4230-b4f8-ce1d6b4e26f8",
   "metadata": {},
   "outputs": [
    {
     "name": "stdout",
     "output_type": "stream",
     "text": [
      "- 0 previous results found.\n"
     ]
    }
   ],
   "source": [
    "## Load previous results and use len of results for offset\n",
    "with open(JSON_FILE,'r') as f:\n",
    "    previous_results = json.load(f)\n",
    "    \n",
    "## set offset based on previous results\n",
    "n_results = len(previous_results)\n",
    "print(f'- {n_results} previous results found.')"
   ]
  },
  {
   "cell_type": "code",
   "execution_count": 9,
   "id": "5ba7e272-e8b7-459a-ac15-315deafad9ef",
   "metadata": {},
   "outputs": [
    {
     "data": {
      "text/plain": [
       "dict_keys(['businesses', 'total', 'region'])"
      ]
     },
     "execution_count": 9,
     "metadata": {},
     "output_type": "execute_result"
    }
   ],
   "source": [
    "# use our yelp_api variable's search_query method to perform our API call\n",
    "results = yelp_api.search_query(term = term, location = location, offset = n_results)\n",
    "\n",
    "results.keys()"
   ]
  },
  {
   "cell_type": "code",
   "execution_count": 10,
   "id": "3dd8c2c0-f99d-4749-8ef6-e08f1d437d69",
   "metadata": {},
   "outputs": [
    {
     "data": {
      "text/plain": [
       "664"
      ]
     },
     "execution_count": 10,
     "metadata": {},
     "output_type": "execute_result"
    }
   ],
   "source": [
    "## How many results total?\n",
    "total_results = results['total']\n",
    "total_results"
   ]
  },
  {
   "cell_type": "code",
   "execution_count": 11,
   "id": "bf336082-2ba8-425b-93df-38b54fe073dd",
   "metadata": {},
   "outputs": [
    {
     "data": {
      "text/plain": [
       "20"
      ]
     },
     "execution_count": 11,
     "metadata": {},
     "output_type": "execute_result"
    }
   ],
   "source": [
    "## How many did we get the details for?\n",
    "results_per_page = len(results['businesses'])\n",
    "results_per_page"
   ]
  },
  {
   "cell_type": "code",
   "execution_count": 12,
   "id": "0e04f71c-cdb4-4f76-8893-c0b5aa9a4688",
   "metadata": {},
   "outputs": [
    {
     "data": {
      "text/plain": [
       "34"
      ]
     },
     "execution_count": 12,
     "metadata": {},
     "output_type": "execute_result"
    }
   ],
   "source": [
    "# Use math.ceil to round up for the total number of pages of results.\n",
    "n_pages = math.ceil((results['total']-n_results)/ results_per_page)\n",
    "n_pages"
   ]
  },
  {
   "cell_type": "code",
   "execution_count": 13,
   "id": "59ab38bd-d6ee-476a-988b-277147674d65",
   "metadata": {},
   "outputs": [
    {
     "data": {
      "application/vnd.jupyter.widget-view+json": {
       "model_id": "012f5f81f7414be38330b009edf7c714",
       "version_major": 2,
       "version_minor": 0
      },
      "text/plain": [
       "  0%|          | 0/34 [00:00<?, ?it/s]"
      ]
     },
     "metadata": {},
     "output_type": "display_data"
    }
   ],
   "source": [
    "for i in tqdm_notebook( range(1,n_pages+1)):\n",
    "    \n",
    "    ## Read in results in progress file and check the length\n",
    "    with open(JSON_FILE, 'r') as f:\n",
    "        previous_results = json.load(f)\n",
    "    ## save number of results for to use as offset\n",
    "    n_results = len(previous_results)\n",
    "    \n",
    "    if (n_results + results_per_page) > 1000:\n",
    "        print('Exceeded 1000 api calls. Stopping loop.')\n",
    "        break\n",
    "    \n",
    "    ## use n_results as the OFFSET \n",
    "    results = yelp_api.search_query(location=location,\n",
    "                                    term=term, \n",
    "                                    offset=n_results)\n",
    "    \n",
    "    \n",
    "    \n",
    "    ## append new results and save to file\n",
    "    previous_results.extend(results['businesses'])\n",
    "    \n",
    "    # display(previous_results)\n",
    "    with open(JSON_FILE,'w') as f:\n",
    "        json.dump(previous_results,f)\n",
    "    \n",
    "    time.sleep(.2)"
   ]
  },
  {
   "cell_type": "code",
   "execution_count": 14,
   "id": "d4daec83-a8ca-4dcd-80e4-1f4bf613772f",
   "metadata": {},
   "outputs": [
    {
     "data": {
      "text/html": [
       "<div>\n",
       "<style scoped>\n",
       "    .dataframe tbody tr th:only-of-type {\n",
       "        vertical-align: middle;\n",
       "    }\n",
       "\n",
       "    .dataframe tbody tr th {\n",
       "        vertical-align: top;\n",
       "    }\n",
       "\n",
       "    .dataframe thead th {\n",
       "        text-align: right;\n",
       "    }\n",
       "</style>\n",
       "<table border=\"1\" class=\"dataframe\">\n",
       "  <thead>\n",
       "    <tr style=\"text-align: right;\">\n",
       "      <th></th>\n",
       "      <th>id</th>\n",
       "      <th>alias</th>\n",
       "      <th>name</th>\n",
       "      <th>image_url</th>\n",
       "      <th>is_closed</th>\n",
       "      <th>url</th>\n",
       "      <th>review_count</th>\n",
       "      <th>categories</th>\n",
       "      <th>rating</th>\n",
       "      <th>coordinates</th>\n",
       "      <th>transactions</th>\n",
       "      <th>price</th>\n",
       "      <th>location</th>\n",
       "      <th>phone</th>\n",
       "      <th>display_phone</th>\n",
       "      <th>distance</th>\n",
       "    </tr>\n",
       "  </thead>\n",
       "  <tbody>\n",
       "    <tr>\n",
       "      <th>0</th>\n",
       "      <td>VXVrYjLRqNpQY-ogN9ztmQ</td>\n",
       "      <td>cleveland-vegan-lakewood</td>\n",
       "      <td>Cleveland Vegan</td>\n",
       "      <td>https://s3-media4.fl.yelpcdn.com/bphoto/-Do3Co...</td>\n",
       "      <td>False</td>\n",
       "      <td>https://www.yelp.com/biz/cleveland-vegan-lakew...</td>\n",
       "      <td>295</td>\n",
       "      <td>[{'alias': 'vegan', 'title': 'Vegan'}, {'alias...</td>\n",
       "      <td>4.5</td>\n",
       "      <td>{'latitude': 41.4855267595181, 'longitude': -8...</td>\n",
       "      <td>[delivery]</td>\n",
       "      <td>$$</td>\n",
       "      <td>{'address1': '17112 Detroit Ave', 'address2': ...</td>\n",
       "      <td>+12162210201</td>\n",
       "      <td>(216) 221-0201</td>\n",
       "      <td>6939.587363</td>\n",
       "    </tr>\n",
       "    <tr>\n",
       "      <th>1</th>\n",
       "      <td>3aXpQWD5wGu2TtqnH9rCNA</td>\n",
       "      <td>the-green-kitchen-little-rose-tavern-cleveland</td>\n",
       "      <td>The Green Kitchen @ Little Rose Tavern</td>\n",
       "      <td>https://s3-media4.fl.yelpcdn.com/bphoto/Rpqb_-...</td>\n",
       "      <td>False</td>\n",
       "      <td>https://www.yelp.com/biz/the-green-kitchen-lit...</td>\n",
       "      <td>9</td>\n",
       "      <td>[{'alias': 'vegan', 'title': 'Vegan'}]</td>\n",
       "      <td>4.0</td>\n",
       "      <td>{'latitude': 41.45484, 'longitude': -81.79272}</td>\n",
       "      <td>[]</td>\n",
       "      <td>NaN</td>\n",
       "      <td>{'address1': '14206 Lorain Ave', 'address2': N...</td>\n",
       "      <td>+12163311441</td>\n",
       "      <td>(216) 331-1441</td>\n",
       "      <td>4046.613382</td>\n",
       "    </tr>\n",
       "    <tr>\n",
       "      <th>2</th>\n",
       "      <td>_6hReDyVSr94W2WMO1LJLw</td>\n",
       "      <td>the-root-cafe-lakewood-2</td>\n",
       "      <td>The Root Cafe</td>\n",
       "      <td>https://s3-media3.fl.yelpcdn.com/bphoto/cOVt1H...</td>\n",
       "      <td>False</td>\n",
       "      <td>https://www.yelp.com/biz/the-root-cafe-lakewoo...</td>\n",
       "      <td>389</td>\n",
       "      <td>[{'alias': 'coffee', 'title': 'Coffee &amp; Tea'},...</td>\n",
       "      <td>4.5</td>\n",
       "      <td>{'latitude': 41.4851374, 'longitude': -81.8020...</td>\n",
       "      <td>[pickup, delivery]</td>\n",
       "      <td>$$</td>\n",
       "      <td>{'address1': '15118 Detroit Ave', 'address2': ...</td>\n",
       "      <td>+12162264401</td>\n",
       "      <td>(216) 226-4401</td>\n",
       "      <td>7001.012861</td>\n",
       "    </tr>\n",
       "    <tr>\n",
       "      <th>3</th>\n",
       "      <td>umYIc-FJg-3tsqoVaM-Mnw</td>\n",
       "      <td>earth-bistro-cafe-cleveland</td>\n",
       "      <td>Earth Bistro Cafe</td>\n",
       "      <td>https://s3-media3.fl.yelpcdn.com/bphoto/wwPaWa...</td>\n",
       "      <td>False</td>\n",
       "      <td>https://www.yelp.com/biz/earth-bistro-cafe-cle...</td>\n",
       "      <td>209</td>\n",
       "      <td>[{'alias': 'vegan', 'title': 'Vegan'}, {'alias...</td>\n",
       "      <td>4.5</td>\n",
       "      <td>{'latitude': 41.48653797614105, 'longitude': -...</td>\n",
       "      <td>[]</td>\n",
       "      <td>$$</td>\n",
       "      <td>{'address1': '11100 Clifton Ave', 'address2': ...</td>\n",
       "      <td>+12162019338</td>\n",
       "      <td>(216) 201-9338</td>\n",
       "      <td>8371.716278</td>\n",
       "    </tr>\n",
       "    <tr>\n",
       "      <th>4</th>\n",
       "      <td>1zKjojtmAHuVOHhtGVxC2Q</td>\n",
       "      <td>jukebox-cleveland</td>\n",
       "      <td>Jukebox</td>\n",
       "      <td>https://s3-media1.fl.yelpcdn.com/bphoto/5lrHjQ...</td>\n",
       "      <td>False</td>\n",
       "      <td>https://www.yelp.com/biz/jukebox-cleveland?adj...</td>\n",
       "      <td>122</td>\n",
       "      <td>[{'alias': 'bars', 'title': 'Bars'}, {'alias':...</td>\n",
       "      <td>4.5</td>\n",
       "      <td>{'latitude': 41.4895582, 'longitude': -81.7108...</td>\n",
       "      <td>[pickup, delivery]</td>\n",
       "      <td>$$</td>\n",
       "      <td>{'address1': '1404 W 29th St', 'address2': '',...</td>\n",
       "      <td>+12162067699</td>\n",
       "      <td>(216) 206-7699</td>\n",
       "      <td>11494.343149</td>\n",
       "    </tr>\n",
       "  </tbody>\n",
       "</table>\n",
       "</div>"
      ],
      "text/plain": [
       "                       id                                           alias  \\\n",
       "0  VXVrYjLRqNpQY-ogN9ztmQ                        cleveland-vegan-lakewood   \n",
       "1  3aXpQWD5wGu2TtqnH9rCNA  the-green-kitchen-little-rose-tavern-cleveland   \n",
       "2  _6hReDyVSr94W2WMO1LJLw                        the-root-cafe-lakewood-2   \n",
       "3  umYIc-FJg-3tsqoVaM-Mnw                     earth-bistro-cafe-cleveland   \n",
       "4  1zKjojtmAHuVOHhtGVxC2Q                               jukebox-cleveland   \n",
       "\n",
       "                                     name  \\\n",
       "0                         Cleveland Vegan   \n",
       "1  The Green Kitchen @ Little Rose Tavern   \n",
       "2                           The Root Cafe   \n",
       "3                       Earth Bistro Cafe   \n",
       "4                                 Jukebox   \n",
       "\n",
       "                                           image_url  is_closed  \\\n",
       "0  https://s3-media4.fl.yelpcdn.com/bphoto/-Do3Co...      False   \n",
       "1  https://s3-media4.fl.yelpcdn.com/bphoto/Rpqb_-...      False   \n",
       "2  https://s3-media3.fl.yelpcdn.com/bphoto/cOVt1H...      False   \n",
       "3  https://s3-media3.fl.yelpcdn.com/bphoto/wwPaWa...      False   \n",
       "4  https://s3-media1.fl.yelpcdn.com/bphoto/5lrHjQ...      False   \n",
       "\n",
       "                                                 url  review_count  \\\n",
       "0  https://www.yelp.com/biz/cleveland-vegan-lakew...           295   \n",
       "1  https://www.yelp.com/biz/the-green-kitchen-lit...             9   \n",
       "2  https://www.yelp.com/biz/the-root-cafe-lakewoo...           389   \n",
       "3  https://www.yelp.com/biz/earth-bistro-cafe-cle...           209   \n",
       "4  https://www.yelp.com/biz/jukebox-cleveland?adj...           122   \n",
       "\n",
       "                                          categories  rating  \\\n",
       "0  [{'alias': 'vegan', 'title': 'Vegan'}, {'alias...     4.5   \n",
       "1             [{'alias': 'vegan', 'title': 'Vegan'}]     4.0   \n",
       "2  [{'alias': 'coffee', 'title': 'Coffee & Tea'},...     4.5   \n",
       "3  [{'alias': 'vegan', 'title': 'Vegan'}, {'alias...     4.5   \n",
       "4  [{'alias': 'bars', 'title': 'Bars'}, {'alias':...     4.5   \n",
       "\n",
       "                                         coordinates        transactions  \\\n",
       "0  {'latitude': 41.4855267595181, 'longitude': -8...          [delivery]   \n",
       "1     {'latitude': 41.45484, 'longitude': -81.79272}                  []   \n",
       "2  {'latitude': 41.4851374, 'longitude': -81.8020...  [pickup, delivery]   \n",
       "3  {'latitude': 41.48653797614105, 'longitude': -...                  []   \n",
       "4  {'latitude': 41.4895582, 'longitude': -81.7108...  [pickup, delivery]   \n",
       "\n",
       "  price                                           location         phone  \\\n",
       "0    $$  {'address1': '17112 Detroit Ave', 'address2': ...  +12162210201   \n",
       "1   NaN  {'address1': '14206 Lorain Ave', 'address2': N...  +12163311441   \n",
       "2    $$  {'address1': '15118 Detroit Ave', 'address2': ...  +12162264401   \n",
       "3    $$  {'address1': '11100 Clifton Ave', 'address2': ...  +12162019338   \n",
       "4    $$  {'address1': '1404 W 29th St', 'address2': '',...  +12162067699   \n",
       "\n",
       "    display_phone      distance  \n",
       "0  (216) 221-0201   6939.587363  \n",
       "1  (216) 331-1441   4046.613382  \n",
       "2  (216) 226-4401   7001.012861  \n",
       "3  (216) 201-9338   8371.716278  \n",
       "4  (216) 206-7699  11494.343149  "
      ]
     },
     "metadata": {},
     "output_type": "display_data"
    },
    {
     "data": {
      "text/html": [
       "<div>\n",
       "<style scoped>\n",
       "    .dataframe tbody tr th:only-of-type {\n",
       "        vertical-align: middle;\n",
       "    }\n",
       "\n",
       "    .dataframe tbody tr th {\n",
       "        vertical-align: top;\n",
       "    }\n",
       "\n",
       "    .dataframe thead th {\n",
       "        text-align: right;\n",
       "    }\n",
       "</style>\n",
       "<table border=\"1\" class=\"dataframe\">\n",
       "  <thead>\n",
       "    <tr style=\"text-align: right;\">\n",
       "      <th></th>\n",
       "      <th>id</th>\n",
       "      <th>alias</th>\n",
       "      <th>name</th>\n",
       "      <th>image_url</th>\n",
       "      <th>is_closed</th>\n",
       "      <th>url</th>\n",
       "      <th>review_count</th>\n",
       "      <th>categories</th>\n",
       "      <th>rating</th>\n",
       "      <th>coordinates</th>\n",
       "      <th>transactions</th>\n",
       "      <th>price</th>\n",
       "      <th>location</th>\n",
       "      <th>phone</th>\n",
       "      <th>display_phone</th>\n",
       "      <th>distance</th>\n",
       "    </tr>\n",
       "  </thead>\n",
       "  <tbody>\n",
       "    <tr>\n",
       "      <th>659</th>\n",
       "      <td>WHlbUb5SNdXDKYfkNDo89A</td>\n",
       "      <td>pickwick-and-frolic-restaurant-and-club-clevel...</td>\n",
       "      <td>Pickwick &amp; Frolic Restaurant and Club</td>\n",
       "      <td>https://s3-media1.fl.yelpcdn.com/bphoto/ldD9Jx...</td>\n",
       "      <td>False</td>\n",
       "      <td>https://www.yelp.com/biz/pickwick-and-frolic-r...</td>\n",
       "      <td>206</td>\n",
       "      <td>[{'alias': 'tradamerican', 'title': 'American ...</td>\n",
       "      <td>3.5</td>\n",
       "      <td>{'latitude': 41.4993092, 'longitude': -81.6900...</td>\n",
       "      <td>[delivery]</td>\n",
       "      <td>$$</td>\n",
       "      <td>{'address1': '2035 E 4th St', 'address2': '', ...</td>\n",
       "      <td>+12162417425</td>\n",
       "      <td>(216) 241-7425</td>\n",
       "      <td>13522.281213</td>\n",
       "    </tr>\n",
       "    <tr>\n",
       "      <th>660</th>\n",
       "      <td>VDHN8ahFFBX8cC7wSZoUIQ</td>\n",
       "      <td>pierogi-palace-cleveland</td>\n",
       "      <td>Pierogi Palace</td>\n",
       "      <td>https://s3-media2.fl.yelpcdn.com/bphoto/VGyJsm...</td>\n",
       "      <td>False</td>\n",
       "      <td>https://www.yelp.com/biz/pierogi-palace-clevel...</td>\n",
       "      <td>13</td>\n",
       "      <td>[{'alias': 'bakeries', 'title': 'Bakeries'}]</td>\n",
       "      <td>2.5</td>\n",
       "      <td>{'latitude': 41.484673, 'longitude': -81.70311}</td>\n",
       "      <td>[pickup, delivery]</td>\n",
       "      <td>$$</td>\n",
       "      <td>{'address1': '1979 W 25th St', 'address2': 'St...</td>\n",
       "      <td>+12168619800</td>\n",
       "      <td>(216) 861-9800</td>\n",
       "      <td>11672.208471</td>\n",
       "    </tr>\n",
       "    <tr>\n",
       "      <th>661</th>\n",
       "      <td>Occo0_pOXAUG-eL6gazeGQ</td>\n",
       "      <td>applebees-grill-bar-cleveland</td>\n",
       "      <td>Applebee's Grill + Bar</td>\n",
       "      <td>https://s3-media3.fl.yelpcdn.com/bphoto/zSB7Lf...</td>\n",
       "      <td>False</td>\n",
       "      <td>https://www.yelp.com/biz/applebees-grill-bar-c...</td>\n",
       "      <td>58</td>\n",
       "      <td>[{'alias': 'tradamerican', 'title': 'American ...</td>\n",
       "      <td>2.0</td>\n",
       "      <td>{'latitude': 41.461461, 'longitude': -81.689881}</td>\n",
       "      <td>[pickup, delivery]</td>\n",
       "      <td>$$</td>\n",
       "      <td>{'address1': '3401 Steelyard Dr', 'address2': ...</td>\n",
       "      <td>+12166613756</td>\n",
       "      <td>(216) 661-3756</td>\n",
       "      <td>11387.395905</td>\n",
       "    </tr>\n",
       "    <tr>\n",
       "      <th>662</th>\n",
       "      <td>kBZ-tBkOKGqUOAypk-L9Cg</td>\n",
       "      <td>master-pizza-avon-2</td>\n",
       "      <td>Master Pizza</td>\n",
       "      <td>https://s3-media3.fl.yelpcdn.com/bphoto/AYBAAG...</td>\n",
       "      <td>False</td>\n",
       "      <td>https://www.yelp.com/biz/master-pizza-avon-2?a...</td>\n",
       "      <td>34</td>\n",
       "      <td>[{'alias': 'pizza', 'title': 'Pizza'}]</td>\n",
       "      <td>3.0</td>\n",
       "      <td>{'latitude': 41.4603089104384, 'longitude': -8...</td>\n",
       "      <td>[pickup, delivery]</td>\n",
       "      <td>$$</td>\n",
       "      <td>{'address1': '35954 Detroit Rd', 'address2': '...</td>\n",
       "      <td>+14404672424</td>\n",
       "      <td>(440) 467-2424</td>\n",
       "      <td>17119.539810</td>\n",
       "    </tr>\n",
       "    <tr>\n",
       "      <th>663</th>\n",
       "      <td>daLUceDcNHEIxLHObOH18g</td>\n",
       "      <td>red-robin-gourmet-burgers-and-brews-independen...</td>\n",
       "      <td>Red Robin Gourmet Burgers and Brews</td>\n",
       "      <td>https://s3-media2.fl.yelpcdn.com/bphoto/SsKHE9...</td>\n",
       "      <td>False</td>\n",
       "      <td>https://www.yelp.com/biz/red-robin-gourmet-bur...</td>\n",
       "      <td>147</td>\n",
       "      <td>[{'alias': 'burgers', 'title': 'Burgers'}]</td>\n",
       "      <td>2.5</td>\n",
       "      <td>{'latitude': 41.393489, 'longitude': -81.6429}</td>\n",
       "      <td>[pickup, delivery]</td>\n",
       "      <td>$$</td>\n",
       "      <td>{'address1': '6750 Rockside Rd', 'address2': '...</td>\n",
       "      <td>+12166420881</td>\n",
       "      <td>(216) 642-0881</td>\n",
       "      <td>14848.497883</td>\n",
       "    </tr>\n",
       "  </tbody>\n",
       "</table>\n",
       "</div>"
      ],
      "text/plain": [
       "                         id  \\\n",
       "659  WHlbUb5SNdXDKYfkNDo89A   \n",
       "660  VDHN8ahFFBX8cC7wSZoUIQ   \n",
       "661  Occo0_pOXAUG-eL6gazeGQ   \n",
       "662  kBZ-tBkOKGqUOAypk-L9Cg   \n",
       "663  daLUceDcNHEIxLHObOH18g   \n",
       "\n",
       "                                                 alias  \\\n",
       "659  pickwick-and-frolic-restaurant-and-club-clevel...   \n",
       "660                           pierogi-palace-cleveland   \n",
       "661                      applebees-grill-bar-cleveland   \n",
       "662                                master-pizza-avon-2   \n",
       "663  red-robin-gourmet-burgers-and-brews-independen...   \n",
       "\n",
       "                                      name  \\\n",
       "659  Pickwick & Frolic Restaurant and Club   \n",
       "660                         Pierogi Palace   \n",
       "661                 Applebee's Grill + Bar   \n",
       "662                           Master Pizza   \n",
       "663    Red Robin Gourmet Burgers and Brews   \n",
       "\n",
       "                                             image_url  is_closed  \\\n",
       "659  https://s3-media1.fl.yelpcdn.com/bphoto/ldD9Jx...      False   \n",
       "660  https://s3-media2.fl.yelpcdn.com/bphoto/VGyJsm...      False   \n",
       "661  https://s3-media3.fl.yelpcdn.com/bphoto/zSB7Lf...      False   \n",
       "662  https://s3-media3.fl.yelpcdn.com/bphoto/AYBAAG...      False   \n",
       "663  https://s3-media2.fl.yelpcdn.com/bphoto/SsKHE9...      False   \n",
       "\n",
       "                                                   url  review_count  \\\n",
       "659  https://www.yelp.com/biz/pickwick-and-frolic-r...           206   \n",
       "660  https://www.yelp.com/biz/pierogi-palace-clevel...            13   \n",
       "661  https://www.yelp.com/biz/applebees-grill-bar-c...            58   \n",
       "662  https://www.yelp.com/biz/master-pizza-avon-2?a...            34   \n",
       "663  https://www.yelp.com/biz/red-robin-gourmet-bur...           147   \n",
       "\n",
       "                                            categories  rating  \\\n",
       "659  [{'alias': 'tradamerican', 'title': 'American ...     3.5   \n",
       "660       [{'alias': 'bakeries', 'title': 'Bakeries'}]     2.5   \n",
       "661  [{'alias': 'tradamerican', 'title': 'American ...     2.0   \n",
       "662             [{'alias': 'pizza', 'title': 'Pizza'}]     3.0   \n",
       "663         [{'alias': 'burgers', 'title': 'Burgers'}]     2.5   \n",
       "\n",
       "                                           coordinates        transactions  \\\n",
       "659  {'latitude': 41.4993092, 'longitude': -81.6900...          [delivery]   \n",
       "660    {'latitude': 41.484673, 'longitude': -81.70311}  [pickup, delivery]   \n",
       "661   {'latitude': 41.461461, 'longitude': -81.689881}  [pickup, delivery]   \n",
       "662  {'latitude': 41.4603089104384, 'longitude': -8...  [pickup, delivery]   \n",
       "663     {'latitude': 41.393489, 'longitude': -81.6429}  [pickup, delivery]   \n",
       "\n",
       "    price                                           location         phone  \\\n",
       "659    $$  {'address1': '2035 E 4th St', 'address2': '', ...  +12162417425   \n",
       "660    $$  {'address1': '1979 W 25th St', 'address2': 'St...  +12168619800   \n",
       "661    $$  {'address1': '3401 Steelyard Dr', 'address2': ...  +12166613756   \n",
       "662    $$  {'address1': '35954 Detroit Rd', 'address2': '...  +14404672424   \n",
       "663    $$  {'address1': '6750 Rockside Rd', 'address2': '...  +12166420881   \n",
       "\n",
       "      display_phone      distance  \n",
       "659  (216) 241-7425  13522.281213  \n",
       "660  (216) 861-9800  11672.208471  \n",
       "661  (216) 661-3756  11387.395905  \n",
       "662  (440) 467-2424  17119.539810  \n",
       "663  (216) 642-0881  14848.497883  "
      ]
     },
     "metadata": {},
     "output_type": "display_data"
    }
   ],
   "source": [
    "# load final results\n",
    "final_df = pd.read_json(JSON_FILE)\n",
    "display(final_df.head(), final_df.tail())"
   ]
  },
  {
   "cell_type": "code",
   "execution_count": 15,
   "id": "181c65bf-5417-49df-bd34-db4fdbad7b56",
   "metadata": {},
   "outputs": [],
   "source": [
    "# save the final results to a compressed csv\n",
    "final_df.to_csv('Data/final_results_in_progress_cleveland_vegan.csv', compression='gzip',index=False)"
   ]
  },
  {
   "cell_type": "code",
   "execution_count": null,
   "id": "3a0e7109-ee1c-4287-8e8a-59f7174e48e3",
   "metadata": {},
   "outputs": [],
   "source": []
  }
 ],
 "metadata": {
  "kernelspec": {
   "display_name": "Python (dojo-env)",
   "language": "python",
   "name": "dojo-env"
  },
  "language_info": {
   "codemirror_mode": {
    "name": "ipython",
    "version": 3
   },
   "file_extension": ".py",
   "mimetype": "text/x-python",
   "name": "python",
   "nbconvert_exporter": "python",
   "pygments_lexer": "ipython3",
   "version": "3.10.10"
  },
  "widgets": {
   "application/vnd.jupyter.widget-state+json": {
    "state": {
     "012f5f81f7414be38330b009edf7c714": {
      "model_module": "@jupyter-widgets/controls",
      "model_module_version": "2.0.0",
      "model_name": "HBoxModel",
      "state": {
       "children": [
        "IPY_MODEL_04317c384f014b21b3e224cf9fabdc24",
        "IPY_MODEL_db4f8362bba9419181da1e74002ffd8f",
        "IPY_MODEL_2daccbca47f44bb798acc5bdb3a0ade1"
       ],
       "layout": "IPY_MODEL_1fffe110dd5649b39f9c3bbc2762f442"
      }
     },
     "04317c384f014b21b3e224cf9fabdc24": {
      "model_module": "@jupyter-widgets/controls",
      "model_module_version": "2.0.0",
      "model_name": "HTMLModel",
      "state": {
       "layout": "IPY_MODEL_815d0033771c4024b9189af76cd509e7",
       "style": "IPY_MODEL_54d3736c044f404dac0e976d4d0d34af",
       "value": "100%"
      }
     },
     "1fffe110dd5649b39f9c3bbc2762f442": {
      "model_module": "@jupyter-widgets/base",
      "model_module_version": "2.0.0",
      "model_name": "LayoutModel",
      "state": {}
     },
     "2daccbca47f44bb798acc5bdb3a0ade1": {
      "model_module": "@jupyter-widgets/controls",
      "model_module_version": "2.0.0",
      "model_name": "HTMLModel",
      "state": {
       "layout": "IPY_MODEL_3cc2f77b9e9244acb89dc4a406e8fe41",
       "style": "IPY_MODEL_4dae366af4cd4ca1961be1b7703c753a",
       "value": " 34/34 [00:31&lt;00:00,  1.12s/it]"
      }
     },
     "3cc2f77b9e9244acb89dc4a406e8fe41": {
      "model_module": "@jupyter-widgets/base",
      "model_module_version": "2.0.0",
      "model_name": "LayoutModel",
      "state": {}
     },
     "456cbea9b7044a38be268a206624bf95": {
      "model_module": "@jupyter-widgets/base",
      "model_module_version": "2.0.0",
      "model_name": "LayoutModel",
      "state": {}
     },
     "4dae366af4cd4ca1961be1b7703c753a": {
      "model_module": "@jupyter-widgets/controls",
      "model_module_version": "2.0.0",
      "model_name": "HTMLStyleModel",
      "state": {
       "description_width": "",
       "font_size": null,
       "text_color": null
      }
     },
     "54d3736c044f404dac0e976d4d0d34af": {
      "model_module": "@jupyter-widgets/controls",
      "model_module_version": "2.0.0",
      "model_name": "HTMLStyleModel",
      "state": {
       "description_width": "",
       "font_size": null,
       "text_color": null
      }
     },
     "815d0033771c4024b9189af76cd509e7": {
      "model_module": "@jupyter-widgets/base",
      "model_module_version": "2.0.0",
      "model_name": "LayoutModel",
      "state": {}
     },
     "9653804101a04bad984c6c10a2b35a4c": {
      "model_module": "@jupyter-widgets/controls",
      "model_module_version": "2.0.0",
      "model_name": "ProgressStyleModel",
      "state": {
       "description_width": ""
      }
     },
     "db4f8362bba9419181da1e74002ffd8f": {
      "model_module": "@jupyter-widgets/controls",
      "model_module_version": "2.0.0",
      "model_name": "FloatProgressModel",
      "state": {
       "bar_style": "success",
       "layout": "IPY_MODEL_456cbea9b7044a38be268a206624bf95",
       "max": 34,
       "style": "IPY_MODEL_9653804101a04bad984c6c10a2b35a4c",
       "value": 34
      }
     }
    },
    "version_major": 2,
    "version_minor": 0
   }
  }
 },
 "nbformat": 4,
 "nbformat_minor": 5
}
