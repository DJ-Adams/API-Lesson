{
 "cells": [
  {
   "cell_type": "code",
   "execution_count": 3,
   "id": "252c04b6-8981-4323-a5cd-d2bd8b032146",
   "metadata": {},
   "outputs": [],
   "source": [
    "# Standard Imports\n",
    "import numpy as np\n",
    "import pandas as pd\n",
    "import matplotlib.pyplot as plt\n",
    "import seaborn as sns\n",
    "# Additional Imports\n",
    "import os, json, math, time\n",
    "from yelpapi import YelpAPI\n",
    "from tqdm.notebook import tqdm_notebook"
   ]
  },
  {
   "cell_type": "code",
   "execution_count": 1,
   "id": "45966a0f-7d24-4792-800c-64845cb99c8c",
   "metadata": {},
   "outputs": [
    {
     "name": "stdout",
     "output_type": "stream",
     "text": [
      "Collecting tmdbsimple\n",
      "  Downloading tmdbsimple-2.9.1-py3-none-any.whl (38 kB)\n",
      "Requirement already satisfied: requests in c:\\users\\dmusl\\anaconda3\\envs\\dojo-env\\lib\\site-packages (from tmdbsimple) (2.29.0)\n",
      "Requirement already satisfied: charset-normalizer<4,>=2 in c:\\users\\dmusl\\anaconda3\\envs\\dojo-env\\lib\\site-packages (from requests->tmdbsimple) (2.0.4)\n",
      "Requirement already satisfied: idna<4,>=2.5 in c:\\users\\dmusl\\anaconda3\\envs\\dojo-env\\lib\\site-packages (from requests->tmdbsimple) (3.4)\n",
      "Requirement already satisfied: urllib3<1.27,>=1.21.1 in c:\\users\\dmusl\\anaconda3\\envs\\dojo-env\\lib\\site-packages (from requests->tmdbsimple) (1.26.15)\n",
      "Requirement already satisfied: certifi>=2017.4.17 in c:\\users\\dmusl\\anaconda3\\envs\\dojo-env\\lib\\site-packages (from requests->tmdbsimple) (2023.5.7)\n",
      "Installing collected packages: tmdbsimple\n",
      "Successfully installed tmdbsimple-2.9.1\n"
     ]
    }
   ],
   "source": [
    "# Install tmdbsimple (only need to run once)\n",
    "!pip install tmdbsimple"
   ]
  },
  {
   "cell_type": "code",
   "execution_count": 4,
   "id": "7db157fa-5c6f-45c6-9853-c1c52e5283a5",
   "metadata": {},
   "outputs": [],
   "source": [
    "# Load API Credentials\n",
    "with open('/Users/dmusl/.secret/tmdb_api.json') as f:\n",
    "    login = json.load(f)"
   ]
  },
  {
   "cell_type": "code",
   "execution_count": 5,
   "id": "d264b335-647f-4905-9720-fd7c3db2ca4f",
   "metadata": {},
   "outputs": [
    {
     "data": {
      "text/plain": [
       "dict_keys(['api-key'])"
      ]
     },
     "execution_count": 5,
     "metadata": {},
     "output_type": "execute_result"
    }
   ],
   "source": [
    "## Display the keys of the loaded dict\n",
    "login.keys()"
   ]
  },
  {
   "cell_type": "code",
   "execution_count": 6,
   "id": "9bb19133-f195-4c67-b362-92a00e788914",
   "metadata": {},
   "outputs": [],
   "source": [
    "import tmdbsimple as tmdb\n",
    "tmdb.API_KEY =  login['api-key']"
   ]
  },
  {
   "cell_type": "code",
   "execution_count": 7,
   "id": "0317bd38-0908-44e8-bc30-ebc34797528c",
   "metadata": {},
   "outputs": [],
   "source": [
    "## make a movie object using the .Movies function from tmdb\n",
    "movie = tmdb.Movies(603)"
   ]
  },
  {
   "cell_type": "code",
   "execution_count": 8,
   "id": "63b42dd4-d6aa-4c91-ba3b-bc804b3d86e5",
   "metadata": {},
   "outputs": [
    {
     "data": {
      "text/plain": [
       "{'adult': False,\n",
       " 'backdrop_path': '/oMsxZEvz9a708d49b6UdZK1KAo5.jpg',\n",
       " 'belongs_to_collection': {'id': 2344,\n",
       "  'name': 'The Matrix Collection',\n",
       "  'poster_path': '/bV9qTVHTVf0gkW0j7p7M0ILD4pG.jpg',\n",
       "  'backdrop_path': '/bRm2DEgUiYciDw3myHuYFInD7la.jpg'},\n",
       " 'budget': 63000000,\n",
       " 'genres': [{'id': 28, 'name': 'Action'},\n",
       "  {'id': 878, 'name': 'Science Fiction'}],\n",
       " 'homepage': 'http://www.warnerbros.com/matrix',\n",
       " 'id': 603,\n",
       " 'imdb_id': 'tt0133093',\n",
       " 'original_language': 'en',\n",
       " 'original_title': 'The Matrix',\n",
       " 'overview': 'Set in the 22nd century, The Matrix tells the story of a computer hacker who joins a group of underground insurgents fighting the vast and powerful computers who now rule the earth.',\n",
       " 'popularity': 76.048,\n",
       " 'poster_path': '/f89U3ADr1oiB1s9GkdPOEpXUk5H.jpg',\n",
       " 'production_companies': [{'id': 79,\n",
       "   'logo_path': '/tpFpsqbleCzEE2p5EgvUq6ozfCA.png',\n",
       "   'name': 'Village Roadshow Pictures',\n",
       "   'origin_country': 'US'},\n",
       "  {'id': 372,\n",
       "   'logo_path': None,\n",
       "   'name': 'Groucho II Film Partnership',\n",
       "   'origin_country': ''},\n",
       "  {'id': 1885,\n",
       "   'logo_path': '/xlvoOZr4s1PygosrwZyolIFe5xs.png',\n",
       "   'name': 'Silver Pictures',\n",
       "   'origin_country': 'US'},\n",
       "  {'id': 174,\n",
       "   'logo_path': '/IuAlhI9eVC9Z8UQWOIDdWRKSEJ.png',\n",
       "   'name': 'Warner Bros. Pictures',\n",
       "   'origin_country': 'US'}],\n",
       " 'production_countries': [{'iso_3166_1': 'US',\n",
       "   'name': 'United States of America'}],\n",
       " 'release_date': '1999-03-30',\n",
       " 'revenue': 463517383,\n",
       " 'runtime': 136,\n",
       " 'spoken_languages': [{'english_name': 'English',\n",
       "   'iso_639_1': 'en',\n",
       "   'name': 'English'}],\n",
       " 'status': 'Released',\n",
       " 'tagline': 'Welcome to the Real World.',\n",
       " 'title': 'The Matrix',\n",
       " 'video': False,\n",
       " 'vote_average': 8.207,\n",
       " 'vote_count': 23883}"
      ]
     },
     "execution_count": 8,
     "metadata": {},
     "output_type": "execute_result"
    }
   ],
   "source": [
    "## movie objects have a .info dictionary \n",
    "info = movie.info()\n",
    "info"
   ]
  },
  {
   "cell_type": "code",
   "execution_count": 9,
   "id": "613bf243-1cf7-41d8-a52f-85cb29acbec9",
   "metadata": {},
   "outputs": [
    {
     "data": {
      "text/plain": [
       "63000000"
      ]
     },
     "execution_count": 9,
     "metadata": {},
     "output_type": "execute_result"
    }
   ],
   "source": [
    "info['budget']"
   ]
  },
  {
   "cell_type": "code",
   "execution_count": 10,
   "id": "d2728b4e-8db1-4aba-94f9-4a36d1d683d4",
   "metadata": {},
   "outputs": [
    {
     "data": {
      "text/plain": [
       "463517383"
      ]
     },
     "execution_count": 10,
     "metadata": {},
     "output_type": "execute_result"
    }
   ],
   "source": [
    "info['revenue']"
   ]
  },
  {
   "cell_type": "code",
   "execution_count": 11,
   "id": "dd28ddb1-4316-404c-b845-f81990d57421",
   "metadata": {},
   "outputs": [
    {
     "data": {
      "text/plain": [
       "'tt0133093'"
      ]
     },
     "execution_count": 11,
     "metadata": {},
     "output_type": "execute_result"
    }
   ],
   "source": [
    "info['imdb_id']"
   ]
  },
  {
   "cell_type": "markdown",
   "id": "ea08dffa-a283-4479-9249-b46f6bbc1c28",
   "metadata": {},
   "source": [
    "Searching with IMDB_ID\r\n",
    "\r\n",
    "Try searching by the IMDb number. For example, What was the budget of Tom and Jerry which had an IMDb id of \"tt1361336\"?"
   ]
  },
  {
   "cell_type": "code",
   "execution_count": 14,
   "id": "a2c43ff1-cf1b-4581-a8f3-50883e0e27d5",
   "metadata": {},
   "outputs": [
    {
     "data": {
      "text/plain": [
       "50000000"
      ]
     },
     "execution_count": 14,
     "metadata": {},
     "output_type": "execute_result"
    }
   ],
   "source": [
    "movie = tmdb.Movies('tt1361336')\n",
    "info = movie.info()\n",
    "info['budget']"
   ]
  },
  {
   "cell_type": "code",
   "execution_count": 15,
   "id": "7645a6da-8651-4a50-8be5-4c7349555233",
   "metadata": {},
   "outputs": [],
   "source": [
    "# Get the movie object for the current id\n",
    "movie = tmdb.Movies('tt1361336')\n",
    "# save the .info .releases dictionaries\n",
    "info = movie.info()\n",
    "releases = movie.releases()\n",
    "# Loop through countries in releases\n",
    "for c in releases['countries']:\n",
    "    # if the country abbreviation==US\n",
    "    if c['iso_3166_1' ] =='US':\n",
    "        ## save a \"certification\" key in the info dict with the certification\n",
    "       info['certification'] = c['certification']"
   ]
  },
  {
   "cell_type": "markdown",
   "id": "1e7b52dd-d531-425a-bf2a-15ce5270d8db",
   "metadata": {},
   "source": [
    "# Defining Our Function\r\n",
    "The function should accept the movie_id as an argument.\r\n",
    "Make sure to replace the current test id we used with a movie_id variable in your function definition!\r\n",
    "It should return a dictionary of results that includes certification."
   ]
  },
  {
   "cell_type": "code",
   "execution_count": null,
   "id": "79364752-a023-44d9-ad23-8fbad60ac9f5",
   "metadata": {},
   "outputs": [],
   "source": [
    "def get_movie_with_rating(movie_id):\n",
    "    \"\"\"Adapted from source = https://github.com/celiao/tmdbsimple\"\"\"\n",
    "    # Get the movie object for the current id\n",
    "    movie = tmdb.Movies(movie_id)\n",
    "\n",
    "    # save the .info .releases dictionaries\n",
    "    info = movie.info()\n",
    "\n",
    "    releases = movie.releases()\n",
    "    #Loop through countries in releases\n",
    "    for c in releases ['countries']:\n",
    "        # if the country abbreviation==US\n",
    "        if c['iso_3166_1'] =='US':\n",
    "            ## save a \"certification\" key in info with the certification\n",
    "            info['certification'] = c['certification']\n",
    "            \n",
    "    return info"
   ]
  },
  {
   "cell_type": "code",
   "execution_count": null,
   "id": "46b967c8-b1b5-435f-8413-d51078e42a04",
   "metadata": {},
   "outputs": [],
   "source": [
    "test = get_movie_with_rating(\"tt0848228\") #put your function name here\n",
    "test"
   ]
  },
  {
   "cell_type": "markdown",
   "id": "8e1196af-31da-4d6b-ac1c-1fd34b9725e2",
   "metadata": {},
   "source": [
    "### Handling this Error with Try and Except\r\n",
    "We can handle this error by using a try and except statement. Note: remember that errors are also called \"Exceptions\".\r\n",
    "\r\n",
    "In brief, a try-except statement works like an if-else statement:\r\n",
    "\r\n",
    "Just like an if statement, we start with the word try and a : followed by a new line indented inside of the try statement.\r\n",
    "The code that runs into errors is the code that we want to try to run.\r\n",
    "​If there are no errors, the code will continue running, as usual.\r\n",
    "Unlike an if statement, a try statement MUST have an except statement too.\r\n",
    "The except block includes the code to run if the try statement hits an error. "
   ]
  },
  {
   "cell_type": "code",
   "execution_count": null,
   "id": "e87033d3-0a98-4f45-acc0-561fe4e7ba9f",
   "metadata": {},
   "outputs": [],
   "source": [
    "## testing our function by looping through a list of ids\n",
    "import pandas as pd\n",
    "test_ids = [\"tt0848228\", \"tt0115937\",\"tt0848228\",\"tt0332280\"]\n",
    "​\n",
    "​# Loop through test_ids\n",
    "results = []\n",
    "for movie_id in test_ids:\n",
    "\n",
    "      try:\n",
    "        movie_info = get_movie_with_rating(movie_id)\n",
    "        results.append(movie_info)\n",
    "        \n",
    "    except: \n",
    "        pass\n",
    "    \n",
    "pd.DataFrame(results)"
   ]
  },
  {
   "cell_type": "markdown",
   "id": "078d8407-7945-4bb0-ac63-be83db88284e",
   "metadata": {},
   "source": [
    "### Saving Our Error Messages\n",
    "\n",
    "Additionally, we can save the error message in a variable, which we will call e, just by saying except Exception as e: instead of just saying except:.\n",
    "\n",
    "Once we've saved the error message, we can display the error if we want to see the error message if we want to know to see the details for every error.  Since it is just being displayed, it won't actually stop the loop from running, but we will still see the information."
   ]
  },
  {
   "cell_type": "code",
   "execution_count": null,
   "id": "c010559d-7e0d-4e0f-bb68-4a82a0dd0159",
   "metadata": {},
   "outputs": [],
   "source": [
    "# Using a try-except statement to catch and display an error message\n",
    "​for movie_id in test_ids:   \n",
    "​     try:\n",
    "​        movie_info = get_movie_with_rating(movie_id)\n",
    "​        results.append(movie_info)\n",
    "​    \n",
    "​    # To see the error message when it happens:\n",
    "​    except Exception as e:\n",
    "​         display(e)"
   ]
  },
  {
   "cell_type": "markdown",
   "id": "c6085e87-6757-4d57-bcfc-433c608a729b",
   "metadata": {},
   "source": [
    "However, If we are looping through a large collection of movies like you will be doing for the project, this could get very cluttered and will interfere with our progress bars.\r\n",
    "\r\n",
    "Instead, we can create a list where we can append the movie id and error message. This way, we can check this list later to see how many movies caused an error - and which ones."
   ]
  },
  {
   "cell_type": "code",
   "execution_count": null,
   "id": "0db12985-b1c4-4d65-8ff4-f04401c65ca9",
   "metadata": {},
   "outputs": [],
   "source": [
    "# Using a try-except statement to catch and append the error message to a list\n",
    "import pandas as pd\n",
    "test_ids = [\"tt0848228\", \"tt0115937\",\"tt0848228\",\"tt0332280\"]\n",
    "results = []\n",
    "errors = []\n",
    "for movie_id in test_ids:\n",
    "    \n",
    "    try:\n",
    "        movie_info = get_movie_with_rating(movie_id)\n",
    "        results.append(movie_info)\n",
    "        \n",
    "    except Exception as e: \n",
    "        errors.append([movie_id, e])\n",
    "    \n",
    "pd.DataFrame(results)"
   ]
  },
  {
   "cell_type": "code",
   "execution_count": null,
   "id": "57742953-1f3e-4cb1-9020-4c5b4bae18b0",
   "metadata": {},
   "outputs": [],
   "source": [
    "# Now we can check our error list to see if we have any errors and what they were.\n",
    "print(f\"- Number of errors: {len(errors)}\")\n",
    "errors"
   ]
  },
  {
   "cell_type": "markdown",
   "id": "b9f30db1-09c8-411a-a20e-f781ae88f0ea",
   "metadata": {},
   "source": [
    "# Efficient TMDB API Calls"
   ]
  },
  {
   "cell_type": "code",
   "execution_count": null,
   "id": "3ac38fd8-b391-4de6-9fcf-b2726d0e941f",
   "metadata": {},
   "outputs": [],
   "source": [
    "def write_json(new_data, filename): \n",
    "    \"\"\"Appends a list of records (new_data) to a json file (filename). \n",
    "    Adapted from: https://www.geeksforgeeks.org/append-to-json-file-using-python/\"\"\"  \n",
    "    \n",
    "    with open(filename,'r+') as file:\n",
    "        # First we load existing data into a dict.\n",
    "        file_data = json.load(file)\n",
    "        ## Choose extend or append\n",
    "        if (type(new_data) == list) & (type(file_data) == list):\n",
    "            file_data.extend(new_data)\n",
    "        else:\n",
    "             file_data.append(new_data)\n",
    "        # Sets file's current position at offset.\n",
    "        file.seek(0)\n",
    "        # convert back to json.\n",
    "        json.dump(file_data, file)"
   ]
  }
 ],
 "metadata": {
  "kernelspec": {
   "display_name": "Python (dojo-env)",
   "language": "python",
   "name": "dojo-env"
  },
  "language_info": {
   "codemirror_mode": {
    "name": "ipython",
    "version": 3
   },
   "file_extension": ".py",
   "mimetype": "text/x-python",
   "name": "python",
   "nbconvert_exporter": "python",
   "pygments_lexer": "ipython3",
   "version": "3.10.10"
  },
  "widgets": {
   "application/vnd.jupyter.widget-state+json": {
    "state": {},
    "version_major": 2,
    "version_minor": 0
   }
  }
 },
 "nbformat": 4,
 "nbformat_minor": 5
}
