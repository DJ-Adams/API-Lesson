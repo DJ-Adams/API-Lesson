{
 "cells": [
  {
   "cell_type": "markdown",
   "id": "ef810336-bba0-436c-a593-70b46c8611cf",
   "metadata": {},
   "source": [
    "# Efficient Yelp API Calls\n",
    "\n",
    "- Darlene Adams"
   ]
  },
  {
   "cell_type": "code",
   "execution_count": 1,
   "id": "b968179c-bc57-4e9f-b8dd-08bbc0b97bb7",
   "metadata": {},
   "outputs": [],
   "source": [
    "# Standard Imports\n",
    "import numpy as np\n",
    "import pandas as pd\n",
    "import matplotlib.pyplot as plt\n",
    "import seaborn as sns\n",
    "\n",
    "# Additional Imports\n",
    "import os, json, math, time\n",
    "from yelpapi import YelpAPI\n",
    "from tqdm.notebook import tqdm_notebook"
   ]
  },
  {
   "cell_type": "code",
   "execution_count": 2,
   "id": "28ac28a5-2e73-40a1-ae1b-921ccad4982f",
   "metadata": {},
   "outputs": [],
   "source": [
    "# Load API Credentials\n",
    "with open('/Users/dmusl/.secret/yelp_api.json') as f:\n",
    "    login = json.load(f)"
   ]
  },
  {
   "cell_type": "code",
   "execution_count": 3,
   "id": "b10d3632-2ef2-4129-8550-f8564ef1ff39",
   "metadata": {},
   "outputs": [
    {
     "data": {
      "text/plain": [
       "dict_keys(['client-id', 'api-key'])"
      ]
     },
     "execution_count": 3,
     "metadata": {},
     "output_type": "execute_result"
    }
   ],
   "source": [
    "login.keys()"
   ]
  },
  {
   "cell_type": "code",
   "execution_count": 4,
   "id": "5af38bf6-0197-4cd5-88d6-28b68f6f848f",
   "metadata": {},
   "outputs": [],
   "source": [
    "# Instantiate YelpAPI Variable\n",
    "yelp_api = YelpAPI(login['api-key'], timeout_s=5.0)"
   ]
  },
  {
   "cell_type": "code",
   "execution_count": 5,
   "id": "a1485c11-a93d-4901-bdd5-9b71102c794e",
   "metadata": {},
   "outputs": [],
   "source": [
    "## Define Search Terms and File Paths"
   ]
  },
  {
   "cell_type": "code",
   "execution_count": 6,
   "id": "c2cd683a-72c0-4880-9ce6-e64d7a938be9",
   "metadata": {},
   "outputs": [],
   "source": [
    "# set our API call parameters and filename before the first call\n",
    "location = 'Cleveland, OH 44135'\n",
    "term = 'crab'"
   ]
  },
  {
   "cell_type": "code",
   "execution_count": 7,
   "id": "95edc4e0-2d7d-4713-88b3-ebff057210d2",
   "metadata": {},
   "outputs": [
    {
     "data": {
      "text/plain": [
       "'Cleveland'"
      ]
     },
     "execution_count": 7,
     "metadata": {},
     "output_type": "execute_result"
    }
   ],
   "source": [
    "location.split(',')[0]"
   ]
  },
  {
   "cell_type": "code",
   "execution_count": 8,
   "id": "72e729ea-8252-4379-b523-d82f971738d9",
   "metadata": {},
   "outputs": [
    {
     "data": {
      "text/plain": [
       "'Data/results_in_progress_cleveland_crab.json'"
      ]
     },
     "execution_count": 8,
     "metadata": {},
     "output_type": "execute_result"
    }
   ],
   "source": [
    "# Specifying JSON_FILE filename (can include a folder)\n",
    "# include the search terms in the filename\n",
    "JSON_FILE = \"Data/results_in_progress_cleveland_crab.json\"\n",
    "JSON_FILE"
   ]
  },
  {
   "cell_type": "code",
   "execution_count": 9,
   "id": "d6788e4b-9f62-4929-83f3-e684396d3dfa",
   "metadata": {},
   "outputs": [
    {
     "name": "stdout",
     "output_type": "stream",
     "text": [
      "[i] Data/results_in_progress_cleveland_crab.json not found. Saving empty list to file.\n"
     ]
    }
   ],
   "source": [
    "## Check if JSON_FILE exists\n",
    "file_exists = os.path.isfile(JSON_FILE)\n",
    "## If it does not exist: \n",
    "if file_exists == False:\n",
    "    \n",
    "    ## CREATE ANY NEEDED FOLDERS\n",
    "    # Get the Folder Name only\n",
    "    folder = os.path.dirname(JSON_FILE)\n",
    "    ## If JSON_FILE included a folder:\n",
    "    if len(folder)>0:\n",
    "        # create the folder\n",
    "        os.makedirs(folder,exist_ok=True)\n",
    "        \n",
    "        \n",
    "    ## INFORM USER AND SAVE EMPTY LIST\n",
    "    print(f'[i] {JSON_FILE} not found. Saving empty list to file.')\n",
    "    \n",
    "    \n",
    "    # save an empty list\n",
    "    with open(JSON_FILE,'w') as f:\n",
    "        json.dump([],f)  \n",
    "# If it exists, inform user\n",
    "else:\n",
    "    print(f\"[i] {JSON_FILE} already exists.\")"
   ]
  },
  {
   "cell_type": "code",
   "execution_count": 10,
   "id": "618b0b76-178d-4230-b4f8-ce1d6b4e26f8",
   "metadata": {},
   "outputs": [
    {
     "name": "stdout",
     "output_type": "stream",
     "text": [
      "- 0 previous results found.\n"
     ]
    }
   ],
   "source": [
    "## Load previous results and use len of results for offset\n",
    "with open(JSON_FILE,'r') as f:\n",
    "    previous_results = json.load(f)\n",
    "    \n",
    "## set offset based on previous results\n",
    "n_results = len(previous_results)\n",
    "print(f'- {n_results} previous results found.')"
   ]
  },
  {
   "cell_type": "code",
   "execution_count": 11,
   "id": "5ba7e272-e8b7-459a-ac15-315deafad9ef",
   "metadata": {},
   "outputs": [
    {
     "data": {
      "text/plain": [
       "dict_keys(['businesses', 'total', 'region'])"
      ]
     },
     "execution_count": 11,
     "metadata": {},
     "output_type": "execute_result"
    }
   ],
   "source": [
    "# use our yelp_api variable's search_query method to perform our API call\n",
    "results = yelp_api.search_query(term = term, location = location, offset = n_results)\n",
    "\n",
    "results.keys()"
   ]
  },
  {
   "cell_type": "code",
   "execution_count": 12,
   "id": "3dd8c2c0-f99d-4749-8ef6-e08f1d437d69",
   "metadata": {},
   "outputs": [
    {
     "data": {
      "text/plain": [
       "382"
      ]
     },
     "execution_count": 12,
     "metadata": {},
     "output_type": "execute_result"
    }
   ],
   "source": [
    "## How many results total?\n",
    "total_results = results['total']\n",
    "total_results"
   ]
  },
  {
   "cell_type": "code",
   "execution_count": 13,
   "id": "bf336082-2ba8-425b-93df-38b54fe073dd",
   "metadata": {},
   "outputs": [
    {
     "data": {
      "text/plain": [
       "20"
      ]
     },
     "execution_count": 13,
     "metadata": {},
     "output_type": "execute_result"
    }
   ],
   "source": [
    "## How many did we get the details for?\n",
    "results_per_page = len(results['businesses'])\n",
    "results_per_page"
   ]
  },
  {
   "cell_type": "code",
   "execution_count": 14,
   "id": "0e04f71c-cdb4-4f76-8893-c0b5aa9a4688",
   "metadata": {},
   "outputs": [
    {
     "data": {
      "text/plain": [
       "20"
      ]
     },
     "execution_count": 14,
     "metadata": {},
     "output_type": "execute_result"
    }
   ],
   "source": [
    "# Use math.ceil to round up for the total number of pages of results.\n",
    "n_pages = math.ceil((results['total']-n_results)/ results_per_page)\n",
    "n_pages"
   ]
  },
  {
   "cell_type": "code",
   "execution_count": 15,
   "id": "4e5fd2c7-e2f1-4b08-9a1b-c4c9cde5f4b1",
   "metadata": {},
   "outputs": [],
   "source": [
    "# join new results with old list with extend and save to file\n",
    "previous_results.extend(results['businesses'])  \n",
    "with open(JSON_FILE,'w') as f:\n",
    "     json.dump(previous_results,f)"
   ]
  },
  {
   "cell_type": "code",
   "execution_count": 20,
   "id": "59ab38bd-d6ee-476a-988b-277147674d65",
   "metadata": {},
   "outputs": [
    {
     "data": {
      "application/vnd.jupyter.widget-view+json": {
       "model_id": "6a1274ebf9224b76a1d6c49645796ac9",
       "version_major": 2,
       "version_minor": 0
      },
      "text/plain": [
       "  0%|          | 0/20 [00:00<?, ?it/s]"
      ]
     },
     "metadata": {},
     "output_type": "display_data"
    }
   ],
   "source": [
    "for i in tqdm_notebook( range(1,n_pages+1)):\n",
    "    \n",
    "    ## Read in results in progress file and check the length\n",
    "    with open(JSON_FILE, 'r') as f:\n",
    "        previous_results = json.load(f)\n",
    "    ## save number of results for to use as offset\n",
    "    n_results = len(previous_results)\n",
    "    \n",
    "    if (n_results + results_per_page) > 1000:\n",
    "        print('Exceeded 1000 api calls. Stopping loop.')\n",
    "        break\n",
    "    \n",
    "    ## use n_results as the OFFSET \n",
    "    results = yelp_api.search_query(location=location,\n",
    "                                    term=term, \n",
    "                                    offset=n_results)\n",
    "    \n",
    "    \n",
    "    \n",
    "    ## append new results and save to file\n",
    "    previous_results.extend(results['businesses'])\n",
    "    \n",
    "    # display(previous_results)\n",
    "    with open(JSON_FILE,'w') as f:\n",
    "        json.dump(previous_results,f)\n",
    "        \n",
    "    # add a 200ms pause\n",
    "    time.sleep(.2)\n",
    "    \n"
   ]
  },
  {
   "cell_type": "code",
   "execution_count": 21,
   "id": "d4daec83-a8ca-4dcd-80e4-1f4bf613772f",
   "metadata": {},
   "outputs": [
    {
     "data": {
      "text/html": [
       "<div>\n",
       "<style scoped>\n",
       "    .dataframe tbody tr th:only-of-type {\n",
       "        vertical-align: middle;\n",
       "    }\n",
       "\n",
       "    .dataframe tbody tr th {\n",
       "        vertical-align: top;\n",
       "    }\n",
       "\n",
       "    .dataframe thead th {\n",
       "        text-align: right;\n",
       "    }\n",
       "</style>\n",
       "<table border=\"1\" class=\"dataframe\">\n",
       "  <thead>\n",
       "    <tr style=\"text-align: right;\">\n",
       "      <th></th>\n",
       "      <th>id</th>\n",
       "      <th>alias</th>\n",
       "      <th>name</th>\n",
       "      <th>image_url</th>\n",
       "      <th>is_closed</th>\n",
       "      <th>url</th>\n",
       "      <th>review_count</th>\n",
       "      <th>categories</th>\n",
       "      <th>rating</th>\n",
       "      <th>coordinates</th>\n",
       "      <th>transactions</th>\n",
       "      <th>location</th>\n",
       "      <th>phone</th>\n",
       "      <th>display_phone</th>\n",
       "      <th>distance</th>\n",
       "      <th>price</th>\n",
       "    </tr>\n",
       "  </thead>\n",
       "  <tbody>\n",
       "    <tr>\n",
       "      <th>0</th>\n",
       "      <td>Mry-o29iw1b8UGe5E5Tnfw</td>\n",
       "      <td>red-crab-juicy-seafood-cleveland</td>\n",
       "      <td>Red Crab Juicy Seafood</td>\n",
       "      <td>https://s3-media3.fl.yelpcdn.com/bphoto/PO5x-f...</td>\n",
       "      <td>False</td>\n",
       "      <td>https://www.yelp.com/biz/red-crab-juicy-seafoo...</td>\n",
       "      <td>47</td>\n",
       "      <td>[{'alias': 'seafood', 'title': 'Seafood'}]</td>\n",
       "      <td>4.0</td>\n",
       "      <td>{'latitude': 41.425456, 'longitude': -81.735635}</td>\n",
       "      <td>[pickup]</td>\n",
       "      <td>{'address1': '4754 Ridge Rd', 'address2': '', ...</td>\n",
       "      <td>+12164653888</td>\n",
       "      <td>(216) 465-3888</td>\n",
       "      <td>6749.291697</td>\n",
       "      <td>NaN</td>\n",
       "    </tr>\n",
       "    <tr>\n",
       "      <th>1</th>\n",
       "      <td>-d9JCrnjRW3Xmp2QvGwZ3g</td>\n",
       "      <td>seafood-shake-strongsville</td>\n",
       "      <td>Seafood Shake</td>\n",
       "      <td>https://s3-media1.fl.yelpcdn.com/bphoto/SNdn2d...</td>\n",
       "      <td>False</td>\n",
       "      <td>https://www.yelp.com/biz/seafood-shake-strongs...</td>\n",
       "      <td>16</td>\n",
       "      <td>[{'alias': 'seafood', 'title': 'Seafood'}]</td>\n",
       "      <td>4.5</td>\n",
       "      <td>{'latitude': 41.313691, 'longitude': -81.814785}</td>\n",
       "      <td>[pickup, delivery]</td>\n",
       "      <td>{'address1': '16532 Royalton Rd', 'address2': ...</td>\n",
       "      <td></td>\n",
       "      <td></td>\n",
       "      <td>12173.122768</td>\n",
       "      <td>NaN</td>\n",
       "    </tr>\n",
       "    <tr>\n",
       "      <th>2</th>\n",
       "      <td>EYqNh5zMIE2EDQ43ciazcA</td>\n",
       "      <td>lees-seafood-boil-north-olmsted-north-olmsted</td>\n",
       "      <td>Lee's Seafood Boil North Olmsted</td>\n",
       "      <td>https://s3-media4.fl.yelpcdn.com/bphoto/8X1m9B...</td>\n",
       "      <td>False</td>\n",
       "      <td>https://www.yelp.com/biz/lees-seafood-boil-nor...</td>\n",
       "      <td>35</td>\n",
       "      <td>[{'alias': 'seafood', 'title': 'Seafood'}, {'a...</td>\n",
       "      <td>4.0</td>\n",
       "      <td>{'latitude': 41.43291, 'longitude': -81.88364}</td>\n",
       "      <td>[pickup, delivery]</td>\n",
       "      <td>{'address1': '23642 Lorain Rd', 'address2': No...</td>\n",
       "      <td>+14404559003</td>\n",
       "      <td>(440) 455-9003</td>\n",
       "      <td>5702.722456</td>\n",
       "      <td>NaN</td>\n",
       "    </tr>\n",
       "    <tr>\n",
       "      <th>3</th>\n",
       "      <td>CymM3BP68hGigBK_5ap58A</td>\n",
       "      <td>sarita-a-restaurant-lakewood-2</td>\n",
       "      <td>sarita a restaurant</td>\n",
       "      <td>https://s3-media2.fl.yelpcdn.com/bphoto/ITKzFX...</td>\n",
       "      <td>False</td>\n",
       "      <td>https://www.yelp.com/biz/sarita-a-restaurant-l...</td>\n",
       "      <td>258</td>\n",
       "      <td>[{'alias': 'newamerican', 'title': 'New Americ...</td>\n",
       "      <td>4.5</td>\n",
       "      <td>{'latitude': 41.47694, 'longitude': -81.796886}</td>\n",
       "      <td>[delivery]</td>\n",
       "      <td>{'address1': '14523 Madison Ave', 'address2': ...</td>\n",
       "      <td>+12162265200</td>\n",
       "      <td>(216) 226-5200</td>\n",
       "      <td>6205.255053</td>\n",
       "      <td>$$</td>\n",
       "    </tr>\n",
       "    <tr>\n",
       "      <th>4</th>\n",
       "      <td>0I0yATfnNQJB-A-IPGgqDA</td>\n",
       "      <td>aristo-bistro-westlake-3</td>\n",
       "      <td>Aristo Bistro</td>\n",
       "      <td>https://s3-media2.fl.yelpcdn.com/bphoto/muWlSo...</td>\n",
       "      <td>False</td>\n",
       "      <td>https://www.yelp.com/biz/aristo-bistro-westlak...</td>\n",
       "      <td>113</td>\n",
       "      <td>[{'alias': 'chinese', 'title': 'Chinese'}, {'a...</td>\n",
       "      <td>4.5</td>\n",
       "      <td>{'latitude': 41.4571533123911, 'longitude': -8...</td>\n",
       "      <td>[delivery]</td>\n",
       "      <td>{'address1': '25124 Center Ridge Rd', 'address...</td>\n",
       "      <td>+14404559900</td>\n",
       "      <td>(440) 455-9900</td>\n",
       "      <td>7803.604542</td>\n",
       "      <td>$$</td>\n",
       "    </tr>\n",
       "  </tbody>\n",
       "</table>\n",
       "</div>"
      ],
      "text/plain": [
       "                       id                                          alias  \\\n",
       "0  Mry-o29iw1b8UGe5E5Tnfw               red-crab-juicy-seafood-cleveland   \n",
       "1  -d9JCrnjRW3Xmp2QvGwZ3g                     seafood-shake-strongsville   \n",
       "2  EYqNh5zMIE2EDQ43ciazcA  lees-seafood-boil-north-olmsted-north-olmsted   \n",
       "3  CymM3BP68hGigBK_5ap58A                 sarita-a-restaurant-lakewood-2   \n",
       "4  0I0yATfnNQJB-A-IPGgqDA                       aristo-bistro-westlake-3   \n",
       "\n",
       "                               name  \\\n",
       "0            Red Crab Juicy Seafood   \n",
       "1                     Seafood Shake   \n",
       "2  Lee's Seafood Boil North Olmsted   \n",
       "3               sarita a restaurant   \n",
       "4                     Aristo Bistro   \n",
       "\n",
       "                                           image_url  is_closed  \\\n",
       "0  https://s3-media3.fl.yelpcdn.com/bphoto/PO5x-f...      False   \n",
       "1  https://s3-media1.fl.yelpcdn.com/bphoto/SNdn2d...      False   \n",
       "2  https://s3-media4.fl.yelpcdn.com/bphoto/8X1m9B...      False   \n",
       "3  https://s3-media2.fl.yelpcdn.com/bphoto/ITKzFX...      False   \n",
       "4  https://s3-media2.fl.yelpcdn.com/bphoto/muWlSo...      False   \n",
       "\n",
       "                                                 url  review_count  \\\n",
       "0  https://www.yelp.com/biz/red-crab-juicy-seafoo...            47   \n",
       "1  https://www.yelp.com/biz/seafood-shake-strongs...            16   \n",
       "2  https://www.yelp.com/biz/lees-seafood-boil-nor...            35   \n",
       "3  https://www.yelp.com/biz/sarita-a-restaurant-l...           258   \n",
       "4  https://www.yelp.com/biz/aristo-bistro-westlak...           113   \n",
       "\n",
       "                                          categories  rating  \\\n",
       "0         [{'alias': 'seafood', 'title': 'Seafood'}]     4.0   \n",
       "1         [{'alias': 'seafood', 'title': 'Seafood'}]     4.5   \n",
       "2  [{'alias': 'seafood', 'title': 'Seafood'}, {'a...     4.0   \n",
       "3  [{'alias': 'newamerican', 'title': 'New Americ...     4.5   \n",
       "4  [{'alias': 'chinese', 'title': 'Chinese'}, {'a...     4.5   \n",
       "\n",
       "                                         coordinates        transactions  \\\n",
       "0   {'latitude': 41.425456, 'longitude': -81.735635}            [pickup]   \n",
       "1   {'latitude': 41.313691, 'longitude': -81.814785}  [pickup, delivery]   \n",
       "2     {'latitude': 41.43291, 'longitude': -81.88364}  [pickup, delivery]   \n",
       "3    {'latitude': 41.47694, 'longitude': -81.796886}          [delivery]   \n",
       "4  {'latitude': 41.4571533123911, 'longitude': -8...          [delivery]   \n",
       "\n",
       "                                            location         phone  \\\n",
       "0  {'address1': '4754 Ridge Rd', 'address2': '', ...  +12164653888   \n",
       "1  {'address1': '16532 Royalton Rd', 'address2': ...                 \n",
       "2  {'address1': '23642 Lorain Rd', 'address2': No...  +14404559003   \n",
       "3  {'address1': '14523 Madison Ave', 'address2': ...  +12162265200   \n",
       "4  {'address1': '25124 Center Ridge Rd', 'address...  +14404559900   \n",
       "\n",
       "    display_phone      distance price  \n",
       "0  (216) 465-3888   6749.291697   NaN  \n",
       "1                  12173.122768   NaN  \n",
       "2  (440) 455-9003   5702.722456   NaN  \n",
       "3  (216) 226-5200   6205.255053    $$  \n",
       "4  (440) 455-9900   7803.604542    $$  "
      ]
     },
     "metadata": {},
     "output_type": "display_data"
    },
    {
     "data": {
      "text/html": [
       "<div>\n",
       "<style scoped>\n",
       "    .dataframe tbody tr th:only-of-type {\n",
       "        vertical-align: middle;\n",
       "    }\n",
       "\n",
       "    .dataframe tbody tr th {\n",
       "        vertical-align: top;\n",
       "    }\n",
       "\n",
       "    .dataframe thead th {\n",
       "        text-align: right;\n",
       "    }\n",
       "</style>\n",
       "<table border=\"1\" class=\"dataframe\">\n",
       "  <thead>\n",
       "    <tr style=\"text-align: right;\">\n",
       "      <th></th>\n",
       "      <th>id</th>\n",
       "      <th>alias</th>\n",
       "      <th>name</th>\n",
       "      <th>image_url</th>\n",
       "      <th>is_closed</th>\n",
       "      <th>url</th>\n",
       "      <th>review_count</th>\n",
       "      <th>categories</th>\n",
       "      <th>rating</th>\n",
       "      <th>coordinates</th>\n",
       "      <th>transactions</th>\n",
       "      <th>location</th>\n",
       "      <th>phone</th>\n",
       "      <th>display_phone</th>\n",
       "      <th>distance</th>\n",
       "      <th>price</th>\n",
       "    </tr>\n",
       "  </thead>\n",
       "  <tbody>\n",
       "    <tr>\n",
       "      <th>369</th>\n",
       "      <td>123cbSJgE-BzNCzXV_7r0g</td>\n",
       "      <td>north-coast-cafe-cleveland</td>\n",
       "      <td>North Coast Cafe</td>\n",
       "      <td>https://s3-media4.fl.yelpcdn.com/bphoto/U2Yhaj...</td>\n",
       "      <td>False</td>\n",
       "      <td>https://www.yelp.com/biz/north-coast-cafe-clev...</td>\n",
       "      <td>23</td>\n",
       "      <td>[{'alias': 'newamerican', 'title': 'New Americ...</td>\n",
       "      <td>3.0</td>\n",
       "      <td>{'latitude': 41.5019874572754, 'longitude': -8...</td>\n",
       "      <td>[delivery]</td>\n",
       "      <td>{'address1': '9801 Carnegie Ave', 'address2': ...</td>\n",
       "      <td>+12167074051</td>\n",
       "      <td>(216) 707-4051</td>\n",
       "      <td>18648.359224</td>\n",
       "      <td>$$</td>\n",
       "    </tr>\n",
       "    <tr>\n",
       "      <th>370</th>\n",
       "      <td>r0DureDzsHpzs_VZem5k7g</td>\n",
       "      <td>outback-steakhouse-westlake</td>\n",
       "      <td>Outback Steakhouse</td>\n",
       "      <td>https://s3-media4.fl.yelpcdn.com/bphoto/MMfyJt...</td>\n",
       "      <td>False</td>\n",
       "      <td>https://www.yelp.com/biz/outback-steakhouse-we...</td>\n",
       "      <td>133</td>\n",
       "      <td>[{'alias': 'steak', 'title': 'Steakhouses'}]</td>\n",
       "      <td>2.5</td>\n",
       "      <td>{'latitude': 41.4749211698861, 'longitude': -8...</td>\n",
       "      <td>[pickup, delivery]</td>\n",
       "      <td>{'address1': '24900 Sperry Dr', 'address2': ''...</td>\n",
       "      <td>+14408923445</td>\n",
       "      <td>(440) 892-3445</td>\n",
       "      <td>8752.396747</td>\n",
       "      <td>$$</td>\n",
       "    </tr>\n",
       "    <tr>\n",
       "      <th>371</th>\n",
       "      <td>XUA7xA7myMaCuN6G3xYdIA</td>\n",
       "      <td>number-one-pho-cleveland</td>\n",
       "      <td>Number One Pho</td>\n",
       "      <td>https://s3-media4.fl.yelpcdn.com/bphoto/-OpBf0...</td>\n",
       "      <td>False</td>\n",
       "      <td>https://www.yelp.com/biz/number-one-pho-clevel...</td>\n",
       "      <td>270</td>\n",
       "      <td>[{'alias': 'vietnamese', 'title': 'Vietnamese'}]</td>\n",
       "      <td>3.5</td>\n",
       "      <td>{'latitude': 41.5107498168945, 'longitude': -8...</td>\n",
       "      <td>[pickup, delivery]</td>\n",
       "      <td>{'address1': '3120 Superior Ave E', 'address2'...</td>\n",
       "      <td>+12167811176</td>\n",
       "      <td>(216) 781-1176</td>\n",
       "      <td>15683.243615</td>\n",
       "      <td>$$</td>\n",
       "    </tr>\n",
       "    <tr>\n",
       "      <th>372</th>\n",
       "      <td>4rSHsXO4ozQoD0hoPCDatQ</td>\n",
       "      <td>china-express-lakewood</td>\n",
       "      <td>China Express</td>\n",
       "      <td>https://s3-media4.fl.yelpcdn.com/bphoto/TN4yqQ...</td>\n",
       "      <td>False</td>\n",
       "      <td>https://www.yelp.com/biz/china-express-lakewoo...</td>\n",
       "      <td>41</td>\n",
       "      <td>[{'alias': 'chinese', 'title': 'Chinese'}]</td>\n",
       "      <td>2.5</td>\n",
       "      <td>{'latitude': 41.4851178, 'longitude': -81.7868...</td>\n",
       "      <td>[pickup, delivery]</td>\n",
       "      <td>{'address1': '13621 Detroit Ave', 'address2': ...</td>\n",
       "      <td>+12162277890</td>\n",
       "      <td>(216) 227-7890</td>\n",
       "      <td>7313.007286</td>\n",
       "      <td>$</td>\n",
       "    </tr>\n",
       "    <tr>\n",
       "      <th>373</th>\n",
       "      <td>6tY0tn39Mb8FCLYBAXXOUw</td>\n",
       "      <td>china-renaissance-north-olmsted</td>\n",
       "      <td>China Renaissance</td>\n",
       "      <td>https://s3-media3.fl.yelpcdn.com/bphoto/rcqRLJ...</td>\n",
       "      <td>False</td>\n",
       "      <td>https://www.yelp.com/biz/china-renaissance-nor...</td>\n",
       "      <td>63</td>\n",
       "      <td>[{'alias': 'chinese', 'title': 'Chinese'}]</td>\n",
       "      <td>3.5</td>\n",
       "      <td>{'latitude': 41.407014, 'longitude': -81.946028}</td>\n",
       "      <td>[pickup, delivery]</td>\n",
       "      <td>{'address1': '29336 Lorain Rd', 'address2': ''...</td>\n",
       "      <td>+14407345888</td>\n",
       "      <td>(440) 734-5888</td>\n",
       "      <td>10943.813065</td>\n",
       "      <td>$$</td>\n",
       "    </tr>\n",
       "  </tbody>\n",
       "</table>\n",
       "</div>"
      ],
      "text/plain": [
       "                         id                            alias  \\\n",
       "369  123cbSJgE-BzNCzXV_7r0g       north-coast-cafe-cleveland   \n",
       "370  r0DureDzsHpzs_VZem5k7g      outback-steakhouse-westlake   \n",
       "371  XUA7xA7myMaCuN6G3xYdIA         number-one-pho-cleveland   \n",
       "372  4rSHsXO4ozQoD0hoPCDatQ           china-express-lakewood   \n",
       "373  6tY0tn39Mb8FCLYBAXXOUw  china-renaissance-north-olmsted   \n",
       "\n",
       "                   name                                          image_url  \\\n",
       "369    North Coast Cafe  https://s3-media4.fl.yelpcdn.com/bphoto/U2Yhaj...   \n",
       "370  Outback Steakhouse  https://s3-media4.fl.yelpcdn.com/bphoto/MMfyJt...   \n",
       "371      Number One Pho  https://s3-media4.fl.yelpcdn.com/bphoto/-OpBf0...   \n",
       "372       China Express  https://s3-media4.fl.yelpcdn.com/bphoto/TN4yqQ...   \n",
       "373   China Renaissance  https://s3-media3.fl.yelpcdn.com/bphoto/rcqRLJ...   \n",
       "\n",
       "     is_closed                                                url  \\\n",
       "369      False  https://www.yelp.com/biz/north-coast-cafe-clev...   \n",
       "370      False  https://www.yelp.com/biz/outback-steakhouse-we...   \n",
       "371      False  https://www.yelp.com/biz/number-one-pho-clevel...   \n",
       "372      False  https://www.yelp.com/biz/china-express-lakewoo...   \n",
       "373      False  https://www.yelp.com/biz/china-renaissance-nor...   \n",
       "\n",
       "     review_count                                         categories  rating  \\\n",
       "369            23  [{'alias': 'newamerican', 'title': 'New Americ...     3.0   \n",
       "370           133       [{'alias': 'steak', 'title': 'Steakhouses'}]     2.5   \n",
       "371           270   [{'alias': 'vietnamese', 'title': 'Vietnamese'}]     3.5   \n",
       "372            41         [{'alias': 'chinese', 'title': 'Chinese'}]     2.5   \n",
       "373            63         [{'alias': 'chinese', 'title': 'Chinese'}]     3.5   \n",
       "\n",
       "                                           coordinates        transactions  \\\n",
       "369  {'latitude': 41.5019874572754, 'longitude': -8...          [delivery]   \n",
       "370  {'latitude': 41.4749211698861, 'longitude': -8...  [pickup, delivery]   \n",
       "371  {'latitude': 41.5107498168945, 'longitude': -8...  [pickup, delivery]   \n",
       "372  {'latitude': 41.4851178, 'longitude': -81.7868...  [pickup, delivery]   \n",
       "373   {'latitude': 41.407014, 'longitude': -81.946028}  [pickup, delivery]   \n",
       "\n",
       "                                              location         phone  \\\n",
       "369  {'address1': '9801 Carnegie Ave', 'address2': ...  +12167074051   \n",
       "370  {'address1': '24900 Sperry Dr', 'address2': ''...  +14408923445   \n",
       "371  {'address1': '3120 Superior Ave E', 'address2'...  +12167811176   \n",
       "372  {'address1': '13621 Detroit Ave', 'address2': ...  +12162277890   \n",
       "373  {'address1': '29336 Lorain Rd', 'address2': ''...  +14407345888   \n",
       "\n",
       "      display_phone      distance price  \n",
       "369  (216) 707-4051  18648.359224    $$  \n",
       "370  (440) 892-3445   8752.396747    $$  \n",
       "371  (216) 781-1176  15683.243615    $$  \n",
       "372  (216) 227-7890   7313.007286     $  \n",
       "373  (440) 734-5888  10943.813065    $$  "
      ]
     },
     "metadata": {},
     "output_type": "display_data"
    }
   ],
   "source": [
    "# load final results\n",
    "final_df = pd.read_json(JSON_FILE)\n",
    "display(final_df.head(), final_df.tail())"
   ]
  },
  {
   "cell_type": "code",
   "execution_count": 22,
   "id": "87f68548-0c5a-4eae-b28c-08e46db857fc",
   "metadata": {},
   "outputs": [
    {
     "data": {
      "text/plain": [
       "2"
      ]
     },
     "execution_count": 22,
     "metadata": {},
     "output_type": "execute_result"
    }
   ],
   "source": [
    "# check for duplicate ID's \n",
    "final_df.duplicated(subset='id').sum()"
   ]
  },
  {
   "cell_type": "code",
   "execution_count": 23,
   "id": "d9da25f9-7486-4bf9-b61a-bb9cde68cb92",
   "metadata": {},
   "outputs": [
    {
     "data": {
      "text/plain": [
       "0"
      ]
     },
     "execution_count": 23,
     "metadata": {},
     "output_type": "execute_result"
    }
   ],
   "source": [
    "## Drop duplicate ids and confirm there are no more duplicates\n",
    "final_df = final_df.drop_duplicates(subset='id')\n",
    "final_df.duplicated(subset='id').sum()"
   ]
  },
  {
   "cell_type": "code",
   "execution_count": 24,
   "id": "181c65bf-5417-49df-bd34-db4fdbad7b56",
   "metadata": {},
   "outputs": [],
   "source": [
    "# save the final results to a compressed csv\n",
    "final_df.to_csv('Data/results_in_progress_cleveland_crab.csv', compression='gzip',index=False)"
   ]
  },
  {
   "cell_type": "code",
   "execution_count": null,
   "id": "3a0e7109-ee1c-4287-8e8a-59f7174e48e3",
   "metadata": {},
   "outputs": [],
   "source": []
  }
 ],
 "metadata": {
  "kernelspec": {
   "display_name": "Python (dojo-env)",
   "language": "python",
   "name": "dojo-env"
  },
  "language_info": {
   "codemirror_mode": {
    "name": "ipython",
    "version": 3
   },
   "file_extension": ".py",
   "mimetype": "text/x-python",
   "name": "python",
   "nbconvert_exporter": "python",
   "pygments_lexer": "ipython3",
   "version": "3.10.10"
  },
  "widgets": {
   "application/vnd.jupyter.widget-state+json": {
    "state": {
     "0848870adb6f451caf3cc848671c4f29": {
      "model_module": "@jupyter-widgets/controls",
      "model_module_version": "2.0.0",
      "model_name": "HTMLModel",
      "state": {
       "layout": "IPY_MODEL_658b1555780c46119a7107afe376d0d2",
       "style": "IPY_MODEL_5291c8877265430094b1a46ec525470c",
       "value": " 20/20 [00:16&lt;00:00,  1.20it/s]"
      }
     },
     "15d4c0b49e064140bba15dfcbdc808fe": {
      "model_module": "@jupyter-widgets/controls",
      "model_module_version": "2.0.0",
      "model_name": "HTMLStyleModel",
      "state": {
       "description_width": "",
       "font_size": null,
       "text_color": null
      }
     },
     "5291c8877265430094b1a46ec525470c": {
      "model_module": "@jupyter-widgets/controls",
      "model_module_version": "2.0.0",
      "model_name": "HTMLStyleModel",
      "state": {
       "description_width": "",
       "font_size": null,
       "text_color": null
      }
     },
     "55d1ca53b7984c8f9f6bf39303700be3": {
      "model_module": "@jupyter-widgets/base",
      "model_module_version": "2.0.0",
      "model_name": "LayoutModel",
      "state": {}
     },
     "658b1555780c46119a7107afe376d0d2": {
      "model_module": "@jupyter-widgets/base",
      "model_module_version": "2.0.0",
      "model_name": "LayoutModel",
      "state": {}
     },
     "6a1274ebf9224b76a1d6c49645796ac9": {
      "model_module": "@jupyter-widgets/controls",
      "model_module_version": "2.0.0",
      "model_name": "HBoxModel",
      "state": {
       "children": [
        "IPY_MODEL_72ed9cbe4af3466c891a941d4c1d9c32",
        "IPY_MODEL_cdad5787444e4163b71783fa48f2e239",
        "IPY_MODEL_0848870adb6f451caf3cc848671c4f29"
       ],
       "layout": "IPY_MODEL_ca64ecbaec154c8ab471dde217145843"
      }
     },
     "72ed9cbe4af3466c891a941d4c1d9c32": {
      "model_module": "@jupyter-widgets/controls",
      "model_module_version": "2.0.0",
      "model_name": "HTMLModel",
      "state": {
       "layout": "IPY_MODEL_55d1ca53b7984c8f9f6bf39303700be3",
       "style": "IPY_MODEL_15d4c0b49e064140bba15dfcbdc808fe",
       "value": "100%"
      }
     },
     "b7f667da9e1b409abc2510c2e26be3ab": {
      "model_module": "@jupyter-widgets/base",
      "model_module_version": "2.0.0",
      "model_name": "LayoutModel",
      "state": {}
     },
     "c08ad1b15f224e559054ba486ccd81fd": {
      "model_module": "@jupyter-widgets/controls",
      "model_module_version": "2.0.0",
      "model_name": "ProgressStyleModel",
      "state": {
       "description_width": ""
      }
     },
     "ca64ecbaec154c8ab471dde217145843": {
      "model_module": "@jupyter-widgets/base",
      "model_module_version": "2.0.0",
      "model_name": "LayoutModel",
      "state": {}
     },
     "cdad5787444e4163b71783fa48f2e239": {
      "model_module": "@jupyter-widgets/controls",
      "model_module_version": "2.0.0",
      "model_name": "FloatProgressModel",
      "state": {
       "bar_style": "success",
       "layout": "IPY_MODEL_b7f667da9e1b409abc2510c2e26be3ab",
       "max": 20,
       "style": "IPY_MODEL_c08ad1b15f224e559054ba486ccd81fd",
       "value": 20
      }
     }
    },
    "version_major": 2,
    "version_minor": 0
   }
  }
 },
 "nbformat": 4,
 "nbformat_minor": 5
}
