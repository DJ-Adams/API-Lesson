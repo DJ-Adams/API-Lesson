{
 "cells": [
  {
   "cell_type": "code",
   "execution_count": 7,
   "id": "f6a671f7-f131-4985-8501-0c98b1c832a3",
   "metadata": {},
   "outputs": [
    {
     "data": {
      "text/plain": [
       "dict_keys(['client-id', 'api-key'])"
      ]
     },
     "execution_count": 7,
     "metadata": {},
     "output_type": "execute_result"
    }
   ],
   "source": [
    "import pandas as pd\n",
    "import json\n",
    "with open('/Users/dmusl/.secret/yelp_api.json') as f:\n",
    "    login = json.load(f)\n",
    "login.keys()"
   ]
  },
  {
   "cell_type": "code",
   "execution_count": 10,
   "id": "27c5d78f-f907-4584-bf39-ace15c494ed1",
   "metadata": {},
   "outputs": [
    {
     "name": "stdout",
     "output_type": "stream",
     "text": [
      "Collecting yelpapi\n",
      "  Downloading yelpapi-2.5.0-py3-none-any.whl (7.4 kB)\n",
      "Requirement already satisfied: requests in c:\\users\\dmusl\\anaconda3\\envs\\dojo-env\\lib\\site-packages (from yelpapi) (2.29.0)\n",
      "Requirement already satisfied: charset-normalizer<4,>=2 in c:\\users\\dmusl\\anaconda3\\envs\\dojo-env\\lib\\site-packages (from requests->yelpapi) (2.0.4)\n",
      "Requirement already satisfied: idna<4,>=2.5 in c:\\users\\dmusl\\anaconda3\\envs\\dojo-env\\lib\\site-packages (from requests->yelpapi) (3.4)\n",
      "Requirement already satisfied: urllib3<1.27,>=1.21.1 in c:\\users\\dmusl\\anaconda3\\envs\\dojo-env\\lib\\site-packages (from requests->yelpapi) (1.26.15)\n",
      "Requirement already satisfied: certifi>=2017.4.17 in c:\\users\\dmusl\\anaconda3\\envs\\dojo-env\\lib\\site-packages (from requests->yelpapi) (2023.5.7)\n",
      "Installing collected packages: yelpapi\n",
      "Successfully installed yelpapi-2.5.0\n"
     ]
    }
   ],
   "source": [
    "# Standard Imports\n",
    "import numpy as np\n",
    "import pandas as pd\n",
    "import matplotlib.pyplot as plt\n",
    "import seaborn as sns\n",
    "\n",
    "# Additional Imports\n",
    "!pip install yelpapi\n",
    "import os, json, math, time\n",
    "from yelpapi import YelpAPI\n",
    "from tqdm.notebook import tqdm_notebook"
   ]
  },
  {
   "cell_type": "code",
   "execution_count": 11,
   "id": "6cb4087c-4825-4de0-8c97-840858d367b0",
   "metadata": {},
   "outputs": [
    {
     "data": {
      "text/plain": [
       "<yelpapi.yelpapi.YelpAPI at 0x2d058474730>"
      ]
     },
     "execution_count": 11,
     "metadata": {},
     "output_type": "execute_result"
    }
   ],
   "source": [
    "# import the YelpAPI Class\n",
    "from yelpapi import YelpAPI\n",
    "# Create an instance with your key\n",
    "yelp_api = YelpAPI(login['api-key'], timeout_s=5.0)\n",
    "yelp_api"
   ]
  },
  {
   "cell_type": "code",
   "execution_count": 12,
   "id": "c8889355-788f-4f19-831f-28c1c3b07f58",
   "metadata": {},
   "outputs": [
    {
     "name": "stdout",
     "output_type": "stream",
     "text": [
      "Help on method search_query in module yelpapi.yelpapi:\n",
      "\n",
      "search_query(**kwargs) method of yelpapi.yelpapi.YelpAPI instance\n",
      "    Query the Yelp Search API.\n",
      "    \n",
      "    documentation: https://www.yelp.com/developers/documentation/v3/business_search\n",
      "    \n",
      "    required parameters:\n",
      "        * one of either:\n",
      "            * location - text specifying a location to search for\n",
      "            * latitude and longitude\n",
      "\n"
     ]
    }
   ],
   "source": [
    "help(yelp_api.search_query)"
   ]
  },
  {
   "cell_type": "markdown",
   "id": "57aeecb7-b964-4a48-a57e-9031f75a7793",
   "metadata": {},
   "source": [
    "The only arguments/parameters that the docstring mentions are location or latitude & longitude.\r\n",
    "Notice that the link to the official API documentation is linked instead.\r\n",
    "This is because this documentation only shows what the required parameters are, but it will accept ANY of the parameters that are accepted by the business_search endpoint."
   ]
  },
  {
   "cell_type": "code",
   "execution_count": 13,
   "id": "933278c7-0247-4c6a-a900-6419ed9645aa",
   "metadata": {},
   "outputs": [
    {
     "name": "stdout",
     "output_type": "stream",
     "text": [
      "<class 'dict'>\n"
     ]
    },
    {
     "data": {
      "text/plain": [
       "dict_keys(['businesses', 'total', 'region'])"
      ]
     },
     "execution_count": 13,
     "metadata": {},
     "output_type": "execute_result"
    }
   ],
   "source": [
    "# use our yelp_api variable's search_query method to perform our API call\n",
    "search_results = yelp_api.search_query(location='NY, NY',\n",
    "                                       term='Pizza')\n",
    "print(type(search_results))\n",
    "search_results.keys()"
   ]
  },
  {
   "cell_type": "markdown",
   "id": "b0c94178-a253-4963-8464-fb8c2dd8f4bf",
   "metadata": {},
   "source": [
    "The package returns the results in the JSON format we have been exploring. Note that the exact results may vary as the Yelp site is constantly changing."
   ]
  },
  {
   "cell_type": "code",
   "execution_count": 14,
   "id": "62d731cb-b2ae-407c-ba5d-50a4636c4f9e",
   "metadata": {},
   "outputs": [
    {
     "data": {
      "text/plain": [
       "12400"
      ]
     },
     "execution_count": 14,
     "metadata": {},
     "output_type": "execute_result"
    }
   ],
   "source": [
    "search_results['total']"
   ]
  },
  {
   "cell_type": "code",
   "execution_count": 15,
   "id": "f8e81ee8-b432-4756-bbcb-c948d1d86f71",
   "metadata": {},
   "outputs": [
    {
     "data": {
      "text/html": [
       "<div>\n",
       "<style scoped>\n",
       "    .dataframe tbody tr th:only-of-type {\n",
       "        vertical-align: middle;\n",
       "    }\n",
       "\n",
       "    .dataframe tbody tr th {\n",
       "        vertical-align: top;\n",
       "    }\n",
       "\n",
       "    .dataframe thead th {\n",
       "        text-align: right;\n",
       "    }\n",
       "</style>\n",
       "<table border=\"1\" class=\"dataframe\">\n",
       "  <thead>\n",
       "    <tr style=\"text-align: right;\">\n",
       "      <th></th>\n",
       "      <th>id</th>\n",
       "      <th>alias</th>\n",
       "      <th>name</th>\n",
       "      <th>image_url</th>\n",
       "      <th>is_closed</th>\n",
       "      <th>url</th>\n",
       "      <th>review_count</th>\n",
       "      <th>categories</th>\n",
       "      <th>rating</th>\n",
       "      <th>coordinates</th>\n",
       "      <th>transactions</th>\n",
       "      <th>price</th>\n",
       "      <th>location</th>\n",
       "      <th>phone</th>\n",
       "      <th>display_phone</th>\n",
       "      <th>distance</th>\n",
       "    </tr>\n",
       "  </thead>\n",
       "  <tbody>\n",
       "    <tr>\n",
       "      <th>0</th>\n",
       "      <td>ysqgdbSrezXgVwER2kQWKA</td>\n",
       "      <td>julianas-brooklyn-3</td>\n",
       "      <td>Juliana's</td>\n",
       "      <td>https://s3-media2.fl.yelpcdn.com/bphoto/od36nF...</td>\n",
       "      <td>False</td>\n",
       "      <td>https://www.yelp.com/biz/julianas-brooklyn-3?a...</td>\n",
       "      <td>2699</td>\n",
       "      <td>[{'alias': 'pizza', 'title': 'Pizza'}]</td>\n",
       "      <td>4.5</td>\n",
       "      <td>{'latitude': 40.70274718768062, 'longitude': -...</td>\n",
       "      <td>[delivery]</td>\n",
       "      <td>$$</td>\n",
       "      <td>{'address1': '19 Old Fulton St', 'address2': '...</td>\n",
       "      <td>+17185966700</td>\n",
       "      <td>(718) 596-6700</td>\n",
       "      <td>308.569844</td>\n",
       "    </tr>\n",
       "    <tr>\n",
       "      <th>1</th>\n",
       "      <td>zj8Lq1T8KIC5zwFief15jg</td>\n",
       "      <td>prince-street-pizza-new-york-2</td>\n",
       "      <td>Prince Street Pizza</td>\n",
       "      <td>https://s3-media4.fl.yelpcdn.com/bphoto/PfI8oV...</td>\n",
       "      <td>False</td>\n",
       "      <td>https://www.yelp.com/biz/prince-street-pizza-n...</td>\n",
       "      <td>5052</td>\n",
       "      <td>[{'alias': 'pizza', 'title': 'Pizza'}, {'alias...</td>\n",
       "      <td>4.5</td>\n",
       "      <td>{'latitude': 40.72308755605564, 'longitude': -...</td>\n",
       "      <td>[delivery, pickup]</td>\n",
       "      <td>$</td>\n",
       "      <td>{'address1': '27 Prince St', 'address2': None,...</td>\n",
       "      <td>+12129664100</td>\n",
       "      <td>(212) 966-4100</td>\n",
       "      <td>1961.877142</td>\n",
       "    </tr>\n",
       "  </tbody>\n",
       "</table>\n",
       "</div>"
      ],
      "text/plain": [
       "                       id                           alias  \\\n",
       "0  ysqgdbSrezXgVwER2kQWKA             julianas-brooklyn-3   \n",
       "1  zj8Lq1T8KIC5zwFief15jg  prince-street-pizza-new-york-2   \n",
       "\n",
       "                  name                                          image_url  \\\n",
       "0            Juliana's  https://s3-media2.fl.yelpcdn.com/bphoto/od36nF...   \n",
       "1  Prince Street Pizza  https://s3-media4.fl.yelpcdn.com/bphoto/PfI8oV...   \n",
       "\n",
       "   is_closed                                                url  review_count  \\\n",
       "0      False  https://www.yelp.com/biz/julianas-brooklyn-3?a...          2699   \n",
       "1      False  https://www.yelp.com/biz/prince-street-pizza-n...          5052   \n",
       "\n",
       "                                          categories  rating  \\\n",
       "0             [{'alias': 'pizza', 'title': 'Pizza'}]     4.5   \n",
       "1  [{'alias': 'pizza', 'title': 'Pizza'}, {'alias...     4.5   \n",
       "\n",
       "                                         coordinates        transactions  \\\n",
       "0  {'latitude': 40.70274718768062, 'longitude': -...          [delivery]   \n",
       "1  {'latitude': 40.72308755605564, 'longitude': -...  [delivery, pickup]   \n",
       "\n",
       "  price                                           location         phone  \\\n",
       "0    $$  {'address1': '19 Old Fulton St', 'address2': '...  +17185966700   \n",
       "1     $  {'address1': '27 Prince St', 'address2': None,...  +12129664100   \n",
       "\n",
       "    display_phone     distance  \n",
       "0  (718) 596-6700   308.569844  \n",
       "1  (212) 966-4100  1961.877142  "
      ]
     },
     "execution_count": 15,
     "metadata": {},
     "output_type": "execute_result"
    }
   ],
   "source": [
    "biz = pd.DataFrame(search_results['businesses'])\n",
    "biz.head(2) "
   ]
  },
  {
   "cell_type": "markdown",
   "id": "f22850a4-25ad-4973-9950-570bb0339f1b",
   "metadata": {},
   "source": [
    "# Pagination and \"offset\"\r\n",
    "Pagination can be understood through this brief demonstration:\r\n",
    "\r\n",
    "\r\n",
    "Total Results vs. Businesses\r\n",
    "\r\n",
    "If we check the total number of results, we can see that we had 12,000 businesses that met our search criteria."
   ]
  },
  {
   "cell_type": "code",
   "execution_count": 16,
   "id": "aceb432e-d744-4e4b-838a-2044c8048cae",
   "metadata": {},
   "outputs": [
    {
     "data": {
      "text/plain": [
       "12400"
      ]
     },
     "execution_count": 16,
     "metadata": {},
     "output_type": "execute_result"
    }
   ],
   "source": [
    "## total number of matching businesses\n",
    "search_results['total']"
   ]
  },
  {
   "cell_type": "markdown",
   "id": "69c48b09-0887-4469-89f0-6dd7952ebea9",
   "metadata": {},
   "source": [
    "However, if we check our list of businesses, we will see that we only received data for 20 businesses."
   ]
  },
  {
   "cell_type": "code",
   "execution_count": 17,
   "id": "d5f70aef-78f0-4723-9c42-2101234cc219",
   "metadata": {},
   "outputs": [
    {
     "data": {
      "text/plain": [
       "20"
      ]
     },
     "execution_count": 17,
     "metadata": {},
     "output_type": "execute_result"
    }
   ],
   "source": [
    "## how many businesses in our results\n",
    "len(search_results['businesses'])"
   ]
  },
  {
   "cell_type": "markdown",
   "id": "1e7cab02-5228-43f4-9dc8-0c5c0ec37bf2",
   "metadata": {},
   "source": [
    "We have 12000 results, but the length is only 2.? What's going on?\r\n",
    "\r\n",
    "If you think about the results of a Google search, we usually have MANY more results that Google will display at one time. When we scroll down to the bottom of the results, we can see that Google has divided the results into several PAGES of results instead of one extremely long page.\r\n",
    "\r\n",
    "\r\n",
    "This is what Yelp Fusion is doing as well! The general term for this is \"Pagination\".\r\n",
    "\r\n",
    "\r\n",
    "\r\n",
    "The Yelp API will only return a \"page\" of 20 results at a time.\r\n",
    "\r\n",
    "If we want to get the next page of results, we will perform another API call, but we will add an additional argument called \"offset.\"\r\n",
    "The offset is what # result to use as the FIRST result for the page.\r\n",
    "If we had 20 businesses in our first result, we would want to add an offset of 20."
   ]
  },
  {
   "cell_type": "code",
   "execution_count": 18,
   "id": "46eb4238-5f5f-4a15-aec0-e80db178d517",
   "metadata": {},
   "outputs": [],
   "source": [
    "# add offset to our original api call\n",
    "search_results = yelp_api.search_query(location='NY, NY',\n",
    "                                       term='Pizza',\n",
    "                                       offset = 20)"
   ]
  },
  {
   "cell_type": "code",
   "execution_count": 19,
   "id": "f28b3224-53cb-457b-b304-3420c61e1972",
   "metadata": {},
   "outputs": [
    {
     "data": {
      "text/html": [
       "<div>\n",
       "<style scoped>\n",
       "    .dataframe tbody tr th:only-of-type {\n",
       "        vertical-align: middle;\n",
       "    }\n",
       "\n",
       "    .dataframe tbody tr th {\n",
       "        vertical-align: top;\n",
       "    }\n",
       "\n",
       "    .dataframe thead th {\n",
       "        text-align: right;\n",
       "    }\n",
       "</style>\n",
       "<table border=\"1\" class=\"dataframe\">\n",
       "  <thead>\n",
       "    <tr style=\"text-align: right;\">\n",
       "      <th></th>\n",
       "      <th>id</th>\n",
       "      <th>alias</th>\n",
       "      <th>name</th>\n",
       "      <th>image_url</th>\n",
       "      <th>is_closed</th>\n",
       "      <th>url</th>\n",
       "      <th>review_count</th>\n",
       "      <th>categories</th>\n",
       "      <th>rating</th>\n",
       "      <th>coordinates</th>\n",
       "      <th>transactions</th>\n",
       "      <th>price</th>\n",
       "      <th>location</th>\n",
       "      <th>phone</th>\n",
       "      <th>display_phone</th>\n",
       "      <th>distance</th>\n",
       "    </tr>\n",
       "  </thead>\n",
       "  <tbody>\n",
       "    <tr>\n",
       "      <th>0</th>\n",
       "      <td>2xQmBB6w-W6lxiex80fA9A</td>\n",
       "      <td>luigis-pizzeria-brooklyn-4</td>\n",
       "      <td>Luigi's Pizzeria</td>\n",
       "      <td>https://s3-media4.fl.yelpcdn.com/bphoto/j8wXRU...</td>\n",
       "      <td>False</td>\n",
       "      <td>https://www.yelp.com/biz/luigis-pizzeria-brook...</td>\n",
       "      <td>288</td>\n",
       "      <td>[{'alias': 'pizza', 'title': 'Pizza'}]</td>\n",
       "      <td>4.5</td>\n",
       "      <td>{'latitude': 40.6897, 'longitude': -73.965369}</td>\n",
       "      <td>[delivery]</td>\n",
       "      <td>$</td>\n",
       "      <td>{'address1': '326 Dekalb Ave', 'address2': '',...</td>\n",
       "      <td>+17187832430</td>\n",
       "      <td>(718) 783-2430</td>\n",
       "      <td>3001.831815</td>\n",
       "    </tr>\n",
       "    <tr>\n",
       "      <th>1</th>\n",
       "      <td>GRXvvB1OKMuW4XDWEaVAlg</td>\n",
       "      <td>joes-pizza-brooklyn-8</td>\n",
       "      <td>Joe's Pizza</td>\n",
       "      <td>https://s3-media3.fl.yelpcdn.com/bphoto/0WEXB_...</td>\n",
       "      <td>False</td>\n",
       "      <td>https://www.yelp.com/biz/joes-pizza-brooklyn-8...</td>\n",
       "      <td>458</td>\n",
       "      <td>[{'alias': 'pizza', 'title': 'Pizza'}]</td>\n",
       "      <td>4.0</td>\n",
       "      <td>{'latitude': 40.7168952, 'longitude': -73.9589...</td>\n",
       "      <td>[pickup, delivery]</td>\n",
       "      <td>$</td>\n",
       "      <td>{'address1': '216 Bedford Ave', 'address2': ''...</td>\n",
       "      <td>+17183882216</td>\n",
       "      <td>(718) 388-2216</td>\n",
       "      <td>3241.190355</td>\n",
       "    </tr>\n",
       "  </tbody>\n",
       "</table>\n",
       "</div>"
      ],
      "text/plain": [
       "                       id                       alias              name  \\\n",
       "0  2xQmBB6w-W6lxiex80fA9A  luigis-pizzeria-brooklyn-4  Luigi's Pizzeria   \n",
       "1  GRXvvB1OKMuW4XDWEaVAlg       joes-pizza-brooklyn-8       Joe's Pizza   \n",
       "\n",
       "                                           image_url  is_closed  \\\n",
       "0  https://s3-media4.fl.yelpcdn.com/bphoto/j8wXRU...      False   \n",
       "1  https://s3-media3.fl.yelpcdn.com/bphoto/0WEXB_...      False   \n",
       "\n",
       "                                                 url  review_count  \\\n",
       "0  https://www.yelp.com/biz/luigis-pizzeria-brook...           288   \n",
       "1  https://www.yelp.com/biz/joes-pizza-brooklyn-8...           458   \n",
       "\n",
       "                               categories  rating  \\\n",
       "0  [{'alias': 'pizza', 'title': 'Pizza'}]     4.5   \n",
       "1  [{'alias': 'pizza', 'title': 'Pizza'}]     4.0   \n",
       "\n",
       "                                         coordinates        transactions  \\\n",
       "0     {'latitude': 40.6897, 'longitude': -73.965369}          [delivery]   \n",
       "1  {'latitude': 40.7168952, 'longitude': -73.9589...  [pickup, delivery]   \n",
       "\n",
       "  price                                           location         phone  \\\n",
       "0     $  {'address1': '326 Dekalb Ave', 'address2': '',...  +17187832430   \n",
       "1     $  {'address1': '216 Bedford Ave', 'address2': ''...  +17183882216   \n",
       "\n",
       "    display_phone     distance  \n",
       "0  (718) 783-2430  3001.831815  \n",
       "1  (718) 388-2216  3241.190355  "
      ]
     },
     "execution_count": 19,
     "metadata": {},
     "output_type": "execute_result"
    }
   ],
   "source": [
    "biz20 = pd.DataFrame(search_results['businesses'])\n",
    "biz20.head(2)"
   ]
  },
  {
   "cell_type": "code",
   "execution_count": 20,
   "id": "3fedd5c1-7e63-4c12-bbc7-28821cdec1ea",
   "metadata": {},
   "outputs": [
    {
     "data": {
      "text/html": [
       "<div>\n",
       "<style scoped>\n",
       "    .dataframe tbody tr th:only-of-type {\n",
       "        vertical-align: middle;\n",
       "    }\n",
       "\n",
       "    .dataframe tbody tr th {\n",
       "        vertical-align: top;\n",
       "    }\n",
       "\n",
       "    .dataframe thead th {\n",
       "        text-align: right;\n",
       "    }\n",
       "</style>\n",
       "<table border=\"1\" class=\"dataframe\">\n",
       "  <thead>\n",
       "    <tr style=\"text-align: right;\">\n",
       "      <th></th>\n",
       "      <th>id</th>\n",
       "      <th>alias</th>\n",
       "      <th>name</th>\n",
       "      <th>image_url</th>\n",
       "      <th>is_closed</th>\n",
       "      <th>url</th>\n",
       "      <th>review_count</th>\n",
       "      <th>categories</th>\n",
       "      <th>rating</th>\n",
       "      <th>coordinates</th>\n",
       "      <th>transactions</th>\n",
       "      <th>price</th>\n",
       "      <th>location</th>\n",
       "      <th>phone</th>\n",
       "      <th>display_phone</th>\n",
       "      <th>distance</th>\n",
       "    </tr>\n",
       "  </thead>\n",
       "  <tbody>\n",
       "    <tr>\n",
       "      <th>0</th>\n",
       "      <td>ysqgdbSrezXgVwER2kQWKA</td>\n",
       "      <td>julianas-brooklyn-3</td>\n",
       "      <td>Juliana's</td>\n",
       "      <td>https://s3-media2.fl.yelpcdn.com/bphoto/od36nF...</td>\n",
       "      <td>False</td>\n",
       "      <td>https://www.yelp.com/biz/julianas-brooklyn-3?a...</td>\n",
       "      <td>2699</td>\n",
       "      <td>[{'alias': 'pizza', 'title': 'Pizza'}]</td>\n",
       "      <td>4.5</td>\n",
       "      <td>{'latitude': 40.70274718768062, 'longitude': -...</td>\n",
       "      <td>[delivery]</td>\n",
       "      <td>$$</td>\n",
       "      <td>{'address1': '19 Old Fulton St', 'address2': '...</td>\n",
       "      <td>+17185966700</td>\n",
       "      <td>(718) 596-6700</td>\n",
       "      <td>308.569844</td>\n",
       "    </tr>\n",
       "    <tr>\n",
       "      <th>1</th>\n",
       "      <td>zj8Lq1T8KIC5zwFief15jg</td>\n",
       "      <td>prince-street-pizza-new-york-2</td>\n",
       "      <td>Prince Street Pizza</td>\n",
       "      <td>https://s3-media4.fl.yelpcdn.com/bphoto/PfI8oV...</td>\n",
       "      <td>False</td>\n",
       "      <td>https://www.yelp.com/biz/prince-street-pizza-n...</td>\n",
       "      <td>5052</td>\n",
       "      <td>[{'alias': 'pizza', 'title': 'Pizza'}, {'alias...</td>\n",
       "      <td>4.5</td>\n",
       "      <td>{'latitude': 40.72308755605564, 'longitude': -...</td>\n",
       "      <td>[delivery, pickup]</td>\n",
       "      <td>$</td>\n",
       "      <td>{'address1': '27 Prince St', 'address2': None,...</td>\n",
       "      <td>+12129664100</td>\n",
       "      <td>(212) 966-4100</td>\n",
       "      <td>1961.877142</td>\n",
       "    </tr>\n",
       "    <tr>\n",
       "      <th>2</th>\n",
       "      <td>WG639VkTjmK5dzydd1BBJA</td>\n",
       "      <td>rubirosa-new-york-2</td>\n",
       "      <td>Rubirosa</td>\n",
       "      <td>https://s3-media3.fl.yelpcdn.com/bphoto/l0Phrn...</td>\n",
       "      <td>False</td>\n",
       "      <td>https://www.yelp.com/biz/rubirosa-new-york-2?a...</td>\n",
       "      <td>3166</td>\n",
       "      <td>[{'alias': 'italian', 'title': 'Italian'}, {'a...</td>\n",
       "      <td>4.5</td>\n",
       "      <td>{'latitude': 40.722766, 'longitude': -73.996233}</td>\n",
       "      <td>[pickup]</td>\n",
       "      <td>$$</td>\n",
       "      <td>{'address1': '235 Mulberry St', 'address2': ''...</td>\n",
       "      <td>+12129650500</td>\n",
       "      <td>(212) 965-0500</td>\n",
       "      <td>1932.946770</td>\n",
       "    </tr>\n",
       "  </tbody>\n",
       "</table>\n",
       "</div>"
      ],
      "text/plain": [
       "                       id                           alias  \\\n",
       "0  ysqgdbSrezXgVwER2kQWKA             julianas-brooklyn-3   \n",
       "1  zj8Lq1T8KIC5zwFief15jg  prince-street-pizza-new-york-2   \n",
       "2  WG639VkTjmK5dzydd1BBJA             rubirosa-new-york-2   \n",
       "\n",
       "                  name                                          image_url  \\\n",
       "0            Juliana's  https://s3-media2.fl.yelpcdn.com/bphoto/od36nF...   \n",
       "1  Prince Street Pizza  https://s3-media4.fl.yelpcdn.com/bphoto/PfI8oV...   \n",
       "2             Rubirosa  https://s3-media3.fl.yelpcdn.com/bphoto/l0Phrn...   \n",
       "\n",
       "   is_closed                                                url  review_count  \\\n",
       "0      False  https://www.yelp.com/biz/julianas-brooklyn-3?a...          2699   \n",
       "1      False  https://www.yelp.com/biz/prince-street-pizza-n...          5052   \n",
       "2      False  https://www.yelp.com/biz/rubirosa-new-york-2?a...          3166   \n",
       "\n",
       "                                          categories  rating  \\\n",
       "0             [{'alias': 'pizza', 'title': 'Pizza'}]     4.5   \n",
       "1  [{'alias': 'pizza', 'title': 'Pizza'}, {'alias...     4.5   \n",
       "2  [{'alias': 'italian', 'title': 'Italian'}, {'a...     4.5   \n",
       "\n",
       "                                         coordinates        transactions  \\\n",
       "0  {'latitude': 40.70274718768062, 'longitude': -...          [delivery]   \n",
       "1  {'latitude': 40.72308755605564, 'longitude': -...  [delivery, pickup]   \n",
       "2   {'latitude': 40.722766, 'longitude': -73.996233}            [pickup]   \n",
       "\n",
       "  price                                           location         phone  \\\n",
       "0    $$  {'address1': '19 Old Fulton St', 'address2': '...  +17185966700   \n",
       "1     $  {'address1': '27 Prince St', 'address2': None,...  +12129664100   \n",
       "2    $$  {'address1': '235 Mulberry St', 'address2': ''...  +12129650500   \n",
       "\n",
       "    display_phone     distance  \n",
       "0  (718) 596-6700   308.569844  \n",
       "1  (212) 966-4100  1961.877142  \n",
       "2  (212) 965-0500  1932.946770  "
      ]
     },
     "metadata": {},
     "output_type": "display_data"
    },
    {
     "data": {
      "text/html": [
       "<div>\n",
       "<style scoped>\n",
       "    .dataframe tbody tr th:only-of-type {\n",
       "        vertical-align: middle;\n",
       "    }\n",
       "\n",
       "    .dataframe tbody tr th {\n",
       "        vertical-align: top;\n",
       "    }\n",
       "\n",
       "    .dataframe thead th {\n",
       "        text-align: right;\n",
       "    }\n",
       "</style>\n",
       "<table border=\"1\" class=\"dataframe\">\n",
       "  <thead>\n",
       "    <tr style=\"text-align: right;\">\n",
       "      <th></th>\n",
       "      <th>id</th>\n",
       "      <th>alias</th>\n",
       "      <th>name</th>\n",
       "      <th>image_url</th>\n",
       "      <th>is_closed</th>\n",
       "      <th>url</th>\n",
       "      <th>review_count</th>\n",
       "      <th>categories</th>\n",
       "      <th>rating</th>\n",
       "      <th>coordinates</th>\n",
       "      <th>transactions</th>\n",
       "      <th>price</th>\n",
       "      <th>location</th>\n",
       "      <th>phone</th>\n",
       "      <th>display_phone</th>\n",
       "      <th>distance</th>\n",
       "    </tr>\n",
       "  </thead>\n",
       "  <tbody>\n",
       "    <tr>\n",
       "      <th>37</th>\n",
       "      <td>l6yVO8l8E5XI9ArgOy5rgw</td>\n",
       "      <td>ltd-pizza-and-bar-new-york</td>\n",
       "      <td>LTD Pizza and Bar</td>\n",
       "      <td>https://s3-media2.fl.yelpcdn.com/bphoto/Lt0xvq...</td>\n",
       "      <td>False</td>\n",
       "      <td>https://www.yelp.com/biz/ltd-pizza-and-bar-new...</td>\n",
       "      <td>29</td>\n",
       "      <td>[{'alias': 'pizza', 'title': 'Pizza'}, {'alias...</td>\n",
       "      <td>4.5</td>\n",
       "      <td>{'latitude': 40.724242, 'longitude': -74.00802}</td>\n",
       "      <td>[pickup, restaurant_reservation, delivery]</td>\n",
       "      <td>NaN</td>\n",
       "      <td>{'address1': '225 Hudson St', 'address2': None...</td>\n",
       "      <td>+12124191618</td>\n",
       "      <td>(212) 419-1618</td>\n",
       "      <td>2391.701096</td>\n",
       "    </tr>\n",
       "    <tr>\n",
       "      <th>38</th>\n",
       "      <td>C8j0q4Ma_S5hBGuAI-aaww</td>\n",
       "      <td>di-fara-pizza-brooklyn</td>\n",
       "      <td>Di Fara Pizza</td>\n",
       "      <td>https://s3-media1.fl.yelpcdn.com/bphoto/HWI1IP...</td>\n",
       "      <td>False</td>\n",
       "      <td>https://www.yelp.com/biz/di-fara-pizza-brookly...</td>\n",
       "      <td>3999</td>\n",
       "      <td>[{'alias': 'pizza', 'title': 'Pizza'}]</td>\n",
       "      <td>4.0</td>\n",
       "      <td>{'latitude': 40.625093, 'longitude': -73.961531}</td>\n",
       "      <td>[]</td>\n",
       "      <td>$$</td>\n",
       "      <td>{'address1': '1424 Ave J', 'address2': '', 'ad...</td>\n",
       "      <td>+17182581367</td>\n",
       "      <td>(718) 258-1367</td>\n",
       "      <td>9352.269073</td>\n",
       "    </tr>\n",
       "    <tr>\n",
       "      <th>39</th>\n",
       "      <td>k8dVn-31WHmn2EDD6zwdHw</td>\n",
       "      <td>esca-s-pizza-queens</td>\n",
       "      <td>Esca’s Pizza</td>\n",
       "      <td>https://s3-media2.fl.yelpcdn.com/bphoto/UiJJ0w...</td>\n",
       "      <td>False</td>\n",
       "      <td>https://www.yelp.com/biz/esca-s-pizza-queens?a...</td>\n",
       "      <td>8</td>\n",
       "      <td>[{'alias': 'pizza', 'title': 'Pizza'}, {'alias...</td>\n",
       "      <td>5.0</td>\n",
       "      <td>{'latitude': 40.682027, 'longitude': -73.849199}</td>\n",
       "      <td>[delivery]</td>\n",
       "      <td>NaN</td>\n",
       "      <td>{'address1': '90-17 Rockaway Blvd', 'address2'...</td>\n",
       "      <td>+19295563033</td>\n",
       "      <td>(929) 556-3033</td>\n",
       "      <td>12508.611388</td>\n",
       "    </tr>\n",
       "  </tbody>\n",
       "</table>\n",
       "</div>"
      ],
      "text/plain": [
       "                        id                       alias               name  \\\n",
       "37  l6yVO8l8E5XI9ArgOy5rgw  ltd-pizza-and-bar-new-york  LTD Pizza and Bar   \n",
       "38  C8j0q4Ma_S5hBGuAI-aaww      di-fara-pizza-brooklyn      Di Fara Pizza   \n",
       "39  k8dVn-31WHmn2EDD6zwdHw         esca-s-pizza-queens       Esca’s Pizza   \n",
       "\n",
       "                                            image_url  is_closed  \\\n",
       "37  https://s3-media2.fl.yelpcdn.com/bphoto/Lt0xvq...      False   \n",
       "38  https://s3-media1.fl.yelpcdn.com/bphoto/HWI1IP...      False   \n",
       "39  https://s3-media2.fl.yelpcdn.com/bphoto/UiJJ0w...      False   \n",
       "\n",
       "                                                  url  review_count  \\\n",
       "37  https://www.yelp.com/biz/ltd-pizza-and-bar-new...            29   \n",
       "38  https://www.yelp.com/biz/di-fara-pizza-brookly...          3999   \n",
       "39  https://www.yelp.com/biz/esca-s-pizza-queens?a...             8   \n",
       "\n",
       "                                           categories  rating  \\\n",
       "37  [{'alias': 'pizza', 'title': 'Pizza'}, {'alias...     4.5   \n",
       "38             [{'alias': 'pizza', 'title': 'Pizza'}]     4.0   \n",
       "39  [{'alias': 'pizza', 'title': 'Pizza'}, {'alias...     5.0   \n",
       "\n",
       "                                         coordinates  \\\n",
       "37   {'latitude': 40.724242, 'longitude': -74.00802}   \n",
       "38  {'latitude': 40.625093, 'longitude': -73.961531}   \n",
       "39  {'latitude': 40.682027, 'longitude': -73.849199}   \n",
       "\n",
       "                                  transactions price  \\\n",
       "37  [pickup, restaurant_reservation, delivery]   NaN   \n",
       "38                                          []    $$   \n",
       "39                                  [delivery]   NaN   \n",
       "\n",
       "                                             location         phone  \\\n",
       "37  {'address1': '225 Hudson St', 'address2': None...  +12124191618   \n",
       "38  {'address1': '1424 Ave J', 'address2': '', 'ad...  +17182581367   \n",
       "39  {'address1': '90-17 Rockaway Blvd', 'address2'...  +19295563033   \n",
       "\n",
       "     display_phone      distance  \n",
       "37  (212) 419-1618   2391.701096  \n",
       "38  (718) 258-1367   9352.269073  \n",
       "39  (929) 556-3033  12508.611388  "
      ]
     },
     "metadata": {},
     "output_type": "display_data"
    }
   ],
   "source": [
    "## concatenate the previous results and new results. \n",
    "businesses = pd.concat([biz, biz20],\n",
    "                      ignore_index=True)\n",
    "display(businesses.head(3), businesses.tail(3))"
   ]
  },
  {
   "cell_type": "code",
   "execution_count": null,
   "id": "332044a8-cc96-4aeb-8425-ae6f88e97cd8",
   "metadata": {},
   "outputs": [],
   "source": []
  }
 ],
 "metadata": {
  "kernelspec": {
   "display_name": "Python (dojo-env)",
   "language": "python",
   "name": "dojo-env"
  },
  "language_info": {
   "codemirror_mode": {
    "name": "ipython",
    "version": 3
   },
   "file_extension": ".py",
   "mimetype": "text/x-python",
   "name": "python",
   "nbconvert_exporter": "python",
   "pygments_lexer": "ipython3",
   "version": "3.10.10"
  },
  "widgets": {
   "application/vnd.jupyter.widget-state+json": {
    "state": {},
    "version_major": 2,
    "version_minor": 0
   }
  }
 },
 "nbformat": 4,
 "nbformat_minor": 5
}
