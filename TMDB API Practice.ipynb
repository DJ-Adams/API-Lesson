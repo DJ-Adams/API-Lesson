{
 "cells": [
  {
   "cell_type": "markdown",
   "id": "99869fac-2878-422c-83c2-38784fc15107",
   "metadata": {},
   "source": [
    "# TMDB API (Practice):\n",
    "\r",
    "-\n",
    "Project Plannin\n",
    "g\r\n",
    "As discussed in the previous lesson, for the next part of your project, you will extract financial and certification data from TMDB's API for your IMDB data set. You will use an OUTER and INNER loop: a loop within a loop!\r\n",
    "\r\n",
    "The OUTER loop will loop through the start years included in the IMDB data, filter the title basics data for the selected year, and save the list of movie ids from that year to retrieve in the inner loop.\r\n",
    "\r\n",
    "The INNER loop loops through every movie id from the selected year, extracts its results from the TMDB API, and appends them to a JSON file."
   ]
  },
  {
   "cell_type": "markdown",
   "id": "5616a3c4-eb72-41e0-8d1b-d746523eddf5",
   "metadata": {},
   "source": [
    "## For this practice assignment\n",
    "\n",
    "-\n",
    "You will be practicing the inner loop of API calls for a single year's list of movies from your IMDB title basics data. Specifically, you will extract the API results for every movie with a startYear of 2010.\r",
    "- \n",
    "\r\n",
    "Read the instructions below, including the examples in the \"Getting Started\" section, before starting your wor- k.\r\n",
    "Create a new notebook in your project repository called \"Practicing TMDB API cal\n",
    "- l s.\"\r\n",
    "Preparation BEFORE the Lo- op:\r\n",
    "\r\n",
    "Designate a folder to save your inform- ation.\r\n",
    "Define custom functions you will use for your AP- I calls\r\n",
    "Load your cleaned title basics data from Part 1 of Project 2 (or query your title_basics table in your MySQL da- tabase).\r\n",
    "Define the year you wish to retrieve (2010) and create an empty list for appending error m### essages.\r\n",
    "\r\n",
    "Prepare the DataFrame and-  JSON File\r\n",
    "\r\n",
    "Use the selected year to define filenames and fil  ter the data\r\n",
    "\r\n",
    "Define a JSON_FILE filename to save the resul  ts in progress.\r\n",
    "Check if         the file exists.\r\n",
    "if it does not exist, create the empty JSON file with with open  hat just contains         the key \"imdb_id\"\r\n",
    "if it exists, print a message saying that it already exists."
   ]
  },
  {
   "cell_type": "markdown",
   "id": "b9fbec99-39b8-47cb-acb2-d74ca6f725a8",
   "metadata": {},
   "source": [
    "Now that the JSON file for the results in progress exists:\n",
    "\n",
    "Filter the IMDB title basics data for the selected year and save the movie IDs from that year as \"movies_ids\".\n",
    "Check the JSON file for previously downloaded movie IDs and filter out the movie ids that already exists in the JSON file ( to prevent duplicate API calls) by:\n",
    "Loading in the contents of the JSON file pd.read_json.\n",
    "Compare the movie_ids that were in the JSON file to your saved movie_ids_to_get.\n",
    "Save the final list of \"movie_ids_to_get\" by filtering out movies that already exists in the JSON file."
   ]
  },
  {
   "cell_type": "markdown",
   "id": "15414836-f7de-4cab-953a-49e6404c30d0",
   "metadata": {},
   "source": [
    "Perform the Loop of API Calls\r\n",
    "Note: you have already written a function to combine the certification with the rest of the .info() from the TMDB API results in the Intro to TMDB API lesson.\r\n",
    "\r\n",
    "Create a loop to make API calls for each id in the YEAR specified. Include a progress bar using tqdm_notebook\r\n",
    "\r\n",
    "For each movie id:\r\n",
    "\r\n",
    "Extract the current ID from the API and retrieve the dictionary of results\r\n",
    "Append the new results to the list from the JSON file\r\n",
    "Save the updated JSON file back to the disk\r\n",
    "Save the Results to Compressed .csv\r\n",
    "After the loop, save the final results for the year as a csv.gz file with the year in the filename.\r\n",
    "\r\n",
    "Note: at this point, you'll have completed the inner loop that you will need for the next part of the project.\r\n",
    "\r\n"
   ]
  },
  {
   "cell_type": "markdown",
   "id": "2c8f2387-43d8-4046-866a-7ed5f94ddb9e",
   "metadata": {},
   "source": [
    "# Getting Started"
   ]
  },
  {
   "cell_type": "markdown",
   "id": "010a0199-59c0-4f8e-a083-bdaf450ffe3c",
   "metadata": {},
   "source": [
    "## Designate a folder"
   ]
  },
  {
   "cell_type": "markdown",
   "id": "d87bed57-b89c-4b0c-b633-62be3a7f76b1",
   "metadata": {},
   "source": [
    "You will save API call data in the data folder you created for project Part 1."
   ]
  },
  {
   "cell_type": "code",
   "execution_count": 1,
   "id": "1449851a-3a21-4120-ae86-2242626d403a",
   "metadata": {},
   "outputs": [
    {
     "data": {
      "text/plain": [
       "['final_results_in_progress_cleveland_vegan.csv',\n",
       " 'final_results_in_progress_NO_vegan.csv.gz',\n",
       " 'results_in_progress_cleveland_crab.csv',\n",
       " 'results_in_progress_cleveland_crab.json',\n",
       " 'results_in_progress_cleveland_vegan.json',\n",
       " 'results_in_progress_NO_vegan.json',\n",
       " 'yelp-search-plant_based-north_olmsted.json',\n",
       " 'yelp-search-seafood-north_olmsted.json']"
      ]
     },
     "execution_count": 1,
     "metadata": {},
     "output_type": "execute_result"
    }
   ],
   "source": [
    "# Import packages\n",
    "import os, time, json\n",
    "import tmdbsimple as tmdb \n",
    "import pandas as pd\n",
    "from tqdm.notebook import tqdm_notebook\n",
    "# Create the folder for saving files (if it doesn't exist)\n",
    "FOLDER = \"Data/\"\n",
    "os.makedirs(FOLDER, exist_ok=True)\n",
    "os.listdir(FOLDER)"
   ]
  },
  {
   "cell_type": "code",
   "execution_count": null,
   "id": "d3bee2d5-5875-47e8-b0a6-a465736fa7da",
   "metadata": {},
   "outputs": [],
   "source": []
  }
 ],
 "metadata": {
  "kernelspec": {
   "display_name": "Python (dojo-env)",
   "language": "python",
   "name": "dojo-env"
  },
  "language_info": {
   "codemirror_mode": {
    "name": "ipython",
    "version": 3
   },
   "file_extension": ".py",
   "mimetype": "text/x-python",
   "name": "python",
   "nbconvert_exporter": "python",
   "pygments_lexer": "ipython3",
   "version": "3.10.10"
  },
  "widgets": {
   "application/vnd.jupyter.widget-state+json": {
    "state": {},
    "version_major": 2,
    "version_minor": 0
   }
  }
 },
 "nbformat": 4,
 "nbformat_minor": 5
}
