{
 "cells": [
  {
   "cell_type": "code",
   "execution_count": 7,
   "id": "816b9ebb-4623-4c96-99fb-95c623ce8f11",
   "metadata": {},
   "outputs": [
    {
     "data": {
      "text/plain": [
       "dict_keys(['client-id', 'api-key'])"
      ]
     },
     "execution_count": 7,
     "metadata": {},
     "output_type": "execute_result"
    }
   ],
   "source": [
    "from yelpapi import YelpAPI\n",
    "import pandas as pd\n",
    "import json\n",
    "import os, json, math, time\n",
    "with open('/Users/dmusl/.secret/yelp_api.json') as f:\n",
    "    login = json.load(f)\n",
    "login.keys()"
   ]
  },
  {
   "cell_type": "code",
   "execution_count": 2,
   "id": "82af1c01-b8ca-48fd-89a7-f30149b580ab",
   "metadata": {},
   "outputs": [
    {
     "data": {
      "text/plain": [
       "<yelpapi.yelpapi.YelpAPI at 0x193e4f699c0>"
      ]
     },
     "execution_count": 2,
     "metadata": {},
     "output_type": "execute_result"
    }
   ],
   "source": [
    "yelp_api = YelpAPI(login['api-key'], timeout_s=5.0)\n",
    "yelp_api"
   ]
  },
  {
   "cell_type": "code",
   "execution_count": 3,
   "id": "fd10605e-fc05-4fa3-8f16-7316bac9f456",
   "metadata": {},
   "outputs": [],
   "source": [
    "# set our API call parameters and filename before the first call\n",
    "location = 'North Olmsted, OH 44070'\n",
    "term = 'seafood'"
   ]
  },
  {
   "cell_type": "code",
   "execution_count": 4,
   "id": "11370a48-145c-4c7e-8f7e-bf9040323473",
   "metadata": {},
   "outputs": [
    {
     "data": {
      "text/plain": [
       "'North Olmsted'"
      ]
     },
     "execution_count": 4,
     "metadata": {},
     "output_type": "execute_result"
    }
   ],
   "source": [
    "location.split(',')[0]"
   ]
  },
  {
   "cell_type": "code",
   "execution_count": 8,
   "id": "de039612-8587-459b-ac63-c9f78cdbd3dc",
   "metadata": {},
   "outputs": [],
   "source": [
    "## Specify folder for saving data\n",
    "FOLDER = 'Data/'\n",
    "\n",
    "os.makedirs(FOLDER, exist_ok = True)\n",
    "# Specifying JSON_FILE filename (can include a folder)\n",
    "JSON_FILE = FOLDER+f\"{location.split(',')[0]}-{term}.json\""
   ]
  },
  {
   "cell_type": "code",
   "execution_count": 23,
   "id": "487dbeb2-7c28-4cda-af67-28e6426119e9",
   "metadata": {},
   "outputs": [],
   "source": [
    "# use our yelp_api variable's search_query method to perform our API call\n",
    "results = yelp_api.search_query(term = term, location = location)"
   ]
  },
  {
   "cell_type": "code",
   "execution_count": 24,
   "id": "7d5f3750-f82d-426d-81a7-f1893f91735d",
   "metadata": {},
   "outputs": [
    {
     "data": {
      "text/plain": [
       "dict_keys(['businesses', 'total', 'region'])"
      ]
     },
     "execution_count": 24,
     "metadata": {},
     "output_type": "execute_result"
    }
   ],
   "source": [
    "type(results)\n",
    "results.keys()"
   ]
  },
  {
   "cell_type": "code",
   "execution_count": 25,
   "id": "0bd63de7-954c-496d-b785-c9198ced0b81",
   "metadata": {},
   "outputs": [
    {
     "data": {
      "text/plain": [
       "120"
      ]
     },
     "execution_count": 25,
     "metadata": {},
     "output_type": "execute_result"
    }
   ],
   "source": [
    "results['total']"
   ]
  },
  {
   "cell_type": "code",
   "execution_count": 26,
   "id": "e9e30721-c26c-453a-8d82-7bc65f28b871",
   "metadata": {},
   "outputs": [
    {
     "data": {
      "text/plain": [
       "20"
      ]
     },
     "execution_count": 26,
     "metadata": {},
     "output_type": "execute_result"
    }
   ],
   "source": [
    "## how many businesses in our results\n",
    "len(results['businesses'])"
   ]
  },
  {
   "cell_type": "code",
   "execution_count": 27,
   "id": "1bcb3123-44ec-4fd0-8462-dd671bc35d30",
   "metadata": {},
   "outputs": [
    {
     "data": {
      "text/html": [
       "<div>\n",
       "<style scoped>\n",
       "    .dataframe tbody tr th:only-of-type {\n",
       "        vertical-align: middle;\n",
       "    }\n",
       "\n",
       "    .dataframe tbody tr th {\n",
       "        vertical-align: top;\n",
       "    }\n",
       "\n",
       "    .dataframe thead th {\n",
       "        text-align: right;\n",
       "    }\n",
       "</style>\n",
       "<table border=\"1\" class=\"dataframe\">\n",
       "  <thead>\n",
       "    <tr style=\"text-align: right;\">\n",
       "      <th></th>\n",
       "      <th>id</th>\n",
       "      <th>alias</th>\n",
       "      <th>name</th>\n",
       "      <th>image_url</th>\n",
       "      <th>is_closed</th>\n",
       "      <th>url</th>\n",
       "      <th>review_count</th>\n",
       "      <th>categories</th>\n",
       "      <th>rating</th>\n",
       "      <th>coordinates</th>\n",
       "      <th>transactions</th>\n",
       "      <th>price</th>\n",
       "      <th>location</th>\n",
       "      <th>phone</th>\n",
       "      <th>display_phone</th>\n",
       "      <th>distance</th>\n",
       "    </tr>\n",
       "  </thead>\n",
       "  <tbody>\n",
       "    <tr>\n",
       "      <th>0</th>\n",
       "      <td>T2df6XK7FdEOO6-QYkuYRQ</td>\n",
       "      <td>salty-marys-westlake</td>\n",
       "      <td>Salty Mary's</td>\n",
       "      <td>https://s3-media2.fl.yelpcdn.com/bphoto/85UPzu...</td>\n",
       "      <td>False</td>\n",
       "      <td>https://www.yelp.com/biz/salty-marys-westlake?...</td>\n",
       "      <td>73</td>\n",
       "      <td>[{'alias': 'seafood', 'title': 'Seafood'}, {'a...</td>\n",
       "      <td>4.0</td>\n",
       "      <td>{'latitude': 41.45606, 'longitude': -81.90323}</td>\n",
       "      <td>[]</td>\n",
       "      <td>$$</td>\n",
       "      <td>{'address1': '25600 Ctr Ridge Rd', 'address2':...</td>\n",
       "      <td>+14402982121</td>\n",
       "      <td>(440) 298-2121</td>\n",
       "      <td>4678.531487</td>\n",
       "    </tr>\n",
       "    <tr>\n",
       "      <th>1</th>\n",
       "      <td>EYqNh5zMIE2EDQ43ciazcA</td>\n",
       "      <td>lees-seafood-boil-north-olmsted-north-olmsted</td>\n",
       "      <td>Lee's Seafood Boil North Olmsted</td>\n",
       "      <td>https://s3-media4.fl.yelpcdn.com/bphoto/8X1m9B...</td>\n",
       "      <td>False</td>\n",
       "      <td>https://www.yelp.com/biz/lees-seafood-boil-nor...</td>\n",
       "      <td>36</td>\n",
       "      <td>[{'alias': 'seafood', 'title': 'Seafood'}, {'a...</td>\n",
       "      <td>4.0</td>\n",
       "      <td>{'latitude': 41.43291, 'longitude': -81.88364}</td>\n",
       "      <td>[delivery, pickup]</td>\n",
       "      <td>NaN</td>\n",
       "      <td>{'address1': '23642 Lorain Rd', 'address2': No...</td>\n",
       "      <td>+14404559003</td>\n",
       "      <td>(440) 455-9003</td>\n",
       "      <td>3701.973470</td>\n",
       "    </tr>\n",
       "    <tr>\n",
       "      <th>2</th>\n",
       "      <td>hTdV1_Xn1j6yhpIR7CgCJQ</td>\n",
       "      <td>lobster-bros-seafood-westlake</td>\n",
       "      <td>Lobster Bros Seafood</td>\n",
       "      <td>https://s3-media4.fl.yelpcdn.com/bphoto/6IfIS7...</td>\n",
       "      <td>False</td>\n",
       "      <td>https://www.yelp.com/biz/lobster-bros-seafood-...</td>\n",
       "      <td>32</td>\n",
       "      <td>[{'alias': 'seafood', 'title': 'Seafood'}, {'a...</td>\n",
       "      <td>4.0</td>\n",
       "      <td>{'latitude': 41.468578338623, 'longitude': -81...</td>\n",
       "      <td>[delivery]</td>\n",
       "      <td>$$</td>\n",
       "      <td>{'address1': '26055 Detroit Rd', 'address2': '...</td>\n",
       "      <td>+14408350013</td>\n",
       "      <td>(440) 835-0013</td>\n",
       "      <td>5920.879776</td>\n",
       "    </tr>\n",
       "    <tr>\n",
       "      <th>3</th>\n",
       "      <td>Hs68UjZqsTncXTT7V0J9fg</td>\n",
       "      <td>salmon-daves-pacific-grille-rocky-river</td>\n",
       "      <td>Salmon Dave's Pacific Grille</td>\n",
       "      <td>https://s3-media1.fl.yelpcdn.com/bphoto/K4VZ6J...</td>\n",
       "      <td>False</td>\n",
       "      <td>https://www.yelp.com/biz/salmon-daves-pacific-...</td>\n",
       "      <td>150</td>\n",
       "      <td>[{'alias': 'seafood', 'title': 'Seafood'}, {'a...</td>\n",
       "      <td>4.0</td>\n",
       "      <td>{'latitude': 41.483264, 'longitude': -81.833091}</td>\n",
       "      <td>[]</td>\n",
       "      <td>$$$</td>\n",
       "      <td>{'address1': '19015 Old Lake Rd', 'address2': ...</td>\n",
       "      <td>+14403312739</td>\n",
       "      <td>(440) 331-2739</td>\n",
       "      <td>10510.189877</td>\n",
       "    </tr>\n",
       "    <tr>\n",
       "      <th>4</th>\n",
       "      <td>rd0S57SbxokW0WYasjtB9g</td>\n",
       "      <td>bistro-on-the-falls-olmsted-falls</td>\n",
       "      <td>Bistro on the Falls</td>\n",
       "      <td>https://s3-media4.fl.yelpcdn.com/bphoto/xkUhs8...</td>\n",
       "      <td>False</td>\n",
       "      <td>https://www.yelp.com/biz/bistro-on-the-falls-o...</td>\n",
       "      <td>39</td>\n",
       "      <td>[{'alias': 'newamerican', 'title': 'American (...</td>\n",
       "      <td>4.5</td>\n",
       "      <td>{'latitude': 41.37396175400378, 'longitude': -...</td>\n",
       "      <td>[]</td>\n",
       "      <td>$$$</td>\n",
       "      <td>{'address1': '8134 Columbia Rd', 'address2': N...</td>\n",
       "      <td>+14407935028</td>\n",
       "      <td>(440) 793-5028</td>\n",
       "      <td>5016.935127</td>\n",
       "    </tr>\n",
       "  </tbody>\n",
       "</table>\n",
       "</div>"
      ],
      "text/plain": [
       "                       id                                          alias  \\\n",
       "0  T2df6XK7FdEOO6-QYkuYRQ                           salty-marys-westlake   \n",
       "1  EYqNh5zMIE2EDQ43ciazcA  lees-seafood-boil-north-olmsted-north-olmsted   \n",
       "2  hTdV1_Xn1j6yhpIR7CgCJQ                  lobster-bros-seafood-westlake   \n",
       "3  Hs68UjZqsTncXTT7V0J9fg        salmon-daves-pacific-grille-rocky-river   \n",
       "4  rd0S57SbxokW0WYasjtB9g              bistro-on-the-falls-olmsted-falls   \n",
       "\n",
       "                               name  \\\n",
       "0                      Salty Mary's   \n",
       "1  Lee's Seafood Boil North Olmsted   \n",
       "2              Lobster Bros Seafood   \n",
       "3      Salmon Dave's Pacific Grille   \n",
       "4               Bistro on the Falls   \n",
       "\n",
       "                                           image_url  is_closed  \\\n",
       "0  https://s3-media2.fl.yelpcdn.com/bphoto/85UPzu...      False   \n",
       "1  https://s3-media4.fl.yelpcdn.com/bphoto/8X1m9B...      False   \n",
       "2  https://s3-media4.fl.yelpcdn.com/bphoto/6IfIS7...      False   \n",
       "3  https://s3-media1.fl.yelpcdn.com/bphoto/K4VZ6J...      False   \n",
       "4  https://s3-media4.fl.yelpcdn.com/bphoto/xkUhs8...      False   \n",
       "\n",
       "                                                 url  review_count  \\\n",
       "0  https://www.yelp.com/biz/salty-marys-westlake?...            73   \n",
       "1  https://www.yelp.com/biz/lees-seafood-boil-nor...            36   \n",
       "2  https://www.yelp.com/biz/lobster-bros-seafood-...            32   \n",
       "3  https://www.yelp.com/biz/salmon-daves-pacific-...           150   \n",
       "4  https://www.yelp.com/biz/bistro-on-the-falls-o...            39   \n",
       "\n",
       "                                          categories  rating  \\\n",
       "0  [{'alias': 'seafood', 'title': 'Seafood'}, {'a...     4.0   \n",
       "1  [{'alias': 'seafood', 'title': 'Seafood'}, {'a...     4.0   \n",
       "2  [{'alias': 'seafood', 'title': 'Seafood'}, {'a...     4.0   \n",
       "3  [{'alias': 'seafood', 'title': 'Seafood'}, {'a...     4.0   \n",
       "4  [{'alias': 'newamerican', 'title': 'American (...     4.5   \n",
       "\n",
       "                                         coordinates        transactions  \\\n",
       "0     {'latitude': 41.45606, 'longitude': -81.90323}                  []   \n",
       "1     {'latitude': 41.43291, 'longitude': -81.88364}  [delivery, pickup]   \n",
       "2  {'latitude': 41.468578338623, 'longitude': -81...          [delivery]   \n",
       "3   {'latitude': 41.483264, 'longitude': -81.833091}                  []   \n",
       "4  {'latitude': 41.37396175400378, 'longitude': -...                  []   \n",
       "\n",
       "  price                                           location         phone  \\\n",
       "0    $$  {'address1': '25600 Ctr Ridge Rd', 'address2':...  +14402982121   \n",
       "1   NaN  {'address1': '23642 Lorain Rd', 'address2': No...  +14404559003   \n",
       "2    $$  {'address1': '26055 Detroit Rd', 'address2': '...  +14408350013   \n",
       "3   $$$  {'address1': '19015 Old Lake Rd', 'address2': ...  +14403312739   \n",
       "4   $$$  {'address1': '8134 Columbia Rd', 'address2': N...  +14407935028   \n",
       "\n",
       "    display_phone      distance  \n",
       "0  (440) 298-2121   4678.531487  \n",
       "1  (440) 455-9003   3701.973470  \n",
       "2  (440) 835-0013   5920.879776  \n",
       "3  (440) 331-2739  10510.189877  \n",
       "4  (440) 793-5028   5016.935127  "
      ]
     },
     "execution_count": 27,
     "metadata": {},
     "output_type": "execute_result"
    }
   ],
   "source": [
    "b_sea = pd.DataFrame(results['businesses'])\n",
    "b_sea.head() "
   ]
  },
  {
   "cell_type": "code",
   "execution_count": 28,
   "id": "616e1662-e954-42f7-955d-9f06be599b9b",
   "metadata": {},
   "outputs": [],
   "source": [
    "# use our yelp_api variable's search_query method to perform our API call\n",
    "results = yelp_api.search_query(term = term, location = location, offset = 20)"
   ]
  },
  {
   "cell_type": "code",
   "execution_count": 29,
   "id": "a046531d-0ec1-4599-9d0a-bb2e6df6cdfd",
   "metadata": {},
   "outputs": [
    {
     "data": {
      "text/html": [
       "<div>\n",
       "<style scoped>\n",
       "    .dataframe tbody tr th:only-of-type {\n",
       "        vertical-align: middle;\n",
       "    }\n",
       "\n",
       "    .dataframe tbody tr th {\n",
       "        vertical-align: top;\n",
       "    }\n",
       "\n",
       "    .dataframe thead th {\n",
       "        text-align: right;\n",
       "    }\n",
       "</style>\n",
       "<table border=\"1\" class=\"dataframe\">\n",
       "  <thead>\n",
       "    <tr style=\"text-align: right;\">\n",
       "      <th></th>\n",
       "      <th>id</th>\n",
       "      <th>alias</th>\n",
       "      <th>name</th>\n",
       "      <th>image_url</th>\n",
       "      <th>is_closed</th>\n",
       "      <th>url</th>\n",
       "      <th>review_count</th>\n",
       "      <th>categories</th>\n",
       "      <th>rating</th>\n",
       "      <th>coordinates</th>\n",
       "      <th>transactions</th>\n",
       "      <th>location</th>\n",
       "      <th>phone</th>\n",
       "      <th>display_phone</th>\n",
       "      <th>distance</th>\n",
       "      <th>price</th>\n",
       "    </tr>\n",
       "  </thead>\n",
       "  <tbody>\n",
       "    <tr>\n",
       "      <th>0</th>\n",
       "      <td>VUe8lHrZjlRwToi22UIkmw</td>\n",
       "      <td>wild-mango-westlake</td>\n",
       "      <td>Wild Mango</td>\n",
       "      <td>https://s3-media2.fl.yelpcdn.com/bphoto/ndxMmQ...</td>\n",
       "      <td>False</td>\n",
       "      <td>https://www.yelp.com/biz/wild-mango-westlake?a...</td>\n",
       "      <td>48</td>\n",
       "      <td>[{'alias': 'newamerican', 'title': 'American (...</td>\n",
       "      <td>4.0</td>\n",
       "      <td>{'latitude': 41.45949, 'longitude': -81.9507}</td>\n",
       "      <td>[]</td>\n",
       "      <td>{'address1': '139 Crocker Park Blvd', 'address...</td>\n",
       "      <td>+14409791888</td>\n",
       "      <td>(440) 979-1888</td>\n",
       "      <td>5401.649650</td>\n",
       "      <td>NaN</td>\n",
       "    </tr>\n",
       "    <tr>\n",
       "      <th>1</th>\n",
       "      <td>YmTD876xN9YFH6mIe8ZrtA</td>\n",
       "      <td>luca-west-westlake</td>\n",
       "      <td>Luca West</td>\n",
       "      <td>https://s3-media4.fl.yelpcdn.com/bphoto/8wXY_O...</td>\n",
       "      <td>False</td>\n",
       "      <td>https://www.yelp.com/biz/luca-west-westlake?ad...</td>\n",
       "      <td>123</td>\n",
       "      <td>[{'alias': 'italian', 'title': 'Italian'}, {'a...</td>\n",
       "      <td>3.5</td>\n",
       "      <td>{'latitude': 41.4713686906873, 'longitude': -8...</td>\n",
       "      <td>[delivery]</td>\n",
       "      <td>{'address1': '24600 Detroit Rd', 'address2': '...</td>\n",
       "      <td>+12162019600</td>\n",
       "      <td>(216) 201-9600</td>\n",
       "      <td>5970.801866</td>\n",
       "      <td>$$</td>\n",
       "    </tr>\n",
       "    <tr>\n",
       "      <th>2</th>\n",
       "      <td>OThAF-lt6d7jY-pB1ajWPg</td>\n",
       "      <td>jo-jo-carlonis-italian-restaurant-and-pizzaria...</td>\n",
       "      <td>Jo Jo Carloni's Italian Restaurant &amp; Pizzaria</td>\n",
       "      <td>https://s3-media2.fl.yelpcdn.com/bphoto/1sFanK...</td>\n",
       "      <td>False</td>\n",
       "      <td>https://www.yelp.com/biz/jo-jo-carlonis-italia...</td>\n",
       "      <td>244</td>\n",
       "      <td>[{'alias': 'italian', 'title': 'Italian'}, {'a...</td>\n",
       "      <td>4.0</td>\n",
       "      <td>{'latitude': 41.37111, 'longitude': -81.87564}</td>\n",
       "      <td>[delivery, pickup]</td>\n",
       "      <td>{'address1': '627 W Bagley Rd', 'address2': ''...</td>\n",
       "      <td>+14402358880</td>\n",
       "      <td>(440) 235-8880</td>\n",
       "      <td>6155.828605</td>\n",
       "      <td>$$</td>\n",
       "    </tr>\n",
       "    <tr>\n",
       "      <th>3</th>\n",
       "      <td>RqzOWT44Tlt_OIqipAgKvw</td>\n",
       "      <td>gibbs-butcher-block-columbia-station</td>\n",
       "      <td>Gibbs Butcher Block</td>\n",
       "      <td>https://s3-media3.fl.yelpcdn.com/bphoto/eCD8hq...</td>\n",
       "      <td>False</td>\n",
       "      <td>https://www.yelp.com/biz/gibbs-butcher-block-c...</td>\n",
       "      <td>55</td>\n",
       "      <td>[{'alias': 'grocery', 'title': 'Grocery'}, {'a...</td>\n",
       "      <td>4.0</td>\n",
       "      <td>{'latitude': 41.35027, 'longitude': -81.9028}</td>\n",
       "      <td>[]</td>\n",
       "      <td>{'address1': '9858 E River Rd', 'address2': ''...</td>\n",
       "      <td>+14402352766</td>\n",
       "      <td>(440) 235-2766</td>\n",
       "      <td>7778.883936</td>\n",
       "      <td>$$</td>\n",
       "    </tr>\n",
       "    <tr>\n",
       "      <th>4</th>\n",
       "      <td>XYmTwXGeDhB5Ol3rpO7mmg</td>\n",
       "      <td>hyde-park-prime-steakhouse-westlake</td>\n",
       "      <td>Hyde Park Prime Steakhouse</td>\n",
       "      <td>https://s3-media1.fl.yelpcdn.com/bphoto/hs0fyh...</td>\n",
       "      <td>False</td>\n",
       "      <td>https://www.yelp.com/biz/hyde-park-prime-steak...</td>\n",
       "      <td>107</td>\n",
       "      <td>[{'alias': 'steak', 'title': 'Steakhouses'}]</td>\n",
       "      <td>4.0</td>\n",
       "      <td>{'latitude': 41.46041, 'longitude': -81.95204}</td>\n",
       "      <td>[delivery, pickup]</td>\n",
       "      <td>{'address1': '21 Main St', 'address2': '', 'ad...</td>\n",
       "      <td>+14408924933</td>\n",
       "      <td>(440) 892-4933</td>\n",
       "      <td>5548.129411</td>\n",
       "      <td>$$$</td>\n",
       "    </tr>\n",
       "  </tbody>\n",
       "</table>\n",
       "</div>"
      ],
      "text/plain": [
       "                       id                                              alias  \\\n",
       "0  VUe8lHrZjlRwToi22UIkmw                                wild-mango-westlake   \n",
       "1  YmTD876xN9YFH6mIe8ZrtA                                 luca-west-westlake   \n",
       "2  OThAF-lt6d7jY-pB1ajWPg  jo-jo-carlonis-italian-restaurant-and-pizzaria...   \n",
       "3  RqzOWT44Tlt_OIqipAgKvw               gibbs-butcher-block-columbia-station   \n",
       "4  XYmTwXGeDhB5Ol3rpO7mmg                hyde-park-prime-steakhouse-westlake   \n",
       "\n",
       "                                            name  \\\n",
       "0                                     Wild Mango   \n",
       "1                                      Luca West   \n",
       "2  Jo Jo Carloni's Italian Restaurant & Pizzaria   \n",
       "3                            Gibbs Butcher Block   \n",
       "4                     Hyde Park Prime Steakhouse   \n",
       "\n",
       "                                           image_url  is_closed  \\\n",
       "0  https://s3-media2.fl.yelpcdn.com/bphoto/ndxMmQ...      False   \n",
       "1  https://s3-media4.fl.yelpcdn.com/bphoto/8wXY_O...      False   \n",
       "2  https://s3-media2.fl.yelpcdn.com/bphoto/1sFanK...      False   \n",
       "3  https://s3-media3.fl.yelpcdn.com/bphoto/eCD8hq...      False   \n",
       "4  https://s3-media1.fl.yelpcdn.com/bphoto/hs0fyh...      False   \n",
       "\n",
       "                                                 url  review_count  \\\n",
       "0  https://www.yelp.com/biz/wild-mango-westlake?a...            48   \n",
       "1  https://www.yelp.com/biz/luca-west-westlake?ad...           123   \n",
       "2  https://www.yelp.com/biz/jo-jo-carlonis-italia...           244   \n",
       "3  https://www.yelp.com/biz/gibbs-butcher-block-c...            55   \n",
       "4  https://www.yelp.com/biz/hyde-park-prime-steak...           107   \n",
       "\n",
       "                                          categories  rating  \\\n",
       "0  [{'alias': 'newamerican', 'title': 'American (...     4.0   \n",
       "1  [{'alias': 'italian', 'title': 'Italian'}, {'a...     3.5   \n",
       "2  [{'alias': 'italian', 'title': 'Italian'}, {'a...     4.0   \n",
       "3  [{'alias': 'grocery', 'title': 'Grocery'}, {'a...     4.0   \n",
       "4       [{'alias': 'steak', 'title': 'Steakhouses'}]     4.0   \n",
       "\n",
       "                                         coordinates        transactions  \\\n",
       "0      {'latitude': 41.45949, 'longitude': -81.9507}                  []   \n",
       "1  {'latitude': 41.4713686906873, 'longitude': -8...          [delivery]   \n",
       "2     {'latitude': 41.37111, 'longitude': -81.87564}  [delivery, pickup]   \n",
       "3      {'latitude': 41.35027, 'longitude': -81.9028}                  []   \n",
       "4     {'latitude': 41.46041, 'longitude': -81.95204}  [delivery, pickup]   \n",
       "\n",
       "                                            location         phone  \\\n",
       "0  {'address1': '139 Crocker Park Blvd', 'address...  +14409791888   \n",
       "1  {'address1': '24600 Detroit Rd', 'address2': '...  +12162019600   \n",
       "2  {'address1': '627 W Bagley Rd', 'address2': ''...  +14402358880   \n",
       "3  {'address1': '9858 E River Rd', 'address2': ''...  +14402352766   \n",
       "4  {'address1': '21 Main St', 'address2': '', 'ad...  +14408924933   \n",
       "\n",
       "    display_phone     distance price  \n",
       "0  (440) 979-1888  5401.649650   NaN  \n",
       "1  (216) 201-9600  5970.801866    $$  \n",
       "2  (440) 235-8880  6155.828605    $$  \n",
       "3  (440) 235-2766  7778.883936    $$  \n",
       "4  (440) 892-4933  5548.129411   $$$  "
      ]
     },
     "execution_count": 29,
     "metadata": {},
     "output_type": "execute_result"
    }
   ],
   "source": [
    "b_sea2 = pd.DataFrame(results['businesses'])\n",
    "b_sea2.head() "
   ]
  },
  {
   "cell_type": "code",
   "execution_count": 32,
   "id": "189273b1-64bb-4855-a211-7c24142a19a6",
   "metadata": {},
   "outputs": [
    {
     "data": {
      "text/html": [
       "<div>\n",
       "<style scoped>\n",
       "    .dataframe tbody tr th:only-of-type {\n",
       "        vertical-align: middle;\n",
       "    }\n",
       "\n",
       "    .dataframe tbody tr th {\n",
       "        vertical-align: top;\n",
       "    }\n",
       "\n",
       "    .dataframe thead th {\n",
       "        text-align: right;\n",
       "    }\n",
       "</style>\n",
       "<table border=\"1\" class=\"dataframe\">\n",
       "  <thead>\n",
       "    <tr style=\"text-align: right;\">\n",
       "      <th></th>\n",
       "      <th>id</th>\n",
       "      <th>alias</th>\n",
       "      <th>name</th>\n",
       "      <th>image_url</th>\n",
       "      <th>is_closed</th>\n",
       "      <th>url</th>\n",
       "      <th>review_count</th>\n",
       "      <th>categories</th>\n",
       "      <th>rating</th>\n",
       "      <th>coordinates</th>\n",
       "      <th>transactions</th>\n",
       "      <th>price</th>\n",
       "      <th>location</th>\n",
       "      <th>phone</th>\n",
       "      <th>display_phone</th>\n",
       "      <th>distance</th>\n",
       "    </tr>\n",
       "  </thead>\n",
       "  <tbody>\n",
       "    <tr>\n",
       "      <th>0</th>\n",
       "      <td>T2df6XK7FdEOO6-QYkuYRQ</td>\n",
       "      <td>salty-marys-westlake</td>\n",
       "      <td>Salty Mary's</td>\n",
       "      <td>https://s3-media2.fl.yelpcdn.com/bphoto/85UPzu...</td>\n",
       "      <td>False</td>\n",
       "      <td>https://www.yelp.com/biz/salty-marys-westlake?...</td>\n",
       "      <td>73</td>\n",
       "      <td>[{'alias': 'seafood', 'title': 'Seafood'}, {'a...</td>\n",
       "      <td>4.0</td>\n",
       "      <td>{'latitude': 41.45606, 'longitude': -81.90323}</td>\n",
       "      <td>[]</td>\n",
       "      <td>$$</td>\n",
       "      <td>{'address1': '25600 Ctr Ridge Rd', 'address2':...</td>\n",
       "      <td>+14402982121</td>\n",
       "      <td>(440) 298-2121</td>\n",
       "      <td>4678.531487</td>\n",
       "    </tr>\n",
       "    <tr>\n",
       "      <th>1</th>\n",
       "      <td>EYqNh5zMIE2EDQ43ciazcA</td>\n",
       "      <td>lees-seafood-boil-north-olmsted-north-olmsted</td>\n",
       "      <td>Lee's Seafood Boil North Olmsted</td>\n",
       "      <td>https://s3-media4.fl.yelpcdn.com/bphoto/8X1m9B...</td>\n",
       "      <td>False</td>\n",
       "      <td>https://www.yelp.com/biz/lees-seafood-boil-nor...</td>\n",
       "      <td>36</td>\n",
       "      <td>[{'alias': 'seafood', 'title': 'Seafood'}, {'a...</td>\n",
       "      <td>4.0</td>\n",
       "      <td>{'latitude': 41.43291, 'longitude': -81.88364}</td>\n",
       "      <td>[delivery, pickup]</td>\n",
       "      <td>NaN</td>\n",
       "      <td>{'address1': '23642 Lorain Rd', 'address2': No...</td>\n",
       "      <td>+14404559003</td>\n",
       "      <td>(440) 455-9003</td>\n",
       "      <td>3701.973470</td>\n",
       "    </tr>\n",
       "    <tr>\n",
       "      <th>2</th>\n",
       "      <td>hTdV1_Xn1j6yhpIR7CgCJQ</td>\n",
       "      <td>lobster-bros-seafood-westlake</td>\n",
       "      <td>Lobster Bros Seafood</td>\n",
       "      <td>https://s3-media4.fl.yelpcdn.com/bphoto/6IfIS7...</td>\n",
       "      <td>False</td>\n",
       "      <td>https://www.yelp.com/biz/lobster-bros-seafood-...</td>\n",
       "      <td>32</td>\n",
       "      <td>[{'alias': 'seafood', 'title': 'Seafood'}, {'a...</td>\n",
       "      <td>4.0</td>\n",
       "      <td>{'latitude': 41.468578338623, 'longitude': -81...</td>\n",
       "      <td>[delivery]</td>\n",
       "      <td>$$</td>\n",
       "      <td>{'address1': '26055 Detroit Rd', 'address2': '...</td>\n",
       "      <td>+14408350013</td>\n",
       "      <td>(440) 835-0013</td>\n",
       "      <td>5920.879776</td>\n",
       "    </tr>\n",
       "    <tr>\n",
       "      <th>3</th>\n",
       "      <td>Hs68UjZqsTncXTT7V0J9fg</td>\n",
       "      <td>salmon-daves-pacific-grille-rocky-river</td>\n",
       "      <td>Salmon Dave's Pacific Grille</td>\n",
       "      <td>https://s3-media1.fl.yelpcdn.com/bphoto/K4VZ6J...</td>\n",
       "      <td>False</td>\n",
       "      <td>https://www.yelp.com/biz/salmon-daves-pacific-...</td>\n",
       "      <td>150</td>\n",
       "      <td>[{'alias': 'seafood', 'title': 'Seafood'}, {'a...</td>\n",
       "      <td>4.0</td>\n",
       "      <td>{'latitude': 41.483264, 'longitude': -81.833091}</td>\n",
       "      <td>[]</td>\n",
       "      <td>$$$</td>\n",
       "      <td>{'address1': '19015 Old Lake Rd', 'address2': ...</td>\n",
       "      <td>+14403312739</td>\n",
       "      <td>(440) 331-2739</td>\n",
       "      <td>10510.189877</td>\n",
       "    </tr>\n",
       "    <tr>\n",
       "      <th>4</th>\n",
       "      <td>rd0S57SbxokW0WYasjtB9g</td>\n",
       "      <td>bistro-on-the-falls-olmsted-falls</td>\n",
       "      <td>Bistro on the Falls</td>\n",
       "      <td>https://s3-media4.fl.yelpcdn.com/bphoto/xkUhs8...</td>\n",
       "      <td>False</td>\n",
       "      <td>https://www.yelp.com/biz/bistro-on-the-falls-o...</td>\n",
       "      <td>39</td>\n",
       "      <td>[{'alias': 'newamerican', 'title': 'American (...</td>\n",
       "      <td>4.5</td>\n",
       "      <td>{'latitude': 41.37396175400378, 'longitude': -...</td>\n",
       "      <td>[]</td>\n",
       "      <td>$$$</td>\n",
       "      <td>{'address1': '8134 Columbia Rd', 'address2': N...</td>\n",
       "      <td>+14407935028</td>\n",
       "      <td>(440) 793-5028</td>\n",
       "      <td>5016.935127</td>\n",
       "    </tr>\n",
       "  </tbody>\n",
       "</table>\n",
       "</div>"
      ],
      "text/plain": [
       "                       id                                          alias  \\\n",
       "0  T2df6XK7FdEOO6-QYkuYRQ                           salty-marys-westlake   \n",
       "1  EYqNh5zMIE2EDQ43ciazcA  lees-seafood-boil-north-olmsted-north-olmsted   \n",
       "2  hTdV1_Xn1j6yhpIR7CgCJQ                  lobster-bros-seafood-westlake   \n",
       "3  Hs68UjZqsTncXTT7V0J9fg        salmon-daves-pacific-grille-rocky-river   \n",
       "4  rd0S57SbxokW0WYasjtB9g              bistro-on-the-falls-olmsted-falls   \n",
       "\n",
       "                               name  \\\n",
       "0                      Salty Mary's   \n",
       "1  Lee's Seafood Boil North Olmsted   \n",
       "2              Lobster Bros Seafood   \n",
       "3      Salmon Dave's Pacific Grille   \n",
       "4               Bistro on the Falls   \n",
       "\n",
       "                                           image_url  is_closed  \\\n",
       "0  https://s3-media2.fl.yelpcdn.com/bphoto/85UPzu...      False   \n",
       "1  https://s3-media4.fl.yelpcdn.com/bphoto/8X1m9B...      False   \n",
       "2  https://s3-media4.fl.yelpcdn.com/bphoto/6IfIS7...      False   \n",
       "3  https://s3-media1.fl.yelpcdn.com/bphoto/K4VZ6J...      False   \n",
       "4  https://s3-media4.fl.yelpcdn.com/bphoto/xkUhs8...      False   \n",
       "\n",
       "                                                 url  review_count  \\\n",
       "0  https://www.yelp.com/biz/salty-marys-westlake?...            73   \n",
       "1  https://www.yelp.com/biz/lees-seafood-boil-nor...            36   \n",
       "2  https://www.yelp.com/biz/lobster-bros-seafood-...            32   \n",
       "3  https://www.yelp.com/biz/salmon-daves-pacific-...           150   \n",
       "4  https://www.yelp.com/biz/bistro-on-the-falls-o...            39   \n",
       "\n",
       "                                          categories  rating  \\\n",
       "0  [{'alias': 'seafood', 'title': 'Seafood'}, {'a...     4.0   \n",
       "1  [{'alias': 'seafood', 'title': 'Seafood'}, {'a...     4.0   \n",
       "2  [{'alias': 'seafood', 'title': 'Seafood'}, {'a...     4.0   \n",
       "3  [{'alias': 'seafood', 'title': 'Seafood'}, {'a...     4.0   \n",
       "4  [{'alias': 'newamerican', 'title': 'American (...     4.5   \n",
       "\n",
       "                                         coordinates        transactions  \\\n",
       "0     {'latitude': 41.45606, 'longitude': -81.90323}                  []   \n",
       "1     {'latitude': 41.43291, 'longitude': -81.88364}  [delivery, pickup]   \n",
       "2  {'latitude': 41.468578338623, 'longitude': -81...          [delivery]   \n",
       "3   {'latitude': 41.483264, 'longitude': -81.833091}                  []   \n",
       "4  {'latitude': 41.37396175400378, 'longitude': -...                  []   \n",
       "\n",
       "  price                                           location         phone  \\\n",
       "0    $$  {'address1': '25600 Ctr Ridge Rd', 'address2':...  +14402982121   \n",
       "1   NaN  {'address1': '23642 Lorain Rd', 'address2': No...  +14404559003   \n",
       "2    $$  {'address1': '26055 Detroit Rd', 'address2': '...  +14408350013   \n",
       "3   $$$  {'address1': '19015 Old Lake Rd', 'address2': ...  +14403312739   \n",
       "4   $$$  {'address1': '8134 Columbia Rd', 'address2': N...  +14407935028   \n",
       "\n",
       "    display_phone      distance  \n",
       "0  (440) 298-2121   4678.531487  \n",
       "1  (440) 455-9003   3701.973470  \n",
       "2  (440) 835-0013   5920.879776  \n",
       "3  (440) 331-2739  10510.189877  \n",
       "4  (440) 793-5028   5016.935127  "
      ]
     },
     "metadata": {},
     "output_type": "display_data"
    },
    {
     "data": {
      "text/html": [
       "<div>\n",
       "<style scoped>\n",
       "    .dataframe tbody tr th:only-of-type {\n",
       "        vertical-align: middle;\n",
       "    }\n",
       "\n",
       "    .dataframe tbody tr th {\n",
       "        vertical-align: top;\n",
       "    }\n",
       "\n",
       "    .dataframe thead th {\n",
       "        text-align: right;\n",
       "    }\n",
       "</style>\n",
       "<table border=\"1\" class=\"dataframe\">\n",
       "  <thead>\n",
       "    <tr style=\"text-align: right;\">\n",
       "      <th></th>\n",
       "      <th>id</th>\n",
       "      <th>alias</th>\n",
       "      <th>name</th>\n",
       "      <th>image_url</th>\n",
       "      <th>is_closed</th>\n",
       "      <th>url</th>\n",
       "      <th>review_count</th>\n",
       "      <th>categories</th>\n",
       "      <th>rating</th>\n",
       "      <th>coordinates</th>\n",
       "      <th>transactions</th>\n",
       "      <th>price</th>\n",
       "      <th>location</th>\n",
       "      <th>phone</th>\n",
       "      <th>display_phone</th>\n",
       "      <th>distance</th>\n",
       "    </tr>\n",
       "  </thead>\n",
       "  <tbody>\n",
       "    <tr>\n",
       "      <th>35</th>\n",
       "      <td>PHceo653FqAeQHHrvvaMjA</td>\n",
       "      <td>rosewood-grill-westlake-westlake</td>\n",
       "      <td>Rosewood Grill- Westlake</td>\n",
       "      <td>https://s3-media2.fl.yelpcdn.com/bphoto/5KRfz4...</td>\n",
       "      <td>False</td>\n",
       "      <td>https://www.yelp.com/biz/rosewood-grill-westla...</td>\n",
       "      <td>136</td>\n",
       "      <td>[{'alias': 'newamerican', 'title': 'American (...</td>\n",
       "      <td>3.5</td>\n",
       "      <td>{'latitude': 41.4600382, 'longitude': -81.9498...</td>\n",
       "      <td>[delivery]</td>\n",
       "      <td>$$</td>\n",
       "      <td>{'address1': '2033 Crocker Rd', 'address2': ''...</td>\n",
       "      <td>+14408359500</td>\n",
       "      <td>(440) 835-9500</td>\n",
       "      <td>5417.514571</td>\n",
       "    </tr>\n",
       "    <tr>\n",
       "      <th>36</th>\n",
       "      <td>TOL2E594kQG07X4UBL_DSw</td>\n",
       "      <td>imperial-garden-north-olmsted</td>\n",
       "      <td>Imperial Garden</td>\n",
       "      <td>https://s3-media2.fl.yelpcdn.com/bphoto/KFKb33...</td>\n",
       "      <td>False</td>\n",
       "      <td>https://www.yelp.com/biz/imperial-garden-north...</td>\n",
       "      <td>16</td>\n",
       "      <td>[{'alias': 'sushi', 'title': 'Sushi Bars'}, {'...</td>\n",
       "      <td>4.0</td>\n",
       "      <td>{'latitude': 41.4284183, 'longitude': -81.8898...</td>\n",
       "      <td>[delivery, pickup]</td>\n",
       "      <td>NaN</td>\n",
       "      <td>{'address1': '24201 Lorain Rd N', 'address2': ...</td>\n",
       "      <td>+14407724100</td>\n",
       "      <td>(440) 772-4100</td>\n",
       "      <td>2179.176474</td>\n",
       "    </tr>\n",
       "    <tr>\n",
       "      <th>37</th>\n",
       "      <td>X2FAEOuFtWq4TGmN8NEmjQ</td>\n",
       "      <td>the-berea-depot-berea-2</td>\n",
       "      <td>The Berea Depot</td>\n",
       "      <td>https://s3-media2.fl.yelpcdn.com/bphoto/PvFMye...</td>\n",
       "      <td>False</td>\n",
       "      <td>https://www.yelp.com/biz/the-berea-depot-berea...</td>\n",
       "      <td>155</td>\n",
       "      <td>[{'alias': 'newamerican', 'title': 'American (...</td>\n",
       "      <td>3.5</td>\n",
       "      <td>{'latitude': 41.3809424635864, 'longitude': -8...</td>\n",
       "      <td>[delivery, pickup]</td>\n",
       "      <td>$$</td>\n",
       "      <td>{'address1': '30 Depot St', 'address2': '', 'a...</td>\n",
       "      <td>+14402436169</td>\n",
       "      <td>(440) 243-6169</td>\n",
       "      <td>6541.645389</td>\n",
       "    </tr>\n",
       "    <tr>\n",
       "      <th>38</th>\n",
       "      <td>qfOSFYfT23CIya1KmD7EGw</td>\n",
       "      <td>grayton-road-tavern-cleveland</td>\n",
       "      <td>Grayton Road Tavern</td>\n",
       "      <td>https://s3-media2.fl.yelpcdn.com/bphoto/MGxVWg...</td>\n",
       "      <td>False</td>\n",
       "      <td>https://www.yelp.com/biz/grayton-road-tavern-c...</td>\n",
       "      <td>157</td>\n",
       "      <td>[{'alias': 'tradamerican', 'title': 'American ...</td>\n",
       "      <td>3.5</td>\n",
       "      <td>{'latitude': 41.42653, 'longitude': -81.84429}</td>\n",
       "      <td>[delivery]</td>\n",
       "      <td>$$</td>\n",
       "      <td>{'address1': '4760 Grayton Rd', 'address2': ''...</td>\n",
       "      <td>+12162657770</td>\n",
       "      <td>(216) 265-7770</td>\n",
       "      <td>5797.960405</td>\n",
       "    </tr>\n",
       "    <tr>\n",
       "      <th>39</th>\n",
       "      <td>OkC86YtZ0Nm19my5F4GGrQ</td>\n",
       "      <td>tartine-bistro-rocky-river-2</td>\n",
       "      <td>Tartine Bistro</td>\n",
       "      <td>https://s3-media2.fl.yelpcdn.com/bphoto/VMuOtT...</td>\n",
       "      <td>False</td>\n",
       "      <td>https://www.yelp.com/biz/tartine-bistro-rocky-...</td>\n",
       "      <td>193</td>\n",
       "      <td>[{'alias': 'french', 'title': 'French'}, {'ali...</td>\n",
       "      <td>4.0</td>\n",
       "      <td>{'latitude': 41.48303, 'longitude': -81.83426}</td>\n",
       "      <td>[delivery, pickup]</td>\n",
       "      <td>$$</td>\n",
       "      <td>{'address1': '19110 Old Detroit Rd', 'address2...</td>\n",
       "      <td>+14403310800</td>\n",
       "      <td>(440) 331-0800</td>\n",
       "      <td>9637.216418</td>\n",
       "    </tr>\n",
       "  </tbody>\n",
       "</table>\n",
       "</div>"
      ],
      "text/plain": [
       "                        id                             alias  \\\n",
       "35  PHceo653FqAeQHHrvvaMjA  rosewood-grill-westlake-westlake   \n",
       "36  TOL2E594kQG07X4UBL_DSw     imperial-garden-north-olmsted   \n",
       "37  X2FAEOuFtWq4TGmN8NEmjQ           the-berea-depot-berea-2   \n",
       "38  qfOSFYfT23CIya1KmD7EGw     grayton-road-tavern-cleveland   \n",
       "39  OkC86YtZ0Nm19my5F4GGrQ      tartine-bistro-rocky-river-2   \n",
       "\n",
       "                        name  \\\n",
       "35  Rosewood Grill- Westlake   \n",
       "36           Imperial Garden   \n",
       "37           The Berea Depot   \n",
       "38       Grayton Road Tavern   \n",
       "39            Tartine Bistro   \n",
       "\n",
       "                                            image_url  is_closed  \\\n",
       "35  https://s3-media2.fl.yelpcdn.com/bphoto/5KRfz4...      False   \n",
       "36  https://s3-media2.fl.yelpcdn.com/bphoto/KFKb33...      False   \n",
       "37  https://s3-media2.fl.yelpcdn.com/bphoto/PvFMye...      False   \n",
       "38  https://s3-media2.fl.yelpcdn.com/bphoto/MGxVWg...      False   \n",
       "39  https://s3-media2.fl.yelpcdn.com/bphoto/VMuOtT...      False   \n",
       "\n",
       "                                                  url  review_count  \\\n",
       "35  https://www.yelp.com/biz/rosewood-grill-westla...           136   \n",
       "36  https://www.yelp.com/biz/imperial-garden-north...            16   \n",
       "37  https://www.yelp.com/biz/the-berea-depot-berea...           155   \n",
       "38  https://www.yelp.com/biz/grayton-road-tavern-c...           157   \n",
       "39  https://www.yelp.com/biz/tartine-bistro-rocky-...           193   \n",
       "\n",
       "                                           categories  rating  \\\n",
       "35  [{'alias': 'newamerican', 'title': 'American (...     3.5   \n",
       "36  [{'alias': 'sushi', 'title': 'Sushi Bars'}, {'...     4.0   \n",
       "37  [{'alias': 'newamerican', 'title': 'American (...     3.5   \n",
       "38  [{'alias': 'tradamerican', 'title': 'American ...     3.5   \n",
       "39  [{'alias': 'french', 'title': 'French'}, {'ali...     4.0   \n",
       "\n",
       "                                          coordinates        transactions  \\\n",
       "35  {'latitude': 41.4600382, 'longitude': -81.9498...          [delivery]   \n",
       "36  {'latitude': 41.4284183, 'longitude': -81.8898...  [delivery, pickup]   \n",
       "37  {'latitude': 41.3809424635864, 'longitude': -8...  [delivery, pickup]   \n",
       "38     {'latitude': 41.42653, 'longitude': -81.84429}          [delivery]   \n",
       "39     {'latitude': 41.48303, 'longitude': -81.83426}  [delivery, pickup]   \n",
       "\n",
       "   price                                           location         phone  \\\n",
       "35    $$  {'address1': '2033 Crocker Rd', 'address2': ''...  +14408359500   \n",
       "36   NaN  {'address1': '24201 Lorain Rd N', 'address2': ...  +14407724100   \n",
       "37    $$  {'address1': '30 Depot St', 'address2': '', 'a...  +14402436169   \n",
       "38    $$  {'address1': '4760 Grayton Rd', 'address2': ''...  +12162657770   \n",
       "39    $$  {'address1': '19110 Old Detroit Rd', 'address2...  +14403310800   \n",
       "\n",
       "     display_phone     distance  \n",
       "35  (440) 835-9500  5417.514571  \n",
       "36  (440) 772-4100  2179.176474  \n",
       "37  (440) 243-6169  6541.645389  \n",
       "38  (216) 265-7770  5797.960405  \n",
       "39  (440) 331-0800  9637.216418  "
      ]
     },
     "metadata": {},
     "output_type": "display_data"
    }
   ],
   "source": [
    "## concatenate the previous results and new results. \n",
    "b_seas = pd.concat([b_sea, b_sea2],\n",
    "                      ignore_index=True)\n",
    "display(b_seas.head(), b_seas.tail())"
   ]
  },
  {
   "cell_type": "code",
   "execution_count": 33,
   "id": "c46b119f-76e7-4226-8cc5-c8e9cdd5a67b",
   "metadata": {},
   "outputs": [],
   "source": [
    "# save the results to records-style json file with appropriate name\n",
    "b_seas.to_json(\"Data/yelp-search-seafood-north_olmsted.json\", orient='records')\n"
   ]
  },
  {
   "cell_type": "markdown",
   "id": "00625b8c-c863-4e99-a3a4-4586b8f96470",
   "metadata": {},
   "source": [
    "# Code for Efficient API Extraction\n",
    "## Work flow below"
   ]
  },
  {
   "cell_type": "code",
   "execution_count": 34,
   "id": "22c310c9-9af1-47f0-bdf5-ea9dab900d1a",
   "metadata": {},
   "outputs": [],
   "source": [
    "# Standard Imports\n",
    "import numpy as np\n",
    "import pandas as pd\n",
    "import matplotlib.pyplot as plt\n",
    "import seaborn as sns\n",
    "\n",
    "# Additional Imports\n",
    "import os, json, math, time\n",
    "from yelpapi import YelpAPI\n",
    "from tqdm.notebook import tqdm_notebook"
   ]
  },
  {
   "cell_type": "markdown",
   "id": "9c76d983-6543-40ca-a53e-7b26ac824d35",
   "metadata": {},
   "source": [
    "## Note: your dojo-env may not already have tqdm installed. If its not, you will get an error that says \"No module called tqdm\"\r\n",
    "\r\n",
    "This is a great opportunity to learn how to install things on your own!\r\n",
    "To install tqdm, run pip install tqdm in your terminal.\r\n",
    "Note: you can also add an ! before the command to run it inside a Jupyter Notebook"
   ]
  },
  {
   "cell_type": "code",
   "execution_count": null,
   "id": "4bb1d22d-5be1-4ab0-9bf6-e9ef2eac5269",
   "metadata": {},
   "outputs": [],
   "source": [
    "# Install tmdbsimple (only need to run once)\n",
    "!pip install tqdm"
   ]
  },
  {
   "cell_type": "code",
   "execution_count": null,
   "id": "2e83b77b-0175-44ff-b84f-448c1eeaa9c0",
   "metadata": {},
   "outputs": [],
   "source": [
    "# Load API Credentials\n",
    "with open('/Users/dmusl/.secret/yelp_api.json') as f:\n",
    "    login = json.load(f)"
   ]
  },
  {
   "cell_type": "code",
   "execution_count": null,
   "id": "29adf118-8500-48bf-95ab-256dcca84e3e",
   "metadata": {},
   "outputs": [],
   "source": [
    "login.keys()"
   ]
  },
  {
   "cell_type": "code",
   "execution_count": null,
   "id": "476ed11f-8529-48bc-834f-fe442c8e0308",
   "metadata": {},
   "outputs": [],
   "source": [
    "# Instantiate YelpAPI Variable\n",
    "yelp_api = YelpAPI(login['api-key'], timeout_s=5.0)"
   ]
  },
  {
   "cell_type": "markdown",
   "id": "fd2ed4ad-1a52-40f1-919b-78bd0b8bf0d2",
   "metadata": {},
   "source": [
    "### Define Search Terms and File Paths"
   ]
  },
  {
   "cell_type": "code",
   "execution_count": 35,
   "id": "9de42133-8452-45d4-acd3-468e9f63ba69",
   "metadata": {},
   "outputs": [],
   "source": [
    "# set our API call parameters and filename before the first call\n",
    "location = 'North Olmsted, OH 44070'\n",
    "term = 'vegan'"
   ]
  },
  {
   "cell_type": "code",
   "execution_count": null,
   "id": "cd23017f-731a-4fcd-8fb9-f642602a8902",
   "metadata": {},
   "outputs": [],
   "source": [
    "location.split(',')[0]"
   ]
  },
  {
   "cell_type": "markdown",
   "id": "0a4ea033-32b7-41ce-be84-29b67729df32",
   "metadata": {},
   "source": [
    "# Create a results-in-progress JSON file, but only if it doesn't exist.\r\n",
    "\r\n",
    "This is the file where your results will be saved. Note: you must rename your JSON_FILE for different queries to prevent confusing results from other searches. We recommend you include your search terms in the filename."
   ]
  },
  {
   "cell_type": "code",
   "execution_count": 36,
   "id": "55f200fd-732c-4738-ab8f-b73888037f64",
   "metadata": {},
   "outputs": [
    {
     "data": {
      "text/plain": [
       "'Data/results_in_progress_NO_vegan.json'"
      ]
     },
     "execution_count": 36,
     "metadata": {},
     "output_type": "execute_result"
    }
   ],
   "source": [
    "# Specifying JSON_FILE filename (can include a folder)\n",
    "# include the search terms in the filename\n",
    "JSON_FILE = \"Data/results_in_progress_NO_vegan.json\"\n",
    "JSON_FILE"
   ]
  },
  {
   "cell_type": "markdown",
   "id": "e1fede6c-b303-4bf4-9058-1c7cefd9d335",
   "metadata": {},
   "source": [
    "# Check if our JSON_FILE already exists. This will prevent us from accidentally overwriting an existing file.\n",
    "\n",
    "If it doesn't exist:\n",
    "\n",
    "Create any folders needed for the file path.\n",
    "Save an empty list as JSON_File"
   ]
  },
  {
   "cell_type": "code",
   "execution_count": 37,
   "id": "7211abc4-8bc6-4eb3-b7cb-3edb1239fced",
   "metadata": {},
   "outputs": [
    {
     "name": "stdout",
     "output_type": "stream",
     "text": [
      "[i] Data/results_in_progress_NO_vegan.json not found. Saving empty list to file.\n"
     ]
    }
   ],
   "source": [
    "## Check if JSON_FILE exists\n",
    "file_exists = os.path.isfile(JSON_FILE)\n",
    "## If it does not exist: \n",
    "if file_exists == False:\n",
    "    \n",
    "    ## CREATE ANY NEEDED FOLDERS\n",
    "    # Get the Folder Name only\n",
    "    folder = os.path.dirname(JSON_FILE)\n",
    "    ## If JSON_FILE included a folder:\n",
    "    if len(folder)>0:\n",
    "        # create the folder\n",
    "        os.makedirs(folder,exist_ok=True)\n",
    "        \n",
    "        \n",
    "    ## INFORM USER AND SAVE EMPTY LIST\n",
    "    print(f'[i] {JSON_FILE} not found. Saving empty list to file.')\n",
    "    \n",
    "    \n",
    "    # save an empty list\n",
    "    with open(JSON_FILE,'w') as f:\n",
    "        json.dump([],f)  \n",
    "# If it exists, inform user\n",
    "else:\n",
    "    print(f\"[i] {JSON_FILE} already exists.\")"
   ]
  },
  {
   "cell_type": "markdown",
   "id": "6a460ea1-c807-4c62-826d-238df19c08d5",
   "metadata": {},
   "source": [
    "# Determine how many results are already in the file\r\n",
    "\r\n",
    "Load the results file to determine the # of results we have previously retrieved. If you just created the file, you would expect it to be empty.\r\n",
    "\r\n",
    "We will use this as our offset parameter for our API call. Even if this is your first API call, and the number is 0, we want to define \"n_results\" based on the length of \"previous_results.\""
   ]
  },
  {
   "cell_type": "code",
   "execution_count": 38,
   "id": "163500d2-ada5-4056-a6dd-abc043bb3d6b",
   "metadata": {},
   "outputs": [
    {
     "name": "stdout",
     "output_type": "stream",
     "text": [
      "- 0 previous results found.\n"
     ]
    }
   ],
   "source": [
    "## Load previous results and use len of results for offset\n",
    "with open(JSON_FILE,'r') as f:\n",
    "    previous_results = json.load(f)\n",
    "    \n",
    "## set offset based on previous results\n",
    "n_results = len(previous_results)\n",
    "print(f'- {n_results} previous results found.')"
   ]
  },
  {
   "cell_type": "markdown",
   "id": "34467df8-11b0-4e73-aaf1-4d70999361ff",
   "metadata": {},
   "source": [
    "# Figure out how many pages of results we will need\r\n",
    "\r\n",
    "We will perform our first query to get our first page of results and the total number of results. We will then (via code) calculate how many pages we will need to retrieve all of our results."
   ]
  },
  {
   "cell_type": "code",
   "execution_count": 40,
   "id": "d52e67dc-b4c8-4993-a15e-b5648a9dece4",
   "metadata": {},
   "outputs": [
    {
     "data": {
      "text/plain": [
       "dict_keys(['businesses', 'total', 'region'])"
      ]
     },
     "execution_count": 40,
     "metadata": {},
     "output_type": "execute_result"
    }
   ],
   "source": [
    "# use our yelp_api variable's search_query method to perform our API call\n",
    "results = yelp_api.search_query(term = term, location = location, offset = n_results)\n",
    "\n",
    "results.keys()"
   ]
  },
  {
   "cell_type": "code",
   "execution_count": 41,
   "id": "cc9c2b56-cc8e-4abb-af9e-1a66b65a6be4",
   "metadata": {},
   "outputs": [
    {
     "data": {
      "text/plain": [
       "180"
      ]
     },
     "execution_count": 41,
     "metadata": {},
     "output_type": "execute_result"
    }
   ],
   "source": [
    "## How many results total?\n",
    "total_results = results['total']\n",
    "total_results"
   ]
  },
  {
   "cell_type": "code",
   "execution_count": 42,
   "id": "9f61fa1e-cfa7-43c8-82f1-0bc066a73e15",
   "metadata": {},
   "outputs": [
    {
     "data": {
      "text/plain": [
       "20"
      ]
     },
     "execution_count": 42,
     "metadata": {},
     "output_type": "execute_result"
    }
   ],
   "source": [
    "## How many did we get the details for?\n",
    "results_per_page = len(results['businesses'])\n",
    "results_per_page"
   ]
  },
  {
   "cell_type": "markdown",
   "id": "e78f6eb2-8c09-4a54-b698-687212352d52",
   "metadata": {},
   "source": [
    "There are over 11000 businesses to retrieve from our API, and we can get 20 results at a time (per \"page\").\r\n",
    "We can calculate the # of results remaining by subtracting our offset (length of our previous results) from our total.\r\n",
    "Then we can determine how many pages we will need by dividing the results by 20 (or whatever the value happens to be for results per page)\r\n",
    "Note that we need to round up the number of pages in order to get all of the results. Even if there is only 1 result on the last page, we want to include that page! To do this, we will use math.ceil."
   ]
  },
  {
   "cell_type": "code",
   "execution_count": 43,
   "id": "542cd2a4-1497-44ca-b096-0e245a70be4a",
   "metadata": {},
   "outputs": [
    {
     "data": {
      "text/plain": [
       "9"
      ]
     },
     "execution_count": 43,
     "metadata": {},
     "output_type": "execute_result"
    }
   ],
   "source": [
    "# Import additional packages for controlling our loop\n",
    "import time, math\n",
    "# Use math.ceil to round up for the total number of pages of results.\n",
    "n_pages = math.ceil((results['total']-n_results)/ results_per_page)\n",
    "n_pages"
   ]
  },
  {
   "cell_type": "markdown",
   "id": "67f17691-ff5d-4e26-a11b-34a4be5479ba",
   "metadata": {},
   "source": [
    "When this example was written, there were 11200 results and 20 results per page. 180 /20 = 9. But what if we had 11210 results? Rounding UP would give us 561 pages. We expect the first 560 pages to have 20 results and the last page to have the final 10 results. Notice that we have assigned the number of pages as n_pages here. We will use this value in our next segment of code.\r\n",
    "\r\n",
    "You can see that having to manually go through 560 pages would be quite time-consuming and inefficient! First, we are going to save the first page into our file, and then we will add to it with a for loop."
   ]
  },
  {
   "cell_type": "code",
   "execution_count": 44,
   "id": "e3be894f-4cfa-45ae-9e11-89fed9c68b34",
   "metadata": {},
   "outputs": [],
   "source": [
    "# join new results with old list with extend and save to file\n",
    "previous_results.extend(results['businesses'])  \n",
    "with open(JSON_FILE,'w') as f:\n",
    "     json.dump(previous_results,f)"
   ]
  },
  {
   "cell_type": "markdown",
   "id": "5f8568db-214a-4934-875f-6adc3d7313f4",
   "metadata": {},
   "source": [
    "# Set up a progress bar in our for loop.\r\n",
    "\r\n",
    "To keep us informed about where we are in our loop, we will add a progress bar to our for loop.\r\n",
    "\r\n",
    "TQDM is a package designed for adding animated progress bars to Python processes. It is not currently included in your dojo-env, so you are going to install it manually by opening a new Terminal/GitBash window and running the following command:"
   ]
  },
  {
   "cell_type": "markdown",
   "id": "fcf3d840-d0f4-4833-b1e4-9f658e68e3f4",
   "metadata": {},
   "source": [
    "TQDM is easy to use and simply needs to know what we are looping through. If you wanted to test tqdm in action, but your loop is too fast, you can import time and use time.sleep to add a pause within your for loop. We will also use time.sleep when executing many API calls so that we do not overwhelm the server."
   ]
  },
  {
   "cell_type": "code",
   "execution_count": 45,
   "id": "3e0e17a6-3bc3-44f3-a1fb-951f5076c5ab",
   "metadata": {},
   "outputs": [
    {
     "data": {
      "application/vnd.jupyter.widget-view+json": {
       "model_id": "b22bbd5fbd574172a24d9101d5516543",
       "version_major": 2,
       "version_minor": 0
      },
      "text/plain": [
       "  0%|          | 0/9 [00:00<?, ?it/s]"
      ]
     },
     "metadata": {},
     "output_type": "display_data"
    }
   ],
   "source": [
    "from tqdm.notebook import tqdm_notebook\n",
    "import time\n",
    "for i in tqdm_notebook(range(n_pages)):\n",
    "    # adds 200 ms pause\n",
    "    time.sleep(.2) "
   ]
  },
  {
   "cell_type": "markdown",
   "id": "2bd6858d-5396-4324-95e4-d6181a7dcc83",
   "metadata": {},
   "source": [
    "# For Loop to call each page\r\n",
    "The loop below will iterate through each page of the results by starting at the appropriate offset. It will then append the results to the previous_results. This may take some time, so check out the progress bar!"
   ]
  },
  {
   "cell_type": "code",
   "execution_count": 46,
   "id": "8870112e-acba-41e1-9d8b-92e7885a52d2",
   "metadata": {},
   "outputs": [
    {
     "data": {
      "application/vnd.jupyter.widget-view+json": {
       "model_id": "e9faf36cc6c446f79218f963629cebd8",
       "version_major": 2,
       "version_minor": 0
      },
      "text/plain": [
       "  0%|          | 0/9 [00:00<?, ?it/s]"
      ]
     },
     "metadata": {},
     "output_type": "display_data"
    }
   ],
   "source": [
    "for i in tqdm_notebook( range(1,n_pages+1)):\n",
    "    \n",
    "    ## Read in results in progress file and check the length\n",
    "    with open(JSON_FILE, 'r') as f:\n",
    "        previous_results = json.load(f)\n",
    "    ## save number of results for to use as offset\n",
    "    n_results = len(previous_results)\n",
    "    ## use n_results as the OFFSET \n",
    "    results = yelp_api.search_query(location=location,\n",
    "                                    term=term, \n",
    "                                    offset=n_results+1)\n",
    "    \n",
    "    ## append new results and save to file\n",
    "    previous_results.extend(results['businesses'])\n",
    "    \n",
    "    with open(JSON_FILE,'w') as f:\n",
    "        json.dump(previous_results,f)\n",
    "    \n",
    "    # add a 200ms pause\n",
    "    time.sleep(.2)\n",
    "## what to do if we get an error/exception\n",
    "except Exception as e:\n",
    "    print(' [!] ERROR', e)"
   ]
  },
  {
   "cell_type": "markdown",
   "id": "87d703be-1d67-4405-bb62-cd648f63f190",
   "metadata": {},
   "source": [
    "# Handling queries with >1000 Results\n",
    "To get around this error, we can add an extra logic check to see if the length of movies we have so far (n_results) + the # of results on each page (results_per_page) is greater than 1,000.\r\n",
    "\r\n",
    "If it is greater than 1,000, we will use a break to end our loop early."
   ]
  },
  {
   "cell_type": "markdown",
   "id": "13f7684b-a6cd-46b3-bfeb-69c259cdb6cb",
   "metadata": {},
   "source": [
    "# Deleting Our Previous Results FIle\r\n",
    "Let's give ourselves a fresh start with our new and improved loop. Let's delete our previous results file.\r\n",
    "We could accomplish this manually or programmatically## .\r\n",
    "The Manual Way\r\n",
    "We could do this manually by using the Files page in Jupyter to find the file in our results folder and delete it. To delete a file with Jupyter check the check box next to the file you want to delete.\r\n",
    "\r\n",
    "You should now see additional buttons appear above the list of files.\r\n",
    "\r\n",
    "Click on the red trash can icon to delete the file.\r\n",
    "\r\n"
   ]
  },
  {
   "cell_type": "markdown",
   "id": "c01125e4-e117-4b76-b8e8-0a3003e07248",
   "metadata": {},
   "source": [
    "# The Programmatic Way\r\n",
    "Just like we used the os module to create new folders, we can also use it to delete (or remove) files.\r\n",
    "\r\n",
    "We simply use the os.remove function and pass in our filename to delete.\r\n",
    "\r\n",
    "We can then use our os.path.isfile function again to confirm the file no longer exists."
   ]
  },
  {
   "cell_type": "code",
   "execution_count": 47,
   "id": "1b33e047-d0d3-4ec5-8e96-08be0eee1149",
   "metadata": {},
   "outputs": [
    {
     "data": {
      "text/plain": [
       "False"
      ]
     },
     "execution_count": 47,
     "metadata": {},
     "output_type": "execute_result"
    }
   ],
   "source": [
    "## delete file and confirm it no longer exits.\n",
    "os.remove(JSON_FILE)\n",
    "os.path.isfile(JSON_FILE)"
   ]
  },
  {
   "cell_type": "markdown",
   "id": "bc8cc182-c651-4c1d-a08e-3f209025d44a",
   "metadata": {},
   "source": [
    "Now that we've deleted the file, we need to re-run our code to create it.\r\n",
    "\r\n",
    "This process is begging to be turned into a function so we can easily repeat it.\r\n",
    "\r\n",
    "While we are making it a function, we will add the option to delete the JSON file if it already exists, just like we did above.\r\n",
    "\r\n",
    "So let's make a create_json_file function that accepts the JSON_FILE filename as the first argument and a second argument called delete_if_exists and set it to False by default.\r\n",
    "\r\n",
    "This way, it will not automatically delete previous search results. We will have to explicitly say delete_if_exists = True to do so."
   ]
  },
  {
   "cell_type": "code",
   "execution_count": 49,
   "id": "d1eedb37-ab90-4bda-a95c-f69203eb140b",
   "metadata": {},
   "outputs": [],
   "source": [
    "def create_json_file(JSON_FILE,  delete_if_exists=False):\n",
    "    \n",
    "    ## Check if JSON_FILE exists\n",
    "    file_exists = os.path.isfile(JSON_FILE)\n",
    "    \n",
    "    ## If it DOES exist:\n",
    "    if file_exists == True:\n",
    "        \n",
    "        ## Check if user wants to delete if exists\n",
    "        if delete_if_exists==True:\n",
    "            \n",
    "            print(f\"[!] {JSON_FILE} already exists. Deleting previous file...\")\n",
    "            ## delete file and confirm it no longer exits.\n",
    "            os.remove(JSON_FILE)\n",
    "            ## Recursive call to function after old file deleted\n",
    "            create_json_file(JSON_FILE,delete_if_exists=False)\n",
    "        else:\n",
    "            print(f\"[i] {JSON_FILE} already exists.\")            \n",
    "            \n",
    "            \n",
    "    ## If it does NOT exist:\n",
    "    else:\n",
    "        \n",
    "        ## INFORM USER AND SAVE EMPTY LIST\n",
    "        print(f\"[i] {JSON_FILE} not found. Saving empty list to new file.\")\n",
    "        \n",
    "        ## CREATE ANY NEEDED FOLDERS\n",
    "        # Get the Folder Name only\n",
    "        folder = os.path.dirname(JSON_FILE)\n",
    "        \n",
    "        ## If JSON_FILE included a folder:\n",
    "        if len(folder)>0:\n",
    "            # create the folder\n",
    "            os.makedirs(folder,exist_ok=True)\n",
    "        ## Save empty list to start the json file\n",
    "        with open(JSON_FILE,'w') as f:\n",
    "            json.dump([],f)  "
   ]
  },
  {
   "cell_type": "markdown",
   "id": "67fc3b9a-fe82-4028-8ba0-ff4d7903d702",
   "metadata": {},
   "source": [
    "Now that we have our new function, we can use it with delete_if_exists=True to delete our previous results and start over. We will also need to repeat the steps to recreate our n-results, total_results, results_per_page, and n_pages variables that we created before our first attempted loop."
   ]
  },
  {
   "cell_type": "code",
   "execution_count": 50,
   "id": "ebb105bc-7a50-4b4d-a69a-fac735927f2d",
   "metadata": {},
   "outputs": [
    {
     "name": "stdout",
     "output_type": "stream",
     "text": [
      "[i] Data/results_in_progress_NO_vegan.json not found. Saving empty list to new file.\n",
      "- 0 previous results found.\n"
     ]
    },
    {
     "data": {
      "text/plain": [
       "9"
      ]
     },
     "execution_count": 50,
     "metadata": {},
     "output_type": "execute_result"
    }
   ],
   "source": [
    "## Create a new empty json file (exist the previous if it exists)\n",
    "create_json_file(JSON_FILE, delete_if_exists=True)\n",
    "## Load previous results and use len of results for offset\n",
    "with open(JSON_FILE,'r') as f:\n",
    "    previous_results = json.load(f)\n",
    "    \n",
    "## set offset based on previous results\n",
    "n_results = len(previous_results)\n",
    "print(f'- {n_results} previous results found.')\n",
    "# use our yelp_api variable's search_query method to perform our API call\n",
    "results = yelp_api.search_query(location=location,\n",
    "                                term=term,\n",
    "                               offset=n_results)\n",
    "## How many results total?\n",
    "total_results = results['total']\n",
    "## How many did we get the details for?\n",
    "results_per_page = len(results['businesses'])\n",
    "# Use math.ceil to round up for the total number of pages of results.\n",
    "n_pages = math.ceil((results['total']-n_results)/ results_per_page)\n",
    "n_pages"
   ]
  },
  {
   "cell_type": "code",
   "execution_count": 51,
   "id": "03d354ac-3ff8-4073-9e65-cb367aff235c",
   "metadata": {},
   "outputs": [
    {
     "data": {
      "application/vnd.jupyter.widget-view+json": {
       "model_id": "9d4ecdaee1c84164a872416f84398784",
       "version_major": 2,
       "version_minor": 0
      },
      "text/plain": [
       "  0%|          | 0/9 [00:00<?, ?it/s]"
      ]
     },
     "metadata": {},
     "output_type": "display_data"
    }
   ],
   "source": [
    "for i in tqdm_notebook( range(1,n_pages+1)):\n",
    "    \n",
    "    ## Read in results in progress file and check the length\n",
    "    with open(JSON_FILE, 'r') as f:\n",
    "        previous_results = json.load(f)\n",
    "    ## save number of results for to use as offset\n",
    "    n_results = len(previous_results)\n",
    "    \n",
    "    if (n_results + results_per_page) > 1000:\n",
    "        print('Exceeded 1000 api calls. Stopping loop.')\n",
    "        break\n",
    "    \n",
    "    ## use n_results as the OFFSET \n",
    "    results = yelp_api.search_query(location=location,\n",
    "                                    term=term, \n",
    "                                    offset=n_results)\n",
    "    \n",
    "    \n",
    "    \n",
    "    ## append new results and save to file\n",
    "    previous_results.extend(results['businesses'])\n",
    "    \n",
    "    # display(previous_results)\n",
    "    with open(JSON_FILE,'w') as f:\n",
    "        json.dump(previous_results,f)\n",
    "    \n",
    "    time.sleep(.2)"
   ]
  },
  {
   "cell_type": "markdown",
   "id": "18059876-77fc-482a-aac5-6e841c8e5640",
   "metadata": {},
   "source": [
    "# After the loop has finished\r\n",
    "\r\n",
    "Convert .json to dataframe\r\n",
    "Load in the \"results in progress\" JSON file into a DataFrame:"
   ]
  },
  {
   "cell_type": "code",
   "execution_count": 52,
   "id": "bebb59dd-40ff-461a-a9a6-c862d3d9bfcf",
   "metadata": {},
   "outputs": [
    {
     "data": {
      "text/html": [
       "<div>\n",
       "<style scoped>\n",
       "    .dataframe tbody tr th:only-of-type {\n",
       "        vertical-align: middle;\n",
       "    }\n",
       "\n",
       "    .dataframe tbody tr th {\n",
       "        vertical-align: top;\n",
       "    }\n",
       "\n",
       "    .dataframe thead th {\n",
       "        text-align: right;\n",
       "    }\n",
       "</style>\n",
       "<table border=\"1\" class=\"dataframe\">\n",
       "  <thead>\n",
       "    <tr style=\"text-align: right;\">\n",
       "      <th></th>\n",
       "      <th>id</th>\n",
       "      <th>alias</th>\n",
       "      <th>name</th>\n",
       "      <th>image_url</th>\n",
       "      <th>is_closed</th>\n",
       "      <th>url</th>\n",
       "      <th>review_count</th>\n",
       "      <th>categories</th>\n",
       "      <th>rating</th>\n",
       "      <th>coordinates</th>\n",
       "      <th>transactions</th>\n",
       "      <th>price</th>\n",
       "      <th>location</th>\n",
       "      <th>phone</th>\n",
       "      <th>display_phone</th>\n",
       "      <th>distance</th>\n",
       "    </tr>\n",
       "  </thead>\n",
       "  <tbody>\n",
       "    <tr>\n",
       "      <th>0</th>\n",
       "      <td>VXVrYjLRqNpQY-ogN9ztmQ</td>\n",
       "      <td>cleveland-vegan-lakewood</td>\n",
       "      <td>Cleveland Vegan</td>\n",
       "      <td>https://s3-media4.fl.yelpcdn.com/bphoto/-Do3Co...</td>\n",
       "      <td>False</td>\n",
       "      <td>https://www.yelp.com/biz/cleveland-vegan-lakew...</td>\n",
       "      <td>295</td>\n",
       "      <td>[{'alias': 'vegan', 'title': 'Vegan'}, {'alias...</td>\n",
       "      <td>4.5</td>\n",
       "      <td>{'latitude': 41.4855267595181, 'longitude': -8...</td>\n",
       "      <td>[delivery]</td>\n",
       "      <td>$$</td>\n",
       "      <td>{'address1': '17112 Detroit Ave', 'address2': ...</td>\n",
       "      <td>+12162210201</td>\n",
       "      <td>(216) 221-0201</td>\n",
       "      <td>10908.787939</td>\n",
       "    </tr>\n",
       "    <tr>\n",
       "      <th>1</th>\n",
       "      <td>sS37silzgDcQxarNrJk2WQ</td>\n",
       "      <td>thyme-table-bay-village</td>\n",
       "      <td>Thyme Table</td>\n",
       "      <td>https://s3-media1.fl.yelpcdn.com/bphoto/p0AbvB...</td>\n",
       "      <td>False</td>\n",
       "      <td>https://www.yelp.com/biz/thyme-table-bay-villa...</td>\n",
       "      <td>172</td>\n",
       "      <td>[{'alias': 'newamerican', 'title': 'American (...</td>\n",
       "      <td>4.5</td>\n",
       "      <td>{'latitude': 41.479158, 'longitude': -81.9207637}</td>\n",
       "      <td>[pickup, delivery]</td>\n",
       "      <td>$$</td>\n",
       "      <td>{'address1': '583 Dover Center Rd', 'address2'...</td>\n",
       "      <td>+14406176964</td>\n",
       "      <td>(440) 617-6964</td>\n",
       "      <td>6628.324334</td>\n",
       "    </tr>\n",
       "    <tr>\n",
       "      <th>2</th>\n",
       "      <td>r4dghMWRoFmBBFlAQvpwrA</td>\n",
       "      <td>cockys-bagels-north-olmsted</td>\n",
       "      <td>Cocky's Bagels</td>\n",
       "      <td>https://s3-media1.fl.yelpcdn.com/bphoto/f3IcYM...</td>\n",
       "      <td>False</td>\n",
       "      <td>https://www.yelp.com/biz/cockys-bagels-north-o...</td>\n",
       "      <td>194</td>\n",
       "      <td>[{'alias': 'bagels', 'title': 'Bagels'}, {'ali...</td>\n",
       "      <td>4.5</td>\n",
       "      <td>{'latitude': 41.419271, 'longitude': -81.920495}</td>\n",
       "      <td>[pickup, delivery]</td>\n",
       "      <td>$</td>\n",
       "      <td>{'address1': '26703 Brookpark Extension', 'add...</td>\n",
       "      <td>+14404551205</td>\n",
       "      <td>(440) 455-1205</td>\n",
       "      <td>596.588885</td>\n",
       "    </tr>\n",
       "    <tr>\n",
       "      <th>3</th>\n",
       "      <td>EAiFR299WV3OQ68pHMlmGw</td>\n",
       "      <td>phnom-penh-north-olmsted-2</td>\n",
       "      <td>Phnom Penh</td>\n",
       "      <td>https://s3-media3.fl.yelpcdn.com/bphoto/k6nddW...</td>\n",
       "      <td>False</td>\n",
       "      <td>https://www.yelp.com/biz/phnom-penh-north-olms...</td>\n",
       "      <td>118</td>\n",
       "      <td>[{'alias': 'cambodian', 'title': 'Cambodian'},...</td>\n",
       "      <td>4.0</td>\n",
       "      <td>{'latitude': 41.41678, 'longitude': -81.92207}</td>\n",
       "      <td>[delivery]</td>\n",
       "      <td>$$</td>\n",
       "      <td>{'address1': '27080 Lorain Rd', 'address2': ''...</td>\n",
       "      <td>+12162510210</td>\n",
       "      <td>(216) 251-0210</td>\n",
       "      <td>797.602452</td>\n",
       "    </tr>\n",
       "    <tr>\n",
       "      <th>4</th>\n",
       "      <td>yBbqFPuwFiaom435KOY4cg</td>\n",
       "      <td>mashiso-asian-grille-north-olmsted</td>\n",
       "      <td>Mashiso Asian Grille</td>\n",
       "      <td>https://s3-media2.fl.yelpcdn.com/bphoto/Bepp8m...</td>\n",
       "      <td>False</td>\n",
       "      <td>https://www.yelp.com/biz/mashiso-asian-grille-...</td>\n",
       "      <td>152</td>\n",
       "      <td>[{'alias': 'asianfusion', 'title': 'Asian Fusi...</td>\n",
       "      <td>4.0</td>\n",
       "      <td>{'latitude': 41.419502, 'longitude': -81.898061}</td>\n",
       "      <td>[pickup, delivery]</td>\n",
       "      <td>$</td>\n",
       "      <td>{'address1': '24954 Brookpark Rd', 'address2':...</td>\n",
       "      <td>+14408011184</td>\n",
       "      <td>(440) 801-1184</td>\n",
       "      <td>1277.448497</td>\n",
       "    </tr>\n",
       "  </tbody>\n",
       "</table>\n",
       "</div>"
      ],
      "text/plain": [
       "                       id                               alias  \\\n",
       "0  VXVrYjLRqNpQY-ogN9ztmQ            cleveland-vegan-lakewood   \n",
       "1  sS37silzgDcQxarNrJk2WQ             thyme-table-bay-village   \n",
       "2  r4dghMWRoFmBBFlAQvpwrA         cockys-bagels-north-olmsted   \n",
       "3  EAiFR299WV3OQ68pHMlmGw          phnom-penh-north-olmsted-2   \n",
       "4  yBbqFPuwFiaom435KOY4cg  mashiso-asian-grille-north-olmsted   \n",
       "\n",
       "                   name                                          image_url  \\\n",
       "0       Cleveland Vegan  https://s3-media4.fl.yelpcdn.com/bphoto/-Do3Co...   \n",
       "1           Thyme Table  https://s3-media1.fl.yelpcdn.com/bphoto/p0AbvB...   \n",
       "2        Cocky's Bagels  https://s3-media1.fl.yelpcdn.com/bphoto/f3IcYM...   \n",
       "3            Phnom Penh  https://s3-media3.fl.yelpcdn.com/bphoto/k6nddW...   \n",
       "4  Mashiso Asian Grille  https://s3-media2.fl.yelpcdn.com/bphoto/Bepp8m...   \n",
       "\n",
       "   is_closed                                                url  review_count  \\\n",
       "0      False  https://www.yelp.com/biz/cleveland-vegan-lakew...           295   \n",
       "1      False  https://www.yelp.com/biz/thyme-table-bay-villa...           172   \n",
       "2      False  https://www.yelp.com/biz/cockys-bagels-north-o...           194   \n",
       "3      False  https://www.yelp.com/biz/phnom-penh-north-olms...           118   \n",
       "4      False  https://www.yelp.com/biz/mashiso-asian-grille-...           152   \n",
       "\n",
       "                                          categories  rating  \\\n",
       "0  [{'alias': 'vegan', 'title': 'Vegan'}, {'alias...     4.5   \n",
       "1  [{'alias': 'newamerican', 'title': 'American (...     4.5   \n",
       "2  [{'alias': 'bagels', 'title': 'Bagels'}, {'ali...     4.5   \n",
       "3  [{'alias': 'cambodian', 'title': 'Cambodian'},...     4.0   \n",
       "4  [{'alias': 'asianfusion', 'title': 'Asian Fusi...     4.0   \n",
       "\n",
       "                                         coordinates        transactions  \\\n",
       "0  {'latitude': 41.4855267595181, 'longitude': -8...          [delivery]   \n",
       "1  {'latitude': 41.479158, 'longitude': -81.9207637}  [pickup, delivery]   \n",
       "2   {'latitude': 41.419271, 'longitude': -81.920495}  [pickup, delivery]   \n",
       "3     {'latitude': 41.41678, 'longitude': -81.92207}          [delivery]   \n",
       "4   {'latitude': 41.419502, 'longitude': -81.898061}  [pickup, delivery]   \n",
       "\n",
       "  price                                           location         phone  \\\n",
       "0    $$  {'address1': '17112 Detroit Ave', 'address2': ...  +12162210201   \n",
       "1    $$  {'address1': '583 Dover Center Rd', 'address2'...  +14406176964   \n",
       "2     $  {'address1': '26703 Brookpark Extension', 'add...  +14404551205   \n",
       "3    $$  {'address1': '27080 Lorain Rd', 'address2': ''...  +12162510210   \n",
       "4     $  {'address1': '24954 Brookpark Rd', 'address2':...  +14408011184   \n",
       "\n",
       "    display_phone      distance  \n",
       "0  (216) 221-0201  10908.787939  \n",
       "1  (440) 617-6964   6628.324334  \n",
       "2  (440) 455-1205    596.588885  \n",
       "3  (216) 251-0210    797.602452  \n",
       "4  (440) 801-1184   1277.448497  "
      ]
     },
     "metadata": {},
     "output_type": "display_data"
    },
    {
     "data": {
      "text/html": [
       "<div>\n",
       "<style scoped>\n",
       "    .dataframe tbody tr th:only-of-type {\n",
       "        vertical-align: middle;\n",
       "    }\n",
       "\n",
       "    .dataframe tbody tr th {\n",
       "        vertical-align: top;\n",
       "    }\n",
       "\n",
       "    .dataframe thead th {\n",
       "        text-align: right;\n",
       "    }\n",
       "</style>\n",
       "<table border=\"1\" class=\"dataframe\">\n",
       "  <thead>\n",
       "    <tr style=\"text-align: right;\">\n",
       "      <th></th>\n",
       "      <th>id</th>\n",
       "      <th>alias</th>\n",
       "      <th>name</th>\n",
       "      <th>image_url</th>\n",
       "      <th>is_closed</th>\n",
       "      <th>url</th>\n",
       "      <th>review_count</th>\n",
       "      <th>categories</th>\n",
       "      <th>rating</th>\n",
       "      <th>coordinates</th>\n",
       "      <th>transactions</th>\n",
       "      <th>price</th>\n",
       "      <th>location</th>\n",
       "      <th>phone</th>\n",
       "      <th>display_phone</th>\n",
       "      <th>distance</th>\n",
       "    </tr>\n",
       "  </thead>\n",
       "  <tbody>\n",
       "    <tr>\n",
       "      <th>173</th>\n",
       "      <td>iGJFu5WofKIGD9nRj1-zRQ</td>\n",
       "      <td>heinens-grocery-store-rocky-river-2</td>\n",
       "      <td>Heinen's Grocery Store</td>\n",
       "      <td>https://s3-media2.fl.yelpcdn.com/bphoto/f4bpyS...</td>\n",
       "      <td>False</td>\n",
       "      <td>https://www.yelp.com/biz/heinens-grocery-store...</td>\n",
       "      <td>78</td>\n",
       "      <td>[{'alias': 'grocery', 'title': 'Grocery'}]</td>\n",
       "      <td>4.0</td>\n",
       "      <td>{'latitude': 41.4818115, 'longitude': -81.8347...</td>\n",
       "      <td>[]</td>\n",
       "      <td>$$</td>\n",
       "      <td>{'address1': '19219 Detroit Rd', 'address2': '...</td>\n",
       "      <td>+14403313830</td>\n",
       "      <td>(440) 331-3830</td>\n",
       "      <td>10288.126588</td>\n",
       "    </tr>\n",
       "    <tr>\n",
       "      <th>174</th>\n",
       "      <td>a1DFzgQRYAmfA5o1fDVPEQ</td>\n",
       "      <td>insomnia-cookies-lakewood</td>\n",
       "      <td>Insomnia Cookies</td>\n",
       "      <td>https://s3-media1.fl.yelpcdn.com/bphoto/NdonkA...</td>\n",
       "      <td>False</td>\n",
       "      <td>https://www.yelp.com/biz/insomnia-cookies-lake...</td>\n",
       "      <td>53</td>\n",
       "      <td>[{'alias': 'desserts', 'title': 'Desserts'}, {...</td>\n",
       "      <td>3.0</td>\n",
       "      <td>{'latitude': 41.482078, 'longitude': -81.827128}</td>\n",
       "      <td>[delivery, pickup]</td>\n",
       "      <td>$</td>\n",
       "      <td>{'address1': '18508 Detroit Ave', 'address2': ...</td>\n",
       "      <td>+12165866313</td>\n",
       "      <td>(216) 586-6313</td>\n",
       "      <td>10783.873583</td>\n",
       "    </tr>\n",
       "    <tr>\n",
       "      <th>175</th>\n",
       "      <td>f0ELDvCsvHaWwxGodOd8Sw</td>\n",
       "      <td>inca-tea-cafe-cleveland</td>\n",
       "      <td>Inca Tea Cafe</td>\n",
       "      <td>https://s3-media1.fl.yelpcdn.com/bphoto/JQ8OYY...</td>\n",
       "      <td>False</td>\n",
       "      <td>https://www.yelp.com/biz/inca-tea-cafe-clevela...</td>\n",
       "      <td>41</td>\n",
       "      <td>[{'alias': 'coffee', 'title': 'Coffee &amp; Tea'},...</td>\n",
       "      <td>4.0</td>\n",
       "      <td>{'latitude': 41.40854970720977, 'longitude': -...</td>\n",
       "      <td>[]</td>\n",
       "      <td>$</td>\n",
       "      <td>{'address1': '5300 Riverside Dr', 'address2': ...</td>\n",
       "      <td>+18444622832</td>\n",
       "      <td>(844) 462-2832</td>\n",
       "      <td>6874.011333</td>\n",
       "    </tr>\n",
       "    <tr>\n",
       "      <th>176</th>\n",
       "      <td>nUogaVQovKvmKHDFGmFlQA</td>\n",
       "      <td>starbucks-coffee-cleveland-19</td>\n",
       "      <td>STARBUCKS COFFEE</td>\n",
       "      <td>https://s3-media1.fl.yelpcdn.com/bphoto/PkiRXF...</td>\n",
       "      <td>False</td>\n",
       "      <td>https://www.yelp.com/biz/starbucks-coffee-clev...</td>\n",
       "      <td>28</td>\n",
       "      <td>[{'alias': 'coffee', 'title': 'Coffee &amp; Tea'}]</td>\n",
       "      <td>3.5</td>\n",
       "      <td>{'latitude': 41.3715799848749, 'longitude': -8...</td>\n",
       "      <td>[delivery]</td>\n",
       "      <td>$$</td>\n",
       "      <td>{'address1': '17999 Bagley Rd', 'address2': ''...</td>\n",
       "      <td>+12169048217</td>\n",
       "      <td>(216) 904-8217</td>\n",
       "      <td>9430.573324</td>\n",
       "    </tr>\n",
       "    <tr>\n",
       "      <th>177</th>\n",
       "      <td>MUMiGoEZ3NBwebH4Eff4LA</td>\n",
       "      <td>dq-orange-julius-lakewood</td>\n",
       "      <td>DQ / Orange Julius</td>\n",
       "      <td>https://s3-media3.fl.yelpcdn.com/bphoto/XmLCXd...</td>\n",
       "      <td>False</td>\n",
       "      <td>https://www.yelp.com/biz/dq-orange-julius-lake...</td>\n",
       "      <td>22</td>\n",
       "      <td>[{'alias': 'icecream', 'title': 'Ice Cream &amp; F...</td>\n",
       "      <td>3.0</td>\n",
       "      <td>{'latitude': 41.485052, 'longitude': -81.813922}</td>\n",
       "      <td>[delivery, pickup]</td>\n",
       "      <td>$</td>\n",
       "      <td>{'address1': '16803 Detroit Rd', 'address2': '...</td>\n",
       "      <td>+12165217763</td>\n",
       "      <td>(216) 521-7763</td>\n",
       "      <td>10440.048359</td>\n",
       "    </tr>\n",
       "  </tbody>\n",
       "</table>\n",
       "</div>"
      ],
      "text/plain": [
       "                         id                                alias  \\\n",
       "173  iGJFu5WofKIGD9nRj1-zRQ  heinens-grocery-store-rocky-river-2   \n",
       "174  a1DFzgQRYAmfA5o1fDVPEQ            insomnia-cookies-lakewood   \n",
       "175  f0ELDvCsvHaWwxGodOd8Sw              inca-tea-cafe-cleveland   \n",
       "176  nUogaVQovKvmKHDFGmFlQA        starbucks-coffee-cleveland-19   \n",
       "177  MUMiGoEZ3NBwebH4Eff4LA            dq-orange-julius-lakewood   \n",
       "\n",
       "                       name  \\\n",
       "173  Heinen's Grocery Store   \n",
       "174        Insomnia Cookies   \n",
       "175           Inca Tea Cafe   \n",
       "176        STARBUCKS COFFEE   \n",
       "177      DQ / Orange Julius   \n",
       "\n",
       "                                             image_url  is_closed  \\\n",
       "173  https://s3-media2.fl.yelpcdn.com/bphoto/f4bpyS...      False   \n",
       "174  https://s3-media1.fl.yelpcdn.com/bphoto/NdonkA...      False   \n",
       "175  https://s3-media1.fl.yelpcdn.com/bphoto/JQ8OYY...      False   \n",
       "176  https://s3-media1.fl.yelpcdn.com/bphoto/PkiRXF...      False   \n",
       "177  https://s3-media3.fl.yelpcdn.com/bphoto/XmLCXd...      False   \n",
       "\n",
       "                                                   url  review_count  \\\n",
       "173  https://www.yelp.com/biz/heinens-grocery-store...            78   \n",
       "174  https://www.yelp.com/biz/insomnia-cookies-lake...            53   \n",
       "175  https://www.yelp.com/biz/inca-tea-cafe-clevela...            41   \n",
       "176  https://www.yelp.com/biz/starbucks-coffee-clev...            28   \n",
       "177  https://www.yelp.com/biz/dq-orange-julius-lake...            22   \n",
       "\n",
       "                                            categories  rating  \\\n",
       "173         [{'alias': 'grocery', 'title': 'Grocery'}]     4.0   \n",
       "174  [{'alias': 'desserts', 'title': 'Desserts'}, {...     3.0   \n",
       "175  [{'alias': 'coffee', 'title': 'Coffee & Tea'},...     4.0   \n",
       "176     [{'alias': 'coffee', 'title': 'Coffee & Tea'}]     3.5   \n",
       "177  [{'alias': 'icecream', 'title': 'Ice Cream & F...     3.0   \n",
       "\n",
       "                                           coordinates        transactions  \\\n",
       "173  {'latitude': 41.4818115, 'longitude': -81.8347...                  []   \n",
       "174   {'latitude': 41.482078, 'longitude': -81.827128}  [delivery, pickup]   \n",
       "175  {'latitude': 41.40854970720977, 'longitude': -...                  []   \n",
       "176  {'latitude': 41.3715799848749, 'longitude': -8...          [delivery]   \n",
       "177   {'latitude': 41.485052, 'longitude': -81.813922}  [delivery, pickup]   \n",
       "\n",
       "    price                                           location         phone  \\\n",
       "173    $$  {'address1': '19219 Detroit Rd', 'address2': '...  +14403313830   \n",
       "174     $  {'address1': '18508 Detroit Ave', 'address2': ...  +12165866313   \n",
       "175     $  {'address1': '5300 Riverside Dr', 'address2': ...  +18444622832   \n",
       "176    $$  {'address1': '17999 Bagley Rd', 'address2': ''...  +12169048217   \n",
       "177     $  {'address1': '16803 Detroit Rd', 'address2': '...  +12165217763   \n",
       "\n",
       "      display_phone      distance  \n",
       "173  (440) 331-3830  10288.126588  \n",
       "174  (216) 586-6313  10783.873583  \n",
       "175  (844) 462-2832   6874.011333  \n",
       "176  (216) 904-8217   9430.573324  \n",
       "177  (216) 521-7763  10440.048359  "
      ]
     },
     "metadata": {},
     "output_type": "display_data"
    }
   ],
   "source": [
    "# load final results\n",
    "final_df = pd.read_json(JSON_FILE)\n",
    "display(final_df.head(), final_df.tail())"
   ]
  },
  {
   "cell_type": "markdown",
   "id": "15d853b0-93c8-4288-93c6-7ce0bdf0a737",
   "metadata": {},
   "source": [
    "# Check for duplicates\r\n",
    "Check for and remove any duplicate results.\r\n"
   ]
  },
  {
   "cell_type": "code",
   "execution_count": 53,
   "id": "81f4704d-5753-42fc-8d66-59ab15f69e5c",
   "metadata": {},
   "outputs": [
    {
     "ename": "TypeError",
     "evalue": "unhashable type: 'list'",
     "output_type": "error",
     "traceback": [
      "\u001b[1;31m---------------------------------------------------------------------------\u001b[0m",
      "\u001b[1;31mTypeError\u001b[0m                                 Traceback (most recent call last)",
      "Cell \u001b[1;32mIn[53], line 2\u001b[0m\n\u001b[0;32m      1\u001b[0m \u001b[38;5;66;03m# check for duplicate results\u001b[39;00m\n\u001b[1;32m----> 2\u001b[0m \u001b[43mfinal_df\u001b[49m\u001b[38;5;241;43m.\u001b[39;49m\u001b[43mduplicated\u001b[49m\u001b[43m(\u001b[49m\u001b[43m)\u001b[49m\u001b[38;5;241m.\u001b[39msum()\n",
      "File \u001b[1;32m~\\anaconda3\\envs\\dojo-env\\lib\\site-packages\\pandas\\core\\frame.py:6814\u001b[0m, in \u001b[0;36mDataFrame.duplicated\u001b[1;34m(self, subset, keep)\u001b[0m\n\u001b[0;32m   6812\u001b[0m \u001b[38;5;28;01melse\u001b[39;00m:\n\u001b[0;32m   6813\u001b[0m     vals \u001b[38;5;241m=\u001b[39m (col\u001b[38;5;241m.\u001b[39mvalues \u001b[38;5;28;01mfor\u001b[39;00m name, col \u001b[38;5;129;01min\u001b[39;00m \u001b[38;5;28mself\u001b[39m\u001b[38;5;241m.\u001b[39mitems() \u001b[38;5;28;01mif\u001b[39;00m name \u001b[38;5;129;01min\u001b[39;00m subset)\n\u001b[1;32m-> 6814\u001b[0m     labels, shape \u001b[38;5;241m=\u001b[39m \u001b[38;5;28mmap\u001b[39m(\u001b[38;5;28mlist\u001b[39m, \u001b[38;5;28;43mzip\u001b[39;49m\u001b[43m(\u001b[49m\u001b[38;5;241;43m*\u001b[39;49m\u001b[38;5;28;43mmap\u001b[39;49m\u001b[43m(\u001b[49m\u001b[43mf\u001b[49m\u001b[43m,\u001b[49m\u001b[43m \u001b[49m\u001b[43mvals\u001b[49m\u001b[43m)\u001b[49m\u001b[43m)\u001b[49m)\n\u001b[0;32m   6816\u001b[0m     ids \u001b[38;5;241m=\u001b[39m get_group_index(\n\u001b[0;32m   6817\u001b[0m         labels,\n\u001b[0;32m   6818\u001b[0m         \u001b[38;5;66;03m# error: Argument 1 to \"tuple\" has incompatible type \"List[_T]\";\u001b[39;00m\n\u001b[1;32m   (...)\u001b[0m\n\u001b[0;32m   6822\u001b[0m         xnull\u001b[38;5;241m=\u001b[39m\u001b[38;5;28;01mFalse\u001b[39;00m,\n\u001b[0;32m   6823\u001b[0m     )\n\u001b[0;32m   6824\u001b[0m     result \u001b[38;5;241m=\u001b[39m \u001b[38;5;28mself\u001b[39m\u001b[38;5;241m.\u001b[39m_constructor_sliced(duplicated(ids, keep), index\u001b[38;5;241m=\u001b[39m\u001b[38;5;28mself\u001b[39m\u001b[38;5;241m.\u001b[39mindex)\n",
      "File \u001b[1;32m~\\anaconda3\\envs\\dojo-env\\lib\\site-packages\\pandas\\core\\frame.py:6782\u001b[0m, in \u001b[0;36mDataFrame.duplicated.<locals>.f\u001b[1;34m(vals)\u001b[0m\n\u001b[0;32m   6781\u001b[0m \u001b[38;5;28;01mdef\u001b[39;00m \u001b[38;5;21mf\u001b[39m(vals) \u001b[38;5;241m-\u001b[39m\u001b[38;5;241m>\u001b[39m \u001b[38;5;28mtuple\u001b[39m[np\u001b[38;5;241m.\u001b[39mndarray, \u001b[38;5;28mint\u001b[39m]:\n\u001b[1;32m-> 6782\u001b[0m     labels, shape \u001b[38;5;241m=\u001b[39m \u001b[43malgorithms\u001b[49m\u001b[38;5;241;43m.\u001b[39;49m\u001b[43mfactorize\u001b[49m\u001b[43m(\u001b[49m\u001b[43mvals\u001b[49m\u001b[43m,\u001b[49m\u001b[43m \u001b[49m\u001b[43msize_hint\u001b[49m\u001b[38;5;241;43m=\u001b[39;49m\u001b[38;5;28;43mlen\u001b[39;49m\u001b[43m(\u001b[49m\u001b[38;5;28;43mself\u001b[39;49m\u001b[43m)\u001b[49m\u001b[43m)\u001b[49m\n\u001b[0;32m   6783\u001b[0m     \u001b[38;5;28;01mreturn\u001b[39;00m labels\u001b[38;5;241m.\u001b[39mastype(\u001b[38;5;124m\"\u001b[39m\u001b[38;5;124mi8\u001b[39m\u001b[38;5;124m\"\u001b[39m, copy\u001b[38;5;241m=\u001b[39m\u001b[38;5;28;01mFalse\u001b[39;00m), \u001b[38;5;28mlen\u001b[39m(shape)\n",
      "File \u001b[1;32m~\\anaconda3\\envs\\dojo-env\\lib\\site-packages\\pandas\\core\\algorithms.py:822\u001b[0m, in \u001b[0;36mfactorize\u001b[1;34m(values, sort, na_sentinel, use_na_sentinel, size_hint)\u001b[0m\n\u001b[0;32m    819\u001b[0m             \u001b[38;5;66;03m# Don't modify (potentially user-provided) array\u001b[39;00m\n\u001b[0;32m    820\u001b[0m             values \u001b[38;5;241m=\u001b[39m np\u001b[38;5;241m.\u001b[39mwhere(null_mask, na_value, values)\n\u001b[1;32m--> 822\u001b[0m     codes, uniques \u001b[38;5;241m=\u001b[39m \u001b[43mfactorize_array\u001b[49m\u001b[43m(\u001b[49m\n\u001b[0;32m    823\u001b[0m \u001b[43m        \u001b[49m\u001b[43mvalues\u001b[49m\u001b[43m,\u001b[49m\n\u001b[0;32m    824\u001b[0m \u001b[43m        \u001b[49m\u001b[43mna_sentinel\u001b[49m\u001b[38;5;241;43m=\u001b[39;49m\u001b[43mna_sentinel_arg\u001b[49m\u001b[43m,\u001b[49m\n\u001b[0;32m    825\u001b[0m \u001b[43m        \u001b[49m\u001b[43msize_hint\u001b[49m\u001b[38;5;241;43m=\u001b[39;49m\u001b[43msize_hint\u001b[49m\u001b[43m,\u001b[49m\n\u001b[0;32m    826\u001b[0m \u001b[43m    \u001b[49m\u001b[43m)\u001b[49m\n\u001b[0;32m    828\u001b[0m \u001b[38;5;28;01mif\u001b[39;00m sort \u001b[38;5;129;01mand\u001b[39;00m \u001b[38;5;28mlen\u001b[39m(uniques) \u001b[38;5;241m>\u001b[39m \u001b[38;5;241m0\u001b[39m:\n\u001b[0;32m    829\u001b[0m     \u001b[38;5;28;01mif\u001b[39;00m na_sentinel \u001b[38;5;129;01mis\u001b[39;00m \u001b[38;5;28;01mNone\u001b[39;00m:\n\u001b[0;32m    830\u001b[0m         \u001b[38;5;66;03m# TODO: Can remove when na_sentinel=na_sentinel as in TODO above\u001b[39;00m\n",
      "File \u001b[1;32m~\\anaconda3\\envs\\dojo-env\\lib\\site-packages\\pandas\\core\\algorithms.py:578\u001b[0m, in \u001b[0;36mfactorize_array\u001b[1;34m(values, na_sentinel, size_hint, na_value, mask)\u001b[0m\n\u001b[0;32m    575\u001b[0m hash_klass, values \u001b[38;5;241m=\u001b[39m _get_hashtable_algo(values)\n\u001b[0;32m    577\u001b[0m table \u001b[38;5;241m=\u001b[39m hash_klass(size_hint \u001b[38;5;129;01mor\u001b[39;00m \u001b[38;5;28mlen\u001b[39m(values))\n\u001b[1;32m--> 578\u001b[0m uniques, codes \u001b[38;5;241m=\u001b[39m \u001b[43mtable\u001b[49m\u001b[38;5;241;43m.\u001b[39;49m\u001b[43mfactorize\u001b[49m\u001b[43m(\u001b[49m\n\u001b[0;32m    579\u001b[0m \u001b[43m    \u001b[49m\u001b[43mvalues\u001b[49m\u001b[43m,\u001b[49m\n\u001b[0;32m    580\u001b[0m \u001b[43m    \u001b[49m\u001b[43mna_sentinel\u001b[49m\u001b[38;5;241;43m=\u001b[39;49m\u001b[43mna_sentinel\u001b[49m\u001b[43m,\u001b[49m\n\u001b[0;32m    581\u001b[0m \u001b[43m    \u001b[49m\u001b[43mna_value\u001b[49m\u001b[38;5;241;43m=\u001b[39;49m\u001b[43mna_value\u001b[49m\u001b[43m,\u001b[49m\n\u001b[0;32m    582\u001b[0m \u001b[43m    \u001b[49m\u001b[43mmask\u001b[49m\u001b[38;5;241;43m=\u001b[39;49m\u001b[43mmask\u001b[49m\u001b[43m,\u001b[49m\n\u001b[0;32m    583\u001b[0m \u001b[43m    \u001b[49m\u001b[43mignore_na\u001b[49m\u001b[38;5;241;43m=\u001b[39;49m\u001b[43mignore_na\u001b[49m\u001b[43m,\u001b[49m\n\u001b[0;32m    584\u001b[0m \u001b[43m\u001b[49m\u001b[43m)\u001b[49m\n\u001b[0;32m    586\u001b[0m \u001b[38;5;66;03m# re-cast e.g. i8->dt64/td64, uint8->bool\u001b[39;00m\n\u001b[0;32m    587\u001b[0m uniques \u001b[38;5;241m=\u001b[39m _reconstruct_data(uniques, original\u001b[38;5;241m.\u001b[39mdtype, original)\n",
      "File \u001b[1;32mpandas\\_libs\\hashtable_class_helper.pxi:5943\u001b[0m, in \u001b[0;36mpandas._libs.hashtable.PyObjectHashTable.factorize\u001b[1;34m()\u001b[0m\n",
      "File \u001b[1;32mpandas\\_libs\\hashtable_class_helper.pxi:5857\u001b[0m, in \u001b[0;36mpandas._libs.hashtable.PyObjectHashTable._unique\u001b[1;34m()\u001b[0m\n",
      "\u001b[1;31mTypeError\u001b[0m: unhashable type: 'list'"
     ]
    }
   ],
   "source": [
    "# check for duplicate results\n",
    "final_df.duplicated().sum()"
   ]
  },
  {
   "cell_type": "markdown",
   "id": "aefbe5ac-4d00-441c-aada-3e5d8de2392d",
   "metadata": {},
   "source": [
    "Because our Yelp results include columns that contain lists, we cannot check every column in the dataframe for duplicates.\r\n",
    "Instead, we can use the subset argument for df.duplicated() and df.drop_duplicates() to only check the id column for duplicates.s "
   ]
  },
  {
   "cell_type": "code",
   "execution_count": 54,
   "id": "a5d4644e-e83c-4f64-96e1-5eabb13646a7",
   "metadata": {},
   "outputs": [
    {
     "data": {
      "text/plain": [
       "21"
      ]
     },
     "execution_count": 54,
     "metadata": {},
     "output_type": "execute_result"
    }
   ],
   "source": [
    "# check for duplicate ID's \n",
    "final_df.duplicated(subset='id').sum()"
   ]
  },
  {
   "cell_type": "code",
   "execution_count": 55,
   "id": "342d6c55-70d9-4e62-a278-399d5423f531",
   "metadata": {},
   "outputs": [
    {
     "data": {
      "text/plain": [
       "0"
      ]
     },
     "execution_count": 55,
     "metadata": {},
     "output_type": "execute_result"
    }
   ],
   "source": [
    "## Drop duplicate ids and confirm there are no more duplicates\n",
    "final_df = final_df.drop_duplicates(subset='id')\n",
    "final_df.duplicated(subset='id').sum()"
   ]
  },
  {
   "cell_type": "markdown",
   "id": "77beec2b-1850-431c-bf60-9097c6d06b16",
   "metadata": {},
   "source": [
    "Save the final DataFrame to a .csv (or a .csv.gz if it's too big for the GitHub file size limit)."
   ]
  },
  {
   "cell_type": "code",
   "execution_count": 56,
   "id": "f035b32d-521a-4c7e-a190-994de2885bdd",
   "metadata": {},
   "outputs": [],
   "source": [
    "# save the final results to a compressed csv\n",
    "final_df.to_csv('Data/final_results_in_progress_NO_vegan.csv.gz', compression='gzip',index=False)"
   ]
  },
  {
   "cell_type": "code",
   "execution_count": null,
   "id": "fe057258-be5a-4312-8f11-46f72c086c9b",
   "metadata": {},
   "outputs": [],
   "source": []
  }
 ],
 "metadata": {
  "kernelspec": {
   "display_name": "Python (dojo-env)",
   "language": "python",
   "name": "dojo-env"
  },
  "language_info": {
   "codemirror_mode": {
    "name": "ipython",
    "version": 3
   },
   "file_extension": ".py",
   "mimetype": "text/x-python",
   "name": "python",
   "nbconvert_exporter": "python",
   "pygments_lexer": "ipython3",
   "version": "3.10.10"
  },
  "widgets": {
   "application/vnd.jupyter.widget-state+json": {
    "state": {},
    "version_major": 2,
    "version_minor": 0
   }
  }
 },
 "nbformat": 4,
 "nbformat_minor": 5
}
